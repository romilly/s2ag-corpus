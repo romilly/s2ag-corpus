{
 "cells": [
  {
   "cell_type": "code",
   "execution_count": 1,
   "id": "ae690dfe16a964cd",
   "metadata": {
    "collapsed": false,
    "ExecuteTime": {
     "end_time": "2024-04-22T15:27:33.439897712Z",
     "start_time": "2024-04-22T15:27:33.439547209Z"
    }
   },
   "outputs": [],
   "source": [
    "import os\n",
    "import json\n",
    "from psycopg2.extras import execute_batch\n",
    "from dotenv import load_dotenv\n",
    "\n",
    "from s2ag_corpus.sql import INSERT_PAPER_SQL, CREATE_PAPERS_TABLE_WITH_KEYS"
   ]
  },
  {
   "cell_type": "code",
   "outputs": [],
   "source": [
    "load_dotenv()\n",
    "base_dir = os.getenv(\"BASE_DIR\")"
   ],
   "metadata": {
    "collapsed": true,
    "jupyter": {
     "outputs_hidden": true
    },
    "ExecuteTime": {
     "end_time": "2024-04-22T15:27:33.622303083Z",
     "start_time": "2024-04-22T15:27:33.439673471Z"
    }
   },
   "id": "initial_id",
   "execution_count": 2
  },
  {
   "cell_type": "code",
   "execution_count": 3,
   "id": "dbfb0845a6c75af8",
   "metadata": {
    "collapsed": false,
    "ExecuteTime": {
     "end_time": "2024-04-22T15:27:33.793427635Z",
     "start_time": "2024-04-22T15:27:33.626802686Z"
    }
   },
   "outputs": [],
   "source": [
    "from s2ag_corpus.database_catalogue import local_connection\n",
    "\n",
    "connection = local_connection()\n",
    "\n",
    "def drop_and_replace_papers_table():\n",
    "    with connection.cursor() as cursor:\n",
    "        cursor.execute('drop table if exists papers')\n",
    "        cursor.execute(CREATE_PAPERS_TABLE_WITH_KEYS)"
   ]
  },
  {
   "cell_type": "code",
   "execution_count": 4,
   "id": "8e91f1d718c24f2f",
   "metadata": {
    "collapsed": false,
    "ExecuteTime": {
     "end_time": "2024-04-22T15:27:33.869042340Z",
     "start_time": "2024-04-22T15:27:33.784409401Z"
    }
   },
   "outputs": [],
   "source": [
    "drop_and_replace_papers_table()\n",
    "    "
   ]
  },
  {
   "cell_type": "code",
   "outputs": [],
   "source": [
    "test_file = base_dir+'/2024-04-02/papers/first10000papers'\n",
    "with open(test_file) as f:\n",
    "    jason_dictionaries = [(line, json.loads(line)) for line in f.readlines()]\n",
    "    records = [(jd['corpusid'], line) for  line, jd in jason_dictionaries]\n",
    "    with connection.cursor() as cursor:\n",
    "        execute_batch(cursor, INSERT_PAPER_SQL, records)\n",
    "        connection.commit()\n",
    "    "
   ],
   "metadata": {
    "collapsed": false,
    "ExecuteTime": {
     "end_time": "2024-04-22T15:29:24.179472457Z",
     "start_time": "2024-04-22T15:29:23.546536710Z"
    }
   },
   "id": "13bd70845b07b672",
   "execution_count": 6
  },
  {
   "cell_type": "code",
   "execution_count": null,
   "id": "6c3375ec9fbe0e4d",
   "metadata": {
    "collapsed": false,
    "ExecuteTime": {
     "start_time": "2024-04-22T15:27:34.394443048Z"
    }
   },
   "outputs": [],
   "source": [
    "connection.rollback()"
   ]
  }
 ],
 "metadata": {
  "kernelspec": {
   "display_name": "Python 3 (ipykernel)",
   "language": "python",
   "name": "python3"
  },
  "language_info": {
   "codemirror_mode": {
    "name": "ipython",
    "version": 3
   },
   "file_extension": ".py",
   "mimetype": "text/x-python",
   "name": "python",
   "nbconvert_exporter": "python",
   "pygments_lexer": "ipython3",
   "version": "3.10.12"
  }
 },
 "nbformat": 4,
 "nbformat_minor": 5
}

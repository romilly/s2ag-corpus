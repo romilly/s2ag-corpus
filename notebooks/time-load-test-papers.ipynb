{
 "cells": [
  {
   "cell_type": "code",
   "execution_count": 6,
   "id": "initial_id",
   "metadata": {
    "collapsed": true,
    "ExecuteTime": {
     "end_time": "2024-04-18T13:18:56.474640160Z",
     "start_time": "2024-04-18T13:18:56.315537477Z"
    }
   },
   "outputs": [],
   "source": [
    "import json\n",
    "import csv\n",
    "import os\n",
    "from s2ag_corpus.database_catalogue import CorpusDatabaseCatalogue\n",
    "from s2ag_corpus.database_catalogue import local_connection"
   ]
  },
  {
   "cell_type": "code",
   "outputs": [],
   "source": [
    "from dotenv import load_dotenv\n",
    "load_dotenv()\n",
    "base_dir = os.getenv(\"BASE_DIR\")"
   ],
   "metadata": {
    "collapsed": false,
    "ExecuteTime": {
     "end_time": "2024-04-18T13:18:56.478744708Z",
     "start_time": "2024-04-18T13:18:56.421388968Z"
    }
   },
   "id": "e31c7eceb15d5f82",
   "execution_count": 7
  },
  {
   "cell_type": "code",
   "outputs": [],
   "source": [
    "connection = local_connection()\n",
    "catalogue = CorpusDatabaseCatalogue(local_connection())\n",
    "\n",
    "\n",
    "def delete_papers_from_local_db():\n",
    "    with connection.cursor() as cursor:\n",
    "        cursor.execute('DELETE FROM papers')\n",
    "        connection.commit()\n"
   ],
   "metadata": {
    "collapsed": false,
    "ExecuteTime": {
     "end_time": "2024-04-18T13:18:56.657789143Z",
     "start_time": "2024-04-18T13:18:56.479962368Z"
    }
   },
   "id": "dfcff578e17a7654",
   "execution_count": 8
  },
  {
   "cell_type": "code",
   "outputs": [],
   "source": [
    "delete_papers_from_local_db()"
   ],
   "metadata": {
    "collapsed": false,
    "ExecuteTime": {
     "end_time": "2024-04-18T13:18:56.741666775Z",
     "start_time": "2024-04-18T13:18:56.651988259Z"
    }
   },
   "id": "c34a0e86cc962943",
   "execution_count": 9
  },
  {
   "cell_type": "code",
   "outputs": [],
   "source": [
    "release_id = '2024-04-02'\n",
    "test_dir = f\"{base_dir}/test-data\""
   ],
   "metadata": {
    "collapsed": false,
    "ExecuteTime": {
     "end_time": "2024-04-18T13:18:56.863644244Z",
     "start_time": "2024-04-18T13:18:56.742201647Z"
    }
   },
   "id": "f72d66948124c0fd",
   "execution_count": 10
  },
  {
   "cell_type": "code",
   "outputs": [],
   "source": [
    "def read_records_from_file(file_path):\n",
    "    \"\"\"A generator function that reads a file line by line.\"\"\"\n",
    "    with open(file_path, 'r') as file:\n",
    "        for line in file:\n",
    "            line = line.strip()\n",
    "            jd = json.loads(line)\n",
    "            record = (jd['corpusid'], line)\n",
    "            yield record"
   ],
   "metadata": {
    "collapsed": false,
    "ExecuteTime": {
     "end_time": "2024-04-18T13:18:56.942673873Z",
     "start_time": "2024-04-18T13:18:56.866194646Z"
    }
   },
   "id": "79adaefd5637f7d5",
   "execution_count": 11
  },
  {
   "cell_type": "code",
   "outputs": [],
   "source": [
    "files = os.listdir()"
   ],
   "metadata": {
    "collapsed": false,
    "ExecuteTime": {
     "end_time": "2024-04-18T13:18:57.063105759Z",
     "start_time": "2024-04-18T13:18:56.944308193Z"
    }
   },
   "id": "b654ec9ecc790142",
   "execution_count": 12
  },
  {
   "cell_type": "code",
   "outputs": [
    {
     "name": "stdout",
     "output_type": "stream",
     "text": [
      "processing: 2024-04-02-papers0\n",
      "10000\n",
      "20000\n",
      "30000\n",
      "40000\n",
      "50000\n",
      "60000\n",
      "70000\n",
      "80000\n",
      "90000\n",
      "100000\n",
      "processed: 100000\n",
      "copying from csv file /media/romilly/ss-corpus/test-data/transfer.csv\n",
      "processing: 2024-04-02-papers1\n",
      "10000\n",
      "20000\n",
      "30000\n",
      "40000\n",
      "50000\n",
      "60000\n",
      "70000\n",
      "80000\n",
      "90000\n",
      "100000\n",
      "processed: 100000\n",
      "copying from csv file /media/romilly/ss-corpus/test-data/transfer.csv\n",
      "processing: 2024-04-02-papers2\n",
      "10000\n",
      "20000\n",
      "30000\n",
      "40000\n",
      "50000\n",
      "60000\n",
      "70000\n",
      "80000\n",
      "90000\n",
      "100000\n",
      "processed: 100000\n",
      "copying from csv file /media/romilly/ss-corpus/test-data/transfer.csv\n",
      "processing: 2024-04-02-papers3\n",
      "10000\n",
      "20000\n",
      "30000\n",
      "40000\n",
      "50000\n",
      "60000\n",
      "70000\n",
      "80000\n",
      "90000\n",
      "100000\n",
      "processed: 100000\n",
      "copying from csv file /media/romilly/ss-corpus/test-data/transfer.csv\n",
      "processing: 2024-04-02-papers4\n",
      "10000\n",
      "20000\n",
      "30000\n",
      "40000\n",
      "50000\n",
      "60000\n",
      "70000\n",
      "80000\n",
      "90000\n",
      "100000\n",
      "processed: 100000\n",
      "copying from csv file /media/romilly/ss-corpus/test-data/transfer.csv\n",
      "processing: 2024-04-02-papers5\n",
      "10000\n",
      "20000\n",
      "30000\n",
      "40000\n",
      "50000\n",
      "60000\n",
      "70000\n",
      "80000\n",
      "90000\n",
      "100000\n",
      "processed: 100000\n",
      "copying from csv file /media/romilly/ss-corpus/test-data/transfer.csv\n",
      "processing: 2024-04-02-papers6\n",
      "10000\n",
      "20000\n",
      "30000\n",
      "40000\n",
      "50000\n",
      "60000\n",
      "70000\n",
      "80000\n",
      "90000\n",
      "100000\n",
      "processed: 100000\n",
      "copying from csv file /media/romilly/ss-corpus/test-data/transfer.csv\n",
      "processing: 2024-04-02-papers7\n",
      "10000\n",
      "20000\n",
      "30000\n",
      "40000\n",
      "50000\n",
      "60000\n",
      "70000\n",
      "80000\n",
      "90000\n",
      "100000\n",
      "processed: 100000\n",
      "copying from csv file /media/romilly/ss-corpus/test-data/transfer.csv\n",
      "processing: 2024-04-02-papers8\n",
      "10000\n",
      "20000\n",
      "30000\n",
      "40000\n",
      "50000\n",
      "60000\n",
      "70000\n",
      "80000\n",
      "90000\n",
      "100000\n",
      "processed: 100000\n",
      "copying from csv file /media/romilly/ss-corpus/test-data/transfer.csv\n",
      "processing: 2024-04-02-papers9\n",
      "10000\n",
      "20000\n",
      "30000\n",
      "40000\n",
      "50000\n",
      "60000\n",
      "70000\n",
      "80000\n",
      "90000\n",
      "100000\n",
      "processed: 100000\n",
      "copying from csv file /media/romilly/ss-corpus/test-data/transfer.csv\n",
      "done\n"
     ]
    }
   ],
   "source": [
    "for filename in sorted(os.listdir(test_dir)):\n",
    "    if filename.startswith(\"2024-04-02\"):\n",
    "        print(f\"processing: {filename}\")\n",
    "        transfer_file = f\"{test_dir}/transfer.csv\"\n",
    "        with open(transfer_file,'w') as csvf:\n",
    "            writer = csv.writer(csvf, delimiter=',', quoting=csv.QUOTE_NONE, escapechar='\\\\')\n",
    "            count = 0\n",
    "            for record in read_records_from_file(f\"{test_dir}/{filename}\"):\n",
    "                writer.writerow(record)\n",
    "                count += 1\n",
    "                if 0 == count%10000:\n",
    "                    print(count)\n",
    "        print(f\"processed: {count}\")\n",
    "        print(f\"copying from csv file {transfer_file}\")\n",
    "        with open(transfer_file,'r') as csvf:\n",
    "            with connection.cursor() as cursor:\n",
    "                cursor.copy_from(csvf, 'papers', sep=',', null='')\n",
    "            connection.commit()\n",
    "print('done')\n"
   ],
   "metadata": {
    "collapsed": false,
    "ExecuteTime": {
     "end_time": "2024-04-18T13:21:00.155992610Z",
     "start_time": "2024-04-18T13:19:54.969729224Z"
    }
   },
   "id": "25fca2332b50d605",
   "execution_count": 14
  }
 ],
 "metadata": {
  "kernelspec": {
   "display_name": "Python 3",
   "language": "python",
   "name": "python3"
  },
  "language_info": {
   "codemirror_mode": {
    "name": "ipython",
    "version": 2
   },
   "file_extension": ".py",
   "mimetype": "text/x-python",
   "name": "python",
   "nbconvert_exporter": "python",
   "pygments_lexer": "ipython2",
   "version": "2.7.6"
  }
 },
 "nbformat": 4,
 "nbformat_minor": 5
}

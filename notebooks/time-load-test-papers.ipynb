{
 "cells": [
  {
   "cell_type": "code",
   "execution_count": 1,
   "id": "initial_id",
   "metadata": {
    "collapsed": true,
    "ExecuteTime": {
     "end_time": "2024-04-19T08:10:24.356746551Z",
     "start_time": "2024-04-19T08:10:24.356295987Z"
    }
   },
   "outputs": [],
   "source": [
    "import datetime\n",
    "import json\n",
    "import csv\n",
    "import os\n",
    "from s2ag_corpus.database_catalogue import CorpusDatabaseCatalogue\n",
    "from s2ag_corpus.database_catalogue import local_connection"
   ]
  },
  {
   "cell_type": "code",
   "outputs": [],
   "source": [
    "from dotenv import load_dotenv\n",
    "load_dotenv()\n",
    "base_dir = os.getenv(\"BASE_DIR\")"
   ],
   "metadata": {
    "collapsed": false,
    "ExecuteTime": {
     "end_time": "2024-04-19T08:10:24.460379458Z",
     "start_time": "2024-04-19T08:10:24.356533001Z"
    }
   },
   "id": "e31c7eceb15d5f82",
   "execution_count": 2
  },
  {
   "cell_type": "code",
   "outputs": [],
   "source": [
    "connection = local_connection()\n",
    "catalogue = CorpusDatabaseCatalogue(local_connection())\n",
    "\n",
    "\n",
    "def delete_papers_from_local_db():\n",
    "    with connection.cursor() as cursor:\n",
    "        cursor.execute('DELETE FROM papers')\n",
    "        connection.commit()\n"
   ],
   "metadata": {
    "collapsed": false,
    "ExecuteTime": {
     "end_time": "2024-04-19T08:10:24.641758236Z",
     "start_time": "2024-04-19T08:10:24.461609071Z"
    }
   },
   "id": "dfcff578e17a7654",
   "execution_count": 3
  },
  {
   "cell_type": "code",
   "outputs": [],
   "source": [
    "delete_papers_from_local_db()"
   ],
   "metadata": {
    "collapsed": false,
    "ExecuteTime": {
     "end_time": "2024-04-19T08:13:50.267813546Z",
     "start_time": "2024-04-19T08:10:24.640277695Z"
    }
   },
   "id": "c34a0e86cc962943",
   "execution_count": 4
  },
  {
   "cell_type": "code",
   "outputs": [],
   "source": [
    "release_id = '2024-04-02'\n",
    "test_dir = f\"{base_dir}/test-data\""
   ],
   "metadata": {
    "collapsed": false,
    "ExecuteTime": {
     "end_time": "2024-04-19T08:13:50.308663635Z",
     "start_time": "2024-04-19T08:13:50.308093266Z"
    }
   },
   "id": "f72d66948124c0fd",
   "execution_count": 5
  },
  {
   "cell_type": "code",
   "outputs": [],
   "source": [
    "def read_records_from_file(file_path):\n",
    "    \"\"\"A generator function that returns reformatted lines in a file.\"\"\"\n",
    "    with open(file_path, 'r') as file:\n",
    "        for line in file:\n",
    "            line = line.strip()\n",
    "            jd = json.loads(line)\n",
    "            record = (jd['corpusid'], line)\n",
    "            yield record"
   ],
   "metadata": {
    "collapsed": false,
    "ExecuteTime": {
     "end_time": "2024-04-19T08:13:50.393492145Z",
     "start_time": "2024-04-19T08:13:50.308312909Z"
    }
   },
   "id": "79adaefd5637f7d5",
   "execution_count": 6
  },
  {
   "cell_type": "code",
   "outputs": [],
   "source": [
    "files = os.listdir()"
   ],
   "metadata": {
    "collapsed": false,
    "ExecuteTime": {
     "end_time": "2024-04-19T08:13:50.457155206Z",
     "start_time": "2024-04-19T08:13:50.396090101Z"
    }
   },
   "id": "b654ec9ecc790142",
   "execution_count": 7
  },
  {
   "cell_type": "code",
   "outputs": [
    {
     "name": "stdout",
     "output_type": "stream",
     "text": [
      "processing: 2024-04-02-papers0\n",
      "processed: 1000000\n",
      "copying from csv file /media/romilly/ss-corpus/test-data/transfer.csv\n",
      "loaded: 1000000 in 0:00:15.384123\n",
      "processing: 2024-04-02-papers1\n",
      "processed: 2000000\n",
      "copying from csv file /media/romilly/ss-corpus/test-data/transfer.csv\n",
      "loaded: 2000000 in 0:00:14.340832\n",
      "processing: 2024-04-02-papers10\n",
      "processed: 3000000\n",
      "copying from csv file /media/romilly/ss-corpus/test-data/transfer.csv\n",
      "loaded: 3000000 in 0:00:17.092344\n",
      "processing: 2024-04-02-papers11\n",
      "processed: 4000000\n",
      "copying from csv file /media/romilly/ss-corpus/test-data/transfer.csv\n",
      "loaded: 4000000 in 0:00:17.562724\n",
      "processing: 2024-04-02-papers12\n",
      "processed: 5000000\n",
      "copying from csv file /media/romilly/ss-corpus/test-data/transfer.csv\n",
      "loaded: 5000000 in 0:00:17.620399\n",
      "processing: 2024-04-02-papers13\n",
      "processed: 5810613\n",
      "copying from csv file /media/romilly/ss-corpus/test-data/transfer.csv\n",
      "loaded: 5810613 in 0:00:15.419921\n",
      "processing: 2024-04-02-papers14\n",
      "processed: 6810613\n",
      "copying from csv file /media/romilly/ss-corpus/test-data/transfer.csv\n",
      "loaded: 6810613 in 0:00:17.287213\n",
      "processing: 2024-04-02-papers15\n",
      "processed: 7810613\n",
      "copying from csv file /media/romilly/ss-corpus/test-data/transfer.csv\n",
      "loaded: 7810613 in 0:00:17.333610\n",
      "processing: 2024-04-02-papers16\n",
      "processed: 8810613\n",
      "copying from csv file /media/romilly/ss-corpus/test-data/transfer.csv\n",
      "loaded: 8810613 in 0:00:18.064502\n",
      "processing: 2024-04-02-papers17\n",
      "processed: 9810613\n",
      "copying from csv file /media/romilly/ss-corpus/test-data/transfer.csv\n",
      "loaded: 9810613 in 0:00:17.956954\n",
      "processing: 2024-04-02-papers18\n",
      "processed: 10810613\n",
      "copying from csv file /media/romilly/ss-corpus/test-data/transfer.csv\n",
      "loaded: 10810613 in 0:00:15.764644\n",
      "processing: 2024-04-02-papers19\n",
      "processed: 11810613\n",
      "copying from csv file /media/romilly/ss-corpus/test-data/transfer.csv\n",
      "loaded: 11810613 in 0:00:16.660571\n",
      "processing: 2024-04-02-papers2\n",
      "processed: 12810613\n",
      "copying from csv file /media/romilly/ss-corpus/test-data/transfer.csv\n",
      "loaded: 12810613 in 0:00:17.331584\n",
      "processing: 2024-04-02-papers20\n",
      "processed: 13810613\n",
      "copying from csv file /media/romilly/ss-corpus/test-data/transfer.csv\n",
      "loaded: 13810613 in 0:00:16.568204\n",
      "processing: 2024-04-02-papers21\n",
      "processed: 14810613\n",
      "copying from csv file /media/romilly/ss-corpus/test-data/transfer.csv\n",
      "loaded: 14810613 in 0:00:15.766977\n",
      "processing: 2024-04-02-papers22\n",
      "processed: 15810613\n",
      "copying from csv file /media/romilly/ss-corpus/test-data/transfer.csv\n",
      "loaded: 15810613 in 0:00:15.222149\n",
      "processing: 2024-04-02-papers23\n",
      "processed: 16810613\n",
      "copying from csv file /media/romilly/ss-corpus/test-data/transfer.csv\n",
      "loaded: 16810613 in 0:00:15.757650\n",
      "processing: 2024-04-02-papers24\n",
      "processed: 17810613\n",
      "copying from csv file /media/romilly/ss-corpus/test-data/transfer.csv\n",
      "loaded: 17810613 in 0:00:17.616169\n",
      "processing: 2024-04-02-papers25\n",
      "processed: 18810613\n",
      "copying from csv file /media/romilly/ss-corpus/test-data/transfer.csv\n",
      "loaded: 18810613 in 0:00:18.481225\n",
      "processing: 2024-04-02-papers26\n",
      "processed: 19810613\n",
      "copying from csv file /media/romilly/ss-corpus/test-data/transfer.csv\n",
      "loaded: 19810613 in 0:00:17.190786\n",
      "processing: 2024-04-02-papers27\n",
      "processed: 20810613\n",
      "copying from csv file /media/romilly/ss-corpus/test-data/transfer.csv\n",
      "loaded: 20810613 in 0:00:18.269895\n",
      "processing: 2024-04-02-papers28\n",
      "processed: 21810613\n",
      "copying from csv file /media/romilly/ss-corpus/test-data/transfer.csv\n",
      "loaded: 21810613 in 0:00:17.544210\n",
      "processing: 2024-04-02-papers29\n",
      "processed: 22810613\n",
      "copying from csv file /media/romilly/ss-corpus/test-data/transfer.csv\n",
      "loaded: 22810613 in 0:00:19.214607\n",
      "processing: 2024-04-02-papers3\n",
      "processed: 23810613\n",
      "copying from csv file /media/romilly/ss-corpus/test-data/transfer.csv\n",
      "loaded: 23810613 in 0:00:16.358934\n",
      "processing: 2024-04-02-papers4\n",
      "processed: 24810613\n",
      "copying from csv file /media/romilly/ss-corpus/test-data/transfer.csv\n",
      "loaded: 24810613 in 0:00:17.078866\n",
      "processing: 2024-04-02-papers5\n",
      "processed: 25810613\n",
      "copying from csv file /media/romilly/ss-corpus/test-data/transfer.csv\n",
      "loaded: 25810613 in 0:00:18.344714\n",
      "processing: 2024-04-02-papers6\n",
      "processed: 26810613\n",
      "copying from csv file /media/romilly/ss-corpus/test-data/transfer.csv\n",
      "loaded: 26810613 in 0:00:15.760906\n",
      "processing: 2024-04-02-papers7\n",
      "processed: 27810613\n",
      "copying from csv file /media/romilly/ss-corpus/test-data/transfer.csv\n",
      "loaded: 27810613 in 0:00:15.002613\n",
      "processing: 2024-04-02-papers8\n",
      "processed: 28810613\n",
      "copying from csv file /media/romilly/ss-corpus/test-data/transfer.csv\n",
      "loaded: 28810613 in 0:00:14.476015\n",
      "processing: 2024-04-02-papers9\n",
      "processed: 29810613\n",
      "copying from csv file /media/romilly/ss-corpus/test-data/transfer.csv\n",
      "loaded: 29810613 in 0:00:14.618219\n",
      "done\n"
     ]
    }
   ],
   "source": [
    "count = 0\n",
    "timing_file = open('timing-without_key.csv', 'w')\n",
    "timing_writer = csv.writer(timing_file)\n",
    "timing_writer.writerow(['filename','count','start','end','duration'])\n",
    "for filename in sorted(os.listdir(test_dir)):\n",
    "    if filename.startswith(\"2024-04-02\"):\n",
    "        print(f\"processing: {filename}\")\n",
    "        transfer_file = f\"{test_dir}/transfer.csv\"\n",
    "        start = datetime.datetime.now()\n",
    "        with open(transfer_file,'w') as csvf:\n",
    "            writer = csv.writer(csvf, delimiter=',', quoting=csv.QUOTE_NONE, escapechar='\\\\')\n",
    "            for record in read_records_from_file(f\"{test_dir}/{filename}\"):\n",
    "                writer.writerow(record)\n",
    "                count += 1\n",
    "        print(f\"processed: {count}\")\n",
    "        print(f\"copying from csv file {transfer_file}\")\n",
    "        start = datetime.datetime.now()\n",
    "        with open(transfer_file,'r') as csvf:\n",
    "            with connection.cursor() as cursor:\n",
    "                cursor.copy_from(csvf, 'papers', sep=',', null='')\n",
    "            connection.commit()\n",
    "        end = datetime.datetime.now()\n",
    "        print(f\"loaded: {count} in {end - start}\")\n",
    "        timing_writer.writerow([filename,count,start,end, end-start])\n",
    "timing_file.close()\n",
    "print('done')\n"
   ],
   "metadata": {
    "collapsed": false,
    "ExecuteTime": {
     "end_time": "2024-04-19T08:38:40.555581114Z",
     "start_time": "2024-04-19T08:13:50.461132610Z"
    }
   },
   "id": "25fca2332b50d605",
   "execution_count": 8
  }
 ],
 "metadata": {
  "kernelspec": {
   "display_name": "Python 3",
   "language": "python",
   "name": "python3"
  },
  "language_info": {
   "codemirror_mode": {
    "name": "ipython",
    "version": 2
   },
   "file_extension": ".py",
   "mimetype": "text/x-python",
   "name": "python",
   "nbconvert_exporter": "python",
   "pygments_lexer": "ipython2",
   "version": "2.7.6"
  }
 },
 "nbformat": 4,
 "nbformat_minor": 5
}

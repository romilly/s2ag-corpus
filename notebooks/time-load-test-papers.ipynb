{
 "cells": [
  {
   "cell_type": "code",
   "execution_count": 1,
   "id": "0ba68e2f-9be1-4565-ae00-87d9280fdc52",
   "metadata": {},
   "outputs": [],
   "source": [
    "import sys\n",
    "sys.path.append('../src')\n"
   ]
  },
  {
   "cell_type": "code",
   "execution_count": 2,
   "id": "initial_id",
   "metadata": {
    "ExecuteTime": {
     "end_time": "2024-04-19T08:10:24.356746551Z",
     "start_time": "2024-04-19T08:10:24.356295987Z"
    }
   },
   "outputs": [],
   "source": [
    "from datetime import datetime\n",
    "import json\n",
    "import csv\n",
    "import os\n",
    "import socket\n",
    "\n",
    "from s2ag_corpus.database_catalogue import CorpusDatabaseCatalogue\n",
    "from s2ag_corpus.database_catalogue import local_connection"
   ]
  },
  {
   "cell_type": "code",
   "execution_count": 3,
   "id": "e31c7eceb15d5f82",
   "metadata": {
    "ExecuteTime": {
     "end_time": "2024-04-19T08:10:24.460379458Z",
     "start_time": "2024-04-19T08:10:24.356533001Z"
    },
    "collapsed": false,
    "jupyter": {
     "outputs_hidden": false
    }
   },
   "outputs": [],
   "source": [
    "from dotenv import load_dotenv\n",
    "load_dotenv()\n",
    "base_dir = os.getenv(\"BASE_DIR\")"
   ]
  },
  {
   "cell_type": "code",
   "execution_count": 4,
   "id": "f6dda6442dd01088",
   "metadata": {
    "ExecuteTime": {
     "end_time": "2024-04-20T05:58:15.410875877Z",
     "start_time": "2024-04-20T05:58:15.404901011Z"
    },
    "collapsed": false,
    "jupyter": {
     "outputs_hidden": false
    }
   },
   "outputs": [],
   "source": [
    "hostname = socket.gethostname()"
   ]
  },
  {
   "cell_type": "code",
   "execution_count": 5,
   "id": "dfcff578e17a7654",
   "metadata": {
    "ExecuteTime": {
     "end_time": "2024-04-19T08:10:24.641758236Z",
     "start_time": "2024-04-19T08:10:24.461609071Z"
    },
    "collapsed": false,
    "jupyter": {
     "outputs_hidden": false
    }
   },
   "outputs": [],
   "source": [
    "connection = local_connection()\n",
    "catalogue = CorpusDatabaseCatalogue(local_connection())\n",
    "\n",
    "\n",
    "def delete_papers_from_local_db():\n",
    "    with connection.cursor() as cursor:\n",
    "        cursor.execute('DELETE FROM papers')\n",
    "        connection.commit()\n"
   ]
  },
  {
   "cell_type": "code",
   "execution_count": 6,
   "id": "c34a0e86cc962943",
   "metadata": {
    "ExecuteTime": {
     "end_time": "2024-04-19T08:13:50.267813546Z",
     "start_time": "2024-04-19T08:10:24.640277695Z"
    },
    "collapsed": false,
    "jupyter": {
     "outputs_hidden": false
    }
   },
   "outputs": [],
   "source": [
    "delete_papers_from_local_db()"
   ]
  },
  {
   "cell_type": "code",
   "execution_count": 7,
   "id": "f72d66948124c0fd",
   "metadata": {
    "ExecuteTime": {
     "end_time": "2024-04-19T08:13:50.308663635Z",
     "start_time": "2024-04-19T08:13:50.308093266Z"
    },
    "collapsed": false,
    "jupyter": {
     "outputs_hidden": false
    }
   },
   "outputs": [],
   "source": [
    "release_id = '2024-04-02'\n",
    "test_dir = f\"{base_dir}/test-data\""
   ]
  },
  {
   "cell_type": "code",
   "execution_count": 8,
   "id": "79adaefd5637f7d5",
   "metadata": {
    "ExecuteTime": {
     "end_time": "2024-04-19T08:13:50.393492145Z",
     "start_time": "2024-04-19T08:13:50.308312909Z"
    },
    "collapsed": false,
    "jupyter": {
     "outputs_hidden": false
    }
   },
   "outputs": [],
   "source": [
    "def read_records_from_file(file_path):\n",
    "    \"\"\"A generator function that returns reformatted lines in a file.\"\"\"\n",
    "    with open(file_path, 'r') as file:\n",
    "        for line in file:\n",
    "            line = line.strip()\n",
    "            jd = json.loads(line)\n",
    "            record = (jd['corpusid'], line)\n",
    "            yield record"
   ]
  },
  {
   "cell_type": "code",
   "execution_count": 9,
   "id": "b654ec9ecc790142",
   "metadata": {
    "ExecuteTime": {
     "end_time": "2024-04-19T08:13:50.457155206Z",
     "start_time": "2024-04-19T08:13:50.396090101Z"
    },
    "collapsed": false,
    "jupyter": {
     "outputs_hidden": false
    }
   },
   "outputs": [],
   "source": [
    "files = os.listdir()"
   ]
  },
  {
   "cell_type": "code",
   "execution_count": 10,
   "id": "25fca2332b50d605",
   "metadata": {
    "ExecuteTime": {
     "end_time": "2024-04-19T08:38:40.555581114Z",
     "start_time": "2024-04-19T08:13:50.461132610Z"
    },
    "collapsed": false,
    "jupyter": {
     "outputs_hidden": false
    }
   },
   "outputs": [
    {
     "name": "stdout",
     "output_type": "stream",
     "text": [
      "processing: 2024-04-02-papers000 at 2024-04-20 09:05:07.149633\n",
      "processed: 1000000 at 2024-04-20 09:05:47.061821\n",
      "copying from csv file /home/romilly/data/ss-corpus/test-data/transfer.csv\n",
      "loaded: 1000000 in 0:01:46.086628\n",
      "processing: 2024-04-02-papers001 at 2024-04-20 09:07:33.148859\n",
      "processed: 2000000 at 2024-04-20 09:09:10.462125\n",
      "copying from csv file /home/romilly/data/ss-corpus/test-data/transfer.csv\n",
      "loaded: 2000000 in 0:00:55.963326\n",
      "processing: 2024-04-02-papers002 at 2024-04-20 09:10:06.425716\n",
      "processed: 3000000 at 2024-04-20 09:12:34.862762\n",
      "copying from csv file /home/romilly/data/ss-corpus/test-data/transfer.csv\n",
      "loaded: 3000000 in 0:01:49.794610\n",
      "processing: 2024-04-02-papers003 at 2024-04-20 09:14:24.657636\n",
      "processed: 4000000 at 2024-04-20 09:17:35.724016\n",
      "copying from csv file /home/romilly/data/ss-corpus/test-data/transfer.csv\n",
      "loaded: 4000000 in 0:01:48.428091\n",
      "processing: 2024-04-02-papers004 at 2024-04-20 09:19:24.152399\n",
      "processed: 5000000 at 2024-04-20 09:22:13.369785\n",
      "copying from csv file /home/romilly/data/ss-corpus/test-data/transfer.csv\n",
      "loaded: 5000000 in 0:01:20.664183\n",
      "done\n"
     ]
    }
   ],
   "source": [
    "count = 0\n",
    "session_start = datetime.now()\n",
    "timing_file = open(f'timing-without_key-{hostname}-{session_start}.csv', 'w')\n",
    "timing_writer = csv.writer(timing_file)\n",
    "timing_writer.writerow(['filename','count','start','end','duration'])\n",
    "for filename in sorted(os.listdir(test_dir)):\n",
    "    if filename.startswith(\"2024-04-02\"):\n",
    "        print(f\"processing: {filename} at {datetime.now()}\")\n",
    "        transfer_file = f\"{test_dir}/transfer.csv\"\n",
    "        start = datetime.now()\n",
    "        with open(transfer_file,'w') as csvf:\n",
    "            writer = csv.writer(csvf, delimiter=',', quoting=csv.QUOTE_NONE, escapechar='\\\\')\n",
    "            for record in read_records_from_file(f\"{test_dir}/{filename}\"):\n",
    "                writer.writerow(record)\n",
    "                count += 1\n",
    "        print(f\"processed: {count} at {datetime.now()}\")\n",
    "        print(f\"copying from csv file {transfer_file}\")\n",
    "        start = datetime.now()\n",
    "        with open(transfer_file,'r') as csvf:\n",
    "            with connection.cursor() as cursor:\n",
    "                cursor.copy_from(csvf, 'papers', sep=',', null='')\n",
    "            connection.commit()\n",
    "        end = datetime.now()\n",
    "        print(f\"loaded: {count} in {end - start}\")\n",
    "        timing_writer.writerow([filename,count,start,end, end-start])\n",
    "timing_file.close()\n",
    "print('done')\n"
   ]
  }
 ],
 "metadata": {
  "kernelspec": {
   "display_name": "Python 3 (ipykernel)",
   "language": "python",
   "name": "python3"
  },
  "language_info": {
   "codemirror_mode": {
    "name": "ipython",
    "version": 3
   },
   "file_extension": ".py",
   "mimetype": "text/x-python",
   "name": "python",
   "nbconvert_exporter": "python",
   "pygments_lexer": "ipython3",
   "version": "3.11.2"
  }
 },
 "nbformat": 4,
 "nbformat_minor": 5
}

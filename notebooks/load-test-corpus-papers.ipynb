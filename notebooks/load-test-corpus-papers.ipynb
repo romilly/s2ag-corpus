{
 "cells": [
  {
   "cell_type": "code",
   "execution_count": 1,
   "id": "initial_id",
   "metadata": {
    "collapsed": true,
    "jupyter": {
     "outputs_hidden": true
    },
    "ExecuteTime": {
     "end_time": "2024-04-16T13:32:02.854043201Z",
     "start_time": "2024-04-16T13:32:02.703936837Z"
    }
   },
   "outputs": [],
   "source": [
    "import os\n",
    "import json\n",
    "from s2ag_corpus.sql import INSERT_PAPER_SQL\n",
    "\n",
    "\n",
    "from dotenv import load_dotenv\n",
    "load_dotenv()\n",
    "base_dir = os.getenv(\"BASE_DIR\")"
   ]
  },
  {
   "cell_type": "code",
   "execution_count": 2,
   "id": "dbfb0845a6c75af8",
   "metadata": {
    "collapsed": false,
    "ExecuteTime": {
     "end_time": "2024-04-16T13:32:04.695194761Z",
     "start_time": "2024-04-16T13:32:04.129565474Z"
    }
   },
   "outputs": [],
   "source": [
    "from s2ag_corpus.database_catalogue import test_connection\n",
    "\n",
    "connection = test_connection()\n",
    "\n",
    "def delete_papers_from_test_db():\n",
    "    with connection.cursor() as cursor:\n",
    "        cursor.execute('DELETE FROM papers')\n",
    "        connection.commit()"
   ]
  },
  {
   "cell_type": "code",
   "execution_count": 3,
   "id": "8e91f1d718c24f2f",
   "metadata": {
    "collapsed": false,
    "ExecuteTime": {
     "end_time": "2024-04-16T13:32:09.002950279Z",
     "start_time": "2024-04-16T13:32:08.994464065Z"
    }
   },
   "outputs": [],
   "source": [
    "delete_papers_from_test_db()\n",
    "    "
   ]
  },
  {
   "cell_type": "markdown",
   "id": "1e2ab23620c99356",
   "metadata": {
    "collapsed": false
   },
   "source": [
    "# I'm going to delete the rows and time an insertion of 10000 papers"
   ]
  },
  {
   "cell_type": "code",
   "execution_count": 4,
   "id": "3234945969f4df4d",
   "metadata": {
    "ExecuteTime": {
     "end_time": "2024-04-13T07:22:03.213561197Z",
     "start_time": "2024-04-13T07:22:03.105495356Z"
    },
    "collapsed": false
   },
   "outputs": [],
   "source": [
    "connection.rollback()"
   ]
  },
  {
   "cell_type": "code",
   "outputs": [],
   "source": [
    "test_file = base_dir+'/2024-04-02/papers/first10000papers'"
   ],
   "metadata": {
    "collapsed": false,
    "ExecuteTime": {
     "end_time": "2024-04-16T13:34:46.199010906Z",
     "start_time": "2024-04-16T13:34:46.105602603Z"
    }
   },
   "id": "13bd70845b07b672",
   "execution_count": 5
  },
  {
   "cell_type": "code",
   "execution_count": 7,
   "id": "a31a08318f39ac5b",
   "metadata": {
    "collapsed": false,
    "ExecuteTime": {
     "end_time": "2024-04-16T13:45:55.169331304Z",
     "start_time": "2024-04-16T13:44:21.280001720Z"
    }
   },
   "outputs": [],
   "source": [
    "with open(test_file) as f:\n",
    "    with connection.cursor() as cursor:\n",
    "        for line in f:\n",
    "            line = line.strip()\n",
    "            # print(line)\n",
    "            lj = json.loads(line)\n",
    "            corpus_id = lj['corpusid']\n",
    "            cursor.execute(INSERT_PAPER_SQL, (corpus_id, line))\n",
    "            connection.commit()\n",
    "    "
   ]
  },
  {
   "cell_type": "code",
   "execution_count": 6,
   "id": "257504b7b88f421f",
   "metadata": {
    "ExecuteTime": {
     "end_time": "2024-04-13T07:22:45.519808309Z",
     "start_time": "2024-04-13T07:22:45.507637040Z"
    },
    "collapsed": false
   },
   "outputs": [],
   "source": [
    "delete_papers_from_test_db()"
   ]
  },
  {
   "cell_type": "code",
   "execution_count": 7,
   "id": "a3821d4de3971673",
   "metadata": {
    "ExecuteTime": {
     "end_time": "2024-04-13T07:23:07.065418006Z",
     "start_time": "2024-04-13T07:22:45.523438480Z"
    },
    "collapsed": false
   },
   "outputs": [],
   "source": [
    "with open(base_dir+'/papers/first10000papers') as f:\n",
    "    with connection.cursor() as cursor:\n",
    "        for line in f:\n",
    "            line = line.strip()\n",
    "            lj = json.loads(line)\n",
    "            corpus_id = lj['corpusid']\n",
    "            cursor.execute(INSERT_PAPER_SQL, (corpus_id, line))\n",
    "    connection.commit()"
   ]
  },
  {
   "cell_type": "code",
   "execution_count": 8,
   "id": "2b4ec8f97cb008dc",
   "metadata": {
    "ExecuteTime": {
     "end_time": "2024-04-13T07:23:07.117025154Z",
     "start_time": "2024-04-13T07:23:07.099556248Z"
    },
    "collapsed": false
   },
   "outputs": [],
   "source": [
    "delete_papers_from_test_db()"
   ]
  },
  {
   "cell_type": "code",
   "execution_count": 9,
   "id": "14d395e47f9713c3",
   "metadata": {
    "ExecuteTime": {
     "end_time": "2024-04-13T07:23:07.203745155Z",
     "start_time": "2024-04-13T07:23:07.111607362Z"
    },
    "collapsed": false
   },
   "outputs": [],
   "source": [
    "from s2ag_corpus.database_catalogue import CorpusDatabaseCatalogue\n",
    "catalogue = CorpusDatabaseCatalogue(test_connection())"
   ]
  },
  {
   "cell_type": "code",
   "execution_count": 10,
   "id": "44bc7a15a3d81fba",
   "metadata": {
    "ExecuteTime": {
     "end_time": "2024-04-13T07:23:20.848089771Z",
     "start_time": "2024-04-13T07:23:07.206720278Z"
    },
    "collapsed": false
   },
   "outputs": [],
   "source": [
    "with open(base_dir + '/papers/first10000papers') as f:\n",
    "    jason_dictionaries = [(line, json.loads(line)) for line in f.readlines()]\n",
    "    records = [(jd['corpusid'], line) for  line, jd in jason_dictionaries]\n",
    "catalogue.upsert(INSERT_PAPER_SQL, records)"
   ]
  },
  {
   "cell_type": "code",
   "execution_count": 11,
   "id": "e402a9149af1f73b",
   "metadata": {
    "ExecuteTime": {
     "end_time": "2024-04-13T07:23:20.856461506Z",
     "start_time": "2024-04-13T07:23:20.855225438Z"
    },
    "collapsed": false
   },
   "outputs": [],
   "source": [
    "import csv"
   ]
  },
  {
   "cell_type": "code",
   "execution_count": 12,
   "id": "761addd9fcab8116",
   "metadata": {
    "ExecuteTime": {
     "end_time": "2024-04-13T07:23:24.047953907Z",
     "start_time": "2024-04-13T07:23:20.858272737Z"
    },
    "collapsed": false
   },
   "outputs": [],
   "source": [
    "with open(base_dir + '/papers/first10000papers') as f:\n",
    "    jason_dictionaries = [(line, json.loads(line)) for line in f.readlines()]\n",
    "    records = [(jd['corpusid'], line.strip()) for  line, jd in jason_dictionaries]\n",
    "    with open(base_dir+'/first10000papers.csv','w') as csvf:\n",
    "        writer = csv.writer(csvf, delimiter=',', quoting=csv.QUOTE_NONE, escapechar='\\\\')\n",
    "        for record in records:\n",
    "            writer.writerow(record)"
   ]
  },
  {
   "cell_type": "code",
   "execution_count": 13,
   "id": "1866280b9d4c0ec",
   "metadata": {
    "ExecuteTime": {
     "end_time": "2024-04-13T07:23:24.095928590Z",
     "start_time": "2024-04-13T07:23:24.051833687Z"
    },
    "collapsed": false
   },
   "outputs": [],
   "source": [
    "delete_papers_from_test_db()"
   ]
  },
  {
   "cell_type": "code",
   "execution_count": 14,
   "id": "bb990d333814065",
   "metadata": {
    "ExecuteTime": {
     "end_time": "2024-04-13T07:23:35.904939809Z",
     "start_time": "2024-04-13T07:23:24.098392053Z"
    },
    "collapsed": false
   },
   "outputs": [],
   "source": [
    "with open(base_dir+'/papers/first10000papers.csv','r') as csvf:\n",
    "    with connection.cursor() as cursor:\n",
    "        cursor.copy_from(csvf, 'papers', sep=',', null='')\n",
    "    connection.commit()"
   ]
  },
  {
   "cell_type": "code",
   "execution_count": 15,
   "id": "6c3375ec9fbe0e4d",
   "metadata": {
    "ExecuteTime": {
     "end_time": "2024-04-13T07:23:35.948985709Z",
     "start_time": "2024-04-13T07:23:35.947722012Z"
    },
    "collapsed": false
   },
   "outputs": [],
   "source": [
    "connection.rollback()"
   ]
  },
  {
   "cell_type": "code",
   "execution_count": 15,
   "id": "b5f0cd587f414542",
   "metadata": {
    "ExecuteTime": {
     "end_time": "2024-04-13T07:23:35.949874194Z",
     "start_time": "2024-04-13T07:23:35.947992840Z"
    },
    "collapsed": false
   },
   "outputs": [],
   "source": []
  }
 ],
 "metadata": {
  "kernelspec": {
   "display_name": "Python 3 (ipykernel)",
   "language": "python",
   "name": "python3"
  },
  "language_info": {
   "codemirror_mode": {
    "name": "ipython",
    "version": 3
   },
   "file_extension": ".py",
   "mimetype": "text/x-python",
   "name": "python",
   "nbconvert_exporter": "python",
   "pygments_lexer": "ipython3",
   "version": "3.10.12"
  }
 },
 "nbformat": 4,
 "nbformat_minor": 5
}

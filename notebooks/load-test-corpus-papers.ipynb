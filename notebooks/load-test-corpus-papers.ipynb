{
 "cells": [
  {
   "cell_type": "code",
   "execution_count": 5,
   "id": "initial_id",
   "metadata": {
    "collapsed": true,
    "ExecuteTime": {
     "end_time": "2024-04-12T12:19:25.963351487Z",
     "start_time": "2024-04-12T12:19:25.883539650Z"
    }
   },
   "outputs": [],
   "source": [
    "import json\n",
    "from s2ag_corpus.sql import INSERT_PAPER_SQL\n",
    "\n",
    "base_dir = '/media/romilly/ss-corpus/2024-04-02/papers'"
   ]
  },
  {
   "cell_type": "code",
   "outputs": [],
   "source": [
    "from s2ag_corpus.database_catalogue import test_connection\n",
    "\n",
    "connection = test_connection()\n",
    "\n",
    "def delete_papers_from_test_db():\n",
    "    with connection.cursor() as cursor:\n",
    "        cursor.execute('DELETE FROM papers')\n",
    "        connection.commit()"
   ],
   "metadata": {
    "collapsed": false,
    "ExecuteTime": {
     "end_time": "2024-04-13T06:45:49.262541012Z",
     "start_time": "2024-04-13T06:45:49.176482314Z"
    }
   },
   "id": "dbfb0845a6c75af8",
   "execution_count": 20
  },
  {
   "cell_type": "code",
   "outputs": [],
   "source": [
    "delete_papers_from_test_db()\n",
    "    "
   ],
   "metadata": {
    "collapsed": false,
    "ExecuteTime": {
     "end_time": "2024-04-13T06:46:38.240468803Z",
     "start_time": "2024-04-13T06:46:38.060062750Z"
    }
   },
   "id": "8e91f1d718c24f2f",
   "execution_count": 21
  },
  {
   "cell_type": "markdown",
   "source": [
    "# I'm going to delete the rows and time an insertion of 10000 papers"
   ],
   "metadata": {
    "collapsed": false
   },
   "id": "1e2ab23620c99356"
  },
  {
   "cell_type": "code",
   "outputs": [],
   "source": [
    "connection.rollback()"
   ],
   "metadata": {
    "collapsed": false,
    "ExecuteTime": {
     "end_time": "2024-04-12T12:19:30.391133350Z",
     "start_time": "2024-04-12T12:19:30.388454673Z"
    }
   },
   "id": "3234945969f4df4d",
   "execution_count": 8
  },
  {
   "cell_type": "code",
   "outputs": [],
   "source": [
    "with open(base_dir+'/first10000papers') as f:\n",
    "    with connection.cursor() as cursor:\n",
    "        for line in f:\n",
    "            line = line.strip()\n",
    "            # print(line)\n",
    "            lj = json.loads(line)\n",
    "            corpus_id = lj['corpusid']\n",
    "            sha = lj['url'][-40:]\n",
    "            cursor.execute(INSERT_PAPER_SQL, (corpus_id, sha, line))\n",
    "            connection.commit()\n",
    "    "
   ],
   "metadata": {
    "collapsed": false,
    "ExecuteTime": {
     "end_time": "2024-04-13T06:47:35.667807809Z",
     "start_time": "2024-04-13T06:46:52.931557156Z"
    }
   },
   "id": "a31a08318f39ac5b",
   "execution_count": 22
  },
  {
   "cell_type": "code",
   "outputs": [],
   "source": [
    "delete_papers_from_test_db()"
   ],
   "metadata": {
    "collapsed": false,
    "ExecuteTime": {
     "end_time": "2024-04-13T06:50:04.634615896Z",
     "start_time": "2024-04-13T06:50:04.572382694Z"
    }
   },
   "id": "257504b7b88f421f",
   "execution_count": 23
  },
  {
   "cell_type": "code",
   "outputs": [],
   "source": [
    "with open(base_dir+'/first10000papers') as f:\n",
    "    with connection.cursor() as cursor:\n",
    "        for line in f:\n",
    "            line = line.strip()\n",
    "            # print(line)\n",
    "            lj = json.loads(line)\n",
    "            corpus_id = lj['corpusid']\n",
    "            sha = lj['url'][-40:]\n",
    "            cursor.execute(INSERT_PAPER_SQL, (corpus_id, sha, line))\n",
    "    connection.commit()"
   ],
   "metadata": {
    "collapsed": false,
    "ExecuteTime": {
     "end_time": "2024-04-13T06:50:33.867069218Z",
     "start_time": "2024-04-13T06:50:11.914789701Z"
    }
   },
   "id": "a3821d4de3971673",
   "execution_count": 24
  },
  {
   "cell_type": "code",
   "outputs": [],
   "source": [
    "delete_papers_from_test_db()"
   ],
   "metadata": {
    "collapsed": false,
    "ExecuteTime": {
     "end_time": "2024-04-13T06:51:56.429542771Z",
     "start_time": "2024-04-13T06:51:56.165814498Z"
    }
   },
   "id": "2b4ec8f97cb008dc",
   "execution_count": 25
  },
  {
   "cell_type": "code",
   "outputs": [],
   "source": [
    "from s2ag_corpus.database_catalogue import CorpusDatabaseCatalogue\n",
    "catalogue = CorpusDatabaseCatalogue(test_connection())"
   ],
   "metadata": {
    "collapsed": false,
    "ExecuteTime": {
     "end_time": "2024-04-13T06:51:58.586899332Z",
     "start_time": "2024-04-13T06:51:58.556523540Z"
    }
   },
   "id": "14d395e47f9713c3",
   "execution_count": 26
  },
  {
   "cell_type": "code",
   "outputs": [],
   "source": [
    "with open(base_dir + '/first10000papers') as f:\n",
    "    jason_dictionaries = [(line, json.loads(line)) for line in f.readlines()]\n",
    "    records = [(jd['corpusid'], jd['url'][-40:], line) for  line, jd in jason_dictionaries]\n",
    "catalogue.upsert(INSERT_PAPER_SQL, records)"
   ],
   "metadata": {
    "collapsed": false,
    "ExecuteTime": {
     "end_time": "2024-04-13T06:52:14.842023439Z",
     "start_time": "2024-04-13T06:52:01.533748428Z"
    }
   },
   "id": "44bc7a15a3d81fba",
   "execution_count": 27
  },
  {
   "cell_type": "code",
   "outputs": [],
   "source": [],
   "metadata": {
    "collapsed": false,
    "ExecuteTime": {
     "end_time": "2024-04-12T13:34:19.257847701Z",
     "start_time": "2024-04-12T13:34:19.176881712Z"
    }
   },
   "id": "761addd9fcab8116",
   "execution_count": 15
  },
  {
   "cell_type": "code",
   "outputs": [],
   "source": [],
   "metadata": {
    "collapsed": false,
    "ExecuteTime": {
     "end_time": "2024-04-12T13:34:20.639643477Z",
     "start_time": "2024-04-12T13:34:20.586809671Z"
    }
   },
   "id": "bb990d333814065",
   "execution_count": 16
  },
  {
   "cell_type": "code",
   "outputs": [],
   "source": [],
   "metadata": {
    "collapsed": false,
    "ExecuteTime": {
     "end_time": "2024-04-12T13:35:52.993709400Z",
     "start_time": "2024-04-12T13:35:40.460650008Z"
    }
   },
   "id": "6c3375ec9fbe0e4d",
   "execution_count": 18
  }
 ],
 "metadata": {
  "kernelspec": {
   "display_name": "Python 3",
   "language": "python",
   "name": "python3"
  },
  "language_info": {
   "codemirror_mode": {
    "name": "ipython",
    "version": 2
   },
   "file_extension": ".py",
   "mimetype": "text/x-python",
   "name": "python",
   "nbconvert_exporter": "python",
   "pygments_lexer": "ipython2",
   "version": "2.7.6"
  }
 },
 "nbformat": 4,
 "nbformat_minor": 5
}

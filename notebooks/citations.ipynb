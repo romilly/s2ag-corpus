{
 "cells": [
  {
   "cell_type": "code",
   "execution_count": null,
   "id": "694c85b0428bee7b",
   "metadata": {
    "collapsed": false
   },
   "outputs": [],
   "source": [
    "import subprocess\n",
    "from s2ag_corpus.database_catalogue import CorpusDatabaseCatalogue, production_connection\n",
    "from s2ag_corpus.dot_writer import write_dot_file\n",
    "connection = production_connection()\n",
    "catalogue = CorpusDatabaseCatalogue(connection)"
   ]
  },
  {
   "cell_type": "code",
   "outputs": [],
   "source": [
    "sha = 'paper of interest'\n",
    "name = 'name of your choice'\n",
    "id = catalogue.find_corpus_id_from(sha)\n",
    "enriched_links = catalogue.enriched_links(id, influential=False)\n",
    "write_dot_file(enriched_links, f'citations/{name}.dot')"
   ],
   "metadata": {
    "collapsed": false,
    "is_executing": true,
    "ExecuteTime": {
     "start_time": "2024-05-28T08:02:40.852000671Z"
    }
   },
   "id": "45f7bc3941aefcf7",
   "execution_count": 0
  },
  {
   "cell_type": "code",
   "outputs": [],
   "source": [
    "command = ['dot', '-Tsvg', f'citations/{name}.dot', '-o', f'citations/{name}.svg']\n",
    "result = subprocess.run(command, capture_output=True, text=True)\n",
    "if result.returncode == 0:\n",
    "    print(\"svg file created.\")\n",
    "else:\n",
    "    print(\"Error in creating svg file:\")\n",
    "    print(result.stderr)\n"
   ],
   "metadata": {
    "collapsed": true,
    "is_executing": true
   },
   "id": "initial_id",
   "execution_count": null
  },
  {
   "cell_type": "code",
   "outputs": [],
   "source": [
    "connection.rollback()"
   ],
   "metadata": {
    "collapsed": false,
    "is_executing": true
   },
   "id": "2c7a5e7970fca2df",
   "execution_count": null
  },
  {
   "cell_type": "code",
   "outputs": [],
   "source": [],
   "metadata": {
    "collapsed": false,
    "is_executing": true
   },
   "id": "daff32c64d5d2965"
  }
 ],
 "metadata": {
  "kernelspec": {
   "display_name": "Python 3",
   "language": "python",
   "name": "python3"
  },
  "language_info": {
   "codemirror_mode": {
    "name": "ipython",
    "version": 2
   },
   "file_extension": ".py",
   "mimetype": "text/x-python",
   "name": "python",
   "nbconvert_exporter": "python",
   "pygments_lexer": "ipython2",
   "version": "2.7.6"
  }
 },
 "nbformat": 4,
 "nbformat_minor": 5
}

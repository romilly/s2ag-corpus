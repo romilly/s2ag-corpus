{
 "cells": [
  {
   "cell_type": "code",
   "execution_count": 1,
   "id": "ae690dfe16a964cd",
   "metadata": {
    "collapsed": false,
    "ExecuteTime": {
     "end_time": "2024-04-24T15:20:46.063995454Z",
     "start_time": "2024-04-24T15:20:46.063624290Z"
    }
   },
   "outputs": [],
   "source": [
    "import os\n",
    "import json\n",
    "import csv\n",
    "from io import StringIO\n",
    "\n",
    "from dotenv import load_dotenv\n",
    "\n",
    "from s2ag_corpus.sql import CREATE_PAPERS_TABLE_WITHOUT_KEYS, ADD_KEY_TO_PAPERS"
   ]
  },
  {
   "cell_type": "code",
   "outputs": [],
   "source": [
    "load_dotenv()\n",
    "base_dir = os.getenv(\"BASE_DIR\")"
   ],
   "metadata": {
    "collapsed": true,
    "jupyter": {
     "outputs_hidden": true
    },
    "ExecuteTime": {
     "end_time": "2024-04-24T15:20:46.120809960Z",
     "start_time": "2024-04-24T15:20:46.063754912Z"
    }
   },
   "id": "initial_id",
   "execution_count": 2
  },
  {
   "cell_type": "code",
   "outputs": [],
   "source": [
    "from s2ag_corpus.database_catalogue import production_connection\n",
    "\n",
    "connection = production_connection()\n",
    "\n",
    "release_id = '2024-04-02'\n",
    "papers_dir = f\"{base_dir}/{release_id}/papers/\""
   ],
   "metadata": {
    "collapsed": false,
    "ExecuteTime": {
     "end_time": "2024-04-24T15:20:46.203400104Z",
     "start_time": "2024-04-24T15:20:46.122714324Z"
    }
   },
   "id": "3e5603eb3e4ec619",
   "execution_count": 3
  },
  {
   "cell_type": "code",
   "execution_count": 4,
   "id": "dbfb0845a6c75af8",
   "metadata": {
    "collapsed": false,
    "ExecuteTime": {
     "end_time": "2024-04-24T15:20:47.372619716Z",
     "start_time": "2024-04-24T15:20:46.205170237Z"
    }
   },
   "outputs": [],
   "source": [
    "with connection.cursor() as cursor:\n",
    "    cursor.execute(CREATE_PAPERS_TABLE_WITHOUT_KEYS)"
   ]
  },
  {
   "cell_type": "code",
   "outputs": [],
   "source": [
    "def read_records_from_file(file_path):\n",
    "    \"\"\"A generator function that returns reformatted lines in a file.\"\"\"\n",
    "    output = StringIO()\n",
    "    writer = csv.writer(output, delimiter=',', quoting=csv.QUOTE_NONE, escapechar='\\\\')\n",
    "    with open(file_path, 'r') as file:\n",
    "        for line in file:\n",
    "            line = line.strip()\n",
    "            jd = json.loads(line)\n",
    "            record = (jd['corpusid'], line)\n",
    "            output.seek(0)\n",
    "            output.truncate(0)\n",
    "            writer.writerow(record)\n",
    "            yield output.getvalue()"
   ],
   "metadata": {
    "collapsed": false,
    "ExecuteTime": {
     "end_time": "2024-04-24T15:20:47.380165628Z",
     "start_time": "2024-04-24T15:20:47.378769891Z"
    }
   },
   "id": "dc5087f7aacebf39",
   "execution_count": 5
  },
  {
   "cell_type": "code",
   "outputs": [],
   "source": [
    "class GeneratorFileAdapter:\n",
    "    def __init__(self, generator):\n",
    "        self.generator = generator\n",
    "        self.buffer = ''\n",
    "        self.count = 0\n",
    "\n",
    "    def read(self, size=-1):\n",
    "        # Fill the buffer to meet the size requirement or if size is -1 then try to exhaust the generator\n",
    "        while (size < 0 or len(self.buffer) < size) and (chunk := next(self.generator, None)) is not None:\n",
    "            self.buffer += chunk\n",
    "            if not self.buffer.endswith('\\n'):\n",
    "                self.buffer += '\\n'  # Ensure each chunk ends with a newline\n",
    "\n",
    "        if size < 0 or len(self.buffer) <= size:\n",
    "            to_return, self.buffer = self.buffer, ''\n",
    "        else:\n",
    "            to_return, self.buffer = self.buffer[:size], self.buffer[size:]\n",
    "\n",
    "        return to_return"
   ],
   "metadata": {
    "collapsed": false,
    "ExecuteTime": {
     "end_time": "2024-04-24T15:20:47.470288592Z",
     "start_time": "2024-04-24T15:20:47.382652346Z"
    }
   },
   "id": "b8cc11134bd26e2a",
   "execution_count": 6
  },
  {
   "cell_type": "code",
   "outputs": [
    {
     "name": "stdout",
     "output_type": "stream",
     "text": [
      "done {source_file}\n"
     ]
    }
   ],
   "source": [
    "def copy_json_to_papers(source_file):\n",
    "    adapter = GeneratorFileAdapter(read_records_from_file(source_file))\n",
    "    with connection.cursor() as cursor:\n",
    "        cursor.copy_from(adapter, 'papers', sep=',', null='')\n",
    "        connection.commit()\n",
    "    print('done {source_file}')"
   ],
   "metadata": {
    "collapsed": false,
    "ExecuteTime": {
     "end_time": "2024-04-24T15:20:47.572987083Z",
     "start_time": "2024-04-24T15:20:47.474270777Z"
    }
   },
   "id": "d7c4cdd1803852c3",
   "execution_count": 7
  },
  {
   "cell_type": "code",
   "outputs": [
    {
     "ename": "QueryCanceled",
     "evalue": "COPY from stdin failed: error in .read() call: IsADirectoryError [Errno 21] Is a directory: '/'\nCONTEXT:  COPY papers, line 1\n",
     "output_type": "error",
     "traceback": [
      "\u001B[0;31m---------------------------------------------------------------------------\u001B[0m",
      "\u001B[0;31mQueryCanceled\u001B[0m                             Traceback (most recent call last)",
      "Cell \u001B[0;32mIn[8], line 2\u001B[0m\n\u001B[1;32m      1\u001B[0m \u001B[38;5;28;01mfor\u001B[39;00m source_file \u001B[38;5;129;01min\u001B[39;00m papers_dir:\n\u001B[0;32m----> 2\u001B[0m     \u001B[43mcopy_json_to_papers\u001B[49m\u001B[43m(\u001B[49m\u001B[43mos\u001B[49m\u001B[38;5;241;43m.\u001B[39;49m\u001B[43mpath\u001B[49m\u001B[38;5;241;43m.\u001B[39;49m\u001B[43mjoin\u001B[49m\u001B[43m(\u001B[49m\u001B[43mpapers_dir\u001B[49m\u001B[43m,\u001B[49m\u001B[43m \u001B[49m\u001B[43msource_file\u001B[49m\u001B[43m)\u001B[49m\u001B[43m)\u001B[49m\n",
      "Cell \u001B[0;32mIn[7], line 4\u001B[0m, in \u001B[0;36mcopy_json_to_papers\u001B[0;34m(source_file)\u001B[0m\n\u001B[1;32m      2\u001B[0m adapter \u001B[38;5;241m=\u001B[39m GeneratorFileAdapter(read_records_from_file(source_file))\n\u001B[1;32m      3\u001B[0m \u001B[38;5;28;01mwith\u001B[39;00m connection\u001B[38;5;241m.\u001B[39mcursor() \u001B[38;5;28;01mas\u001B[39;00m cursor:\n\u001B[0;32m----> 4\u001B[0m     \u001B[43mcursor\u001B[49m\u001B[38;5;241;43m.\u001B[39;49m\u001B[43mcopy_from\u001B[49m\u001B[43m(\u001B[49m\u001B[43madapter\u001B[49m\u001B[43m,\u001B[49m\u001B[43m \u001B[49m\u001B[38;5;124;43m'\u001B[39;49m\u001B[38;5;124;43mpapers\u001B[39;49m\u001B[38;5;124;43m'\u001B[39;49m\u001B[43m,\u001B[49m\u001B[43m \u001B[49m\u001B[43msep\u001B[49m\u001B[38;5;241;43m=\u001B[39;49m\u001B[38;5;124;43m'\u001B[39;49m\u001B[38;5;124;43m,\u001B[39;49m\u001B[38;5;124;43m'\u001B[39;49m\u001B[43m,\u001B[49m\u001B[43m \u001B[49m\u001B[43mnull\u001B[49m\u001B[38;5;241;43m=\u001B[39;49m\u001B[38;5;124;43m'\u001B[39;49m\u001B[38;5;124;43m'\u001B[39;49m\u001B[43m)\u001B[49m\n\u001B[1;32m      5\u001B[0m     connection\u001B[38;5;241m.\u001B[39mcommit()\n",
      "\u001B[0;31mQueryCanceled\u001B[0m: COPY from stdin failed: error in .read() call: IsADirectoryError [Errno 21] Is a directory: '/'\nCONTEXT:  COPY papers, line 1\n"
     ]
    }
   ],
   "source": [
    "for source_file in papers_dir:\n",
    "    copy_json_to_papers(os.path.join(papers_dir, source_file))"
   ],
   "metadata": {
    "collapsed": false,
    "ExecuteTime": {
     "end_time": "2024-04-24T15:20:47.768544193Z",
     "start_time": "2024-04-24T15:20:47.569891208Z"
    }
   },
   "id": "a87b55236e7a5688",
   "execution_count": 8
  },
  {
   "cell_type": "code",
   "outputs": [],
   "source": [
    "with connection.cursor() as cursor:\n",
    "    cursor.execute(ADD_KEY_TO_PAPERS)"
   ],
   "metadata": {
    "collapsed": false,
    "ExecuteTime": {
     "end_time": "2024-04-24T15:20:47.811656857Z",
     "start_time": "2024-04-24T15:20:47.770050715Z"
    }
   },
   "id": "ffb9cdba0a5deefd",
   "execution_count": null
  }
 ],
 "metadata": {
  "kernelspec": {
   "display_name": "Python 3 (ipykernel)",
   "language": "python",
   "name": "python3"
  },
  "language_info": {
   "codemirror_mode": {
    "name": "ipython",
    "version": 3
   },
   "file_extension": ".py",
   "mimetype": "text/x-python",
   "name": "python",
   "nbconvert_exporter": "python",
   "pygments_lexer": "ipython3",
   "version": "3.10.12"
  }
 },
 "nbformat": 4,
 "nbformat_minor": 5
}

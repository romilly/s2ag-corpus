{
 "cells": [
  {
   "cell_type": "code",
   "execution_count": 3,
   "id": "initial_id",
   "metadata": {
    "collapsed": true,
    "ExecuteTime": {
     "end_time": "2024-04-19T08:07:44.096918398Z",
     "start_time": "2024-04-19T08:07:44.041521905Z"
    }
   },
   "outputs": [],
   "source": [
    "from datetime import datetime\n",
    "\n",
    "import csv\n",
    "\n",
    "with open(\"timing-with-key.csv\") as inf, open(\"timing-with-durations.csv\", \"w\") as outf:\n",
    "    reader = csv.reader(inf)\n",
    "    writer = csv.writer(outf)\n",
    "    inf.readline()\n",
    "    outf.writelines(['filename'])\n",
    "    writer.writerow(['filename','count', 'start', 'end', 'duration'])\n",
    "    for filename,count,start,end in reader:\n",
    "        start_time = datetime.strptime(start,\"%Y-%m-%d %H:%M:%S.%f\")\n",
    "        end_time = datetime.strptime(end,\"%Y-%m-%d %H:%M:%S.%f\")\n",
    "        duration = end_time - start_time\n",
    "        writer.writerow([filename,count, start, end, duration])\n",
    "        "
   ]
  },
  {
   "cell_type": "code",
   "outputs": [],
   "source": [],
   "metadata": {
    "collapsed": false,
    "ExecuteTime": {
     "end_time": "2024-04-19T08:04:32.536588976Z",
     "start_time": "2024-04-19T08:04:32.494032460Z"
    }
   },
   "id": "69a53620d141993d",
   "execution_count": 2
  }
 ],
 "metadata": {
  "kernelspec": {
   "display_name": "Python 3",
   "language": "python",
   "name": "python3"
  },
  "language_info": {
   "codemirror_mode": {
    "name": "ipython",
    "version": 2
   },
   "file_extension": ".py",
   "mimetype": "text/x-python",
   "name": "python",
   "nbconvert_exporter": "python",
   "pygments_lexer": "ipython2",
   "version": "2.7.6"
  }
 },
 "nbformat": 4,
 "nbformat_minor": 5
}

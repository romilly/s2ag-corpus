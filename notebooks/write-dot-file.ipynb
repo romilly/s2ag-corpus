{
 "cells": [
  {
   "cell_type": "code",
   "execution_count": 1,
   "id": "initial_id",
   "metadata": {
    "collapsed": true,
    "ExecuteTime": {
     "end_time": "2024-05-25T08:05:58.320312965Z",
     "start_time": "2024-05-25T08:05:58.319972967Z"
    }
   },
   "outputs": [],
   "source": [
    "from s2ag_corpus.database_catalogue import CorpusDatabaseCatalogue, production_connection\n",
    "from s2ag_corpus.dot_writer import write_dot_file"
   ]
  },
  {
   "cell_type": "code",
   "outputs": [],
   "source": [
    "connection = production_connection()\n",
    "catalogue = CorpusDatabaseCatalogue(connection)"
   ],
   "metadata": {
    "collapsed": false,
    "ExecuteTime": {
     "end_time": "2024-05-25T08:05:58.446526339Z",
     "start_time": "2024-05-25T08:05:58.320088377Z"
    }
   },
   "id": "810a78e618842000",
   "execution_count": 2
  },
  {
   "cell_type": "code",
   "outputs": [],
   "source": [
    "id = catalogue.find_corpus_id_from('a2266a06e752df98615787746599dc81440c0ae1')"
   ],
   "metadata": {
    "collapsed": false,
    "ExecuteTime": {
     "end_time": "2024-05-25T08:05:58.558564363Z",
     "start_time": "2024-05-25T08:05:58.447820968Z"
    }
   },
   "id": "1b31fa6ac42295c6",
   "execution_count": 3
  },
  {
   "cell_type": "code",
   "outputs": [
    {
     "data": {
      "text/plain": "(249710437,\n 'Photochemistry of transition metal carbonyls.',\n 'J. J. Turner, M. George, M. Poliakoff, R. Perutz',\n '2022',\n 'https://www.semanticscholar.org/paper/a2266a06e752df98615787746599dc81440c0ae1')"
     },
     "execution_count": 4,
     "metadata": {},
     "output_type": "execute_result"
    }
   ],
   "source": [
    "catalogue.find_paper_details(id)"
   ],
   "metadata": {
    "collapsed": false,
    "ExecuteTime": {
     "end_time": "2024-05-25T08:05:58.630068943Z",
     "start_time": "2024-05-25T08:05:58.559814447Z"
    }
   },
   "id": "72c7494adb6d0e7f",
   "execution_count": 4
  },
  {
   "cell_type": "code",
   "outputs": [],
   "source": [
    "# connection.rollback()"
   ],
   "metadata": {
    "collapsed": false,
    "ExecuteTime": {
     "end_time": "2024-05-25T08:05:58.702251623Z",
     "start_time": "2024-05-25T08:05:58.629536392Z"
    }
   },
   "id": "b96da19a95636847",
   "execution_count": 5
  },
  {
   "cell_type": "code",
   "outputs": [],
   "source": [
    "enriched_links = catalogue.enriched_links(id, influential=False)"
   ],
   "metadata": {
    "collapsed": false,
    "ExecuteTime": {
     "end_time": "2024-05-25T08:05:58.799109603Z",
     "start_time": "2024-05-25T08:05:58.702386990Z"
    }
   },
   "id": "f997f87f694f0b5f",
   "execution_count": 6
  },
  {
   "cell_type": "code",
   "outputs": [],
   "source": [
    "write_dot_file(enriched_links, 'martyn.dot')\n"
   ],
   "metadata": {
    "collapsed": false,
    "ExecuteTime": {
     "end_time": "2024-05-25T08:05:58.869079179Z",
     "start_time": "2024-05-25T08:05:58.805285457Z"
    }
   },
   "id": "f2120f5212af5fdb",
   "execution_count": 7
  },
  {
   "cell_type": "code",
   "outputs": [],
   "source": [
    "!dot -Tsvg martyn.dot -o martyn.svg"
   ],
   "metadata": {
    "collapsed": false,
    "ExecuteTime": {
     "end_time": "2024-05-25T08:05:59.083356278Z",
     "start_time": "2024-05-25T08:05:58.869525274Z"
    }
   },
   "id": "d5a4d72a254357ea",
   "execution_count": 8
  }
 ],
 "metadata": {
  "kernelspec": {
   "display_name": "Python 3",
   "language": "python",
   "name": "python3"
  },
  "language_info": {
   "codemirror_mode": {
    "name": "ipython",
    "version": 2
   },
   "file_extension": ".py",
   "mimetype": "text/x-python",
   "name": "python",
   "nbconvert_exporter": "python",
   "pygments_lexer": "ipython2",
   "version": "2.7.6"
  }
 },
 "nbformat": 4,
 "nbformat_minor": 5
}

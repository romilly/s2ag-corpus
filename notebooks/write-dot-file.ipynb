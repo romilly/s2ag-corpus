{
 "cells": [
  {
   "cell_type": "markdown",
   "source": [
    "Write a graphviz .dot file with details of a small set of citations"
   ],
   "metadata": {
    "collapsed": false
   },
   "id": "da86e6d6a68ba697"
  },
  {
   "cell_type": "code",
   "outputs": [],
   "source": [
    "from s2ag_corpus.database_catalogue import DatabaseCatalogue, production_connection\n",
    "from s2ag_corpus.dot_writer import write_dot_file"
   ],
   "metadata": {
    "collapsed": false,
    "ExecuteTime": {
     "end_time": "2024-06-06T07:47:19.803256266Z",
     "start_time": "2024-06-06T07:47:19.800732922Z"
    }
   },
   "id": "14c2b5fc8dca355b",
   "execution_count": 1
  },
  {
   "cell_type": "code",
   "outputs": [],
   "source": [
    "\n",
    "connection = production_connection()\n",
    "catalogue = DatabaseCatalogue(connection)\n",
    "id = catalogue.find_corpus_id_from('a2266a06e752df98615787746599dc81440c0ae1')\n",
    "enriched_links = catalogue.enriched_links(id, influential=False)\n",
    "write_dot_file(enriched_links, 'martyn.dot', show_labels=True)"
   ],
   "metadata": {
    "collapsed": false,
    "ExecuteTime": {
     "end_time": "2024-05-28T14:52:40.587303303Z",
     "start_time": "2024-05-28T14:52:40.576089831Z"
    }
   },
   "id": "45f7bc3941aefcf7",
   "execution_count": 1
  },
  {
   "cell_type": "code",
   "outputs": [],
   "source": [
    "!dot -Tsvg martyn.dot -o martyn.svg"
   ],
   "metadata": {
    "collapsed": true,
    "ExecuteTime": {
     "end_time": "2024-05-28T14:52:40.747258072Z",
     "start_time": "2024-05-28T14:52:40.588504532Z"
    }
   },
   "id": "initial_id",
   "execution_count": 2
  }
 ],
 "metadata": {
  "kernelspec": {
   "display_name": "Python 3",
   "language": "python",
   "name": "python3"
  },
  "language_info": {
   "codemirror_mode": {
    "name": "ipython",
    "version": 2
   },
   "file_extension": ".py",
   "mimetype": "text/x-python",
   "name": "python",
   "nbconvert_exporter": "python",
   "pygments_lexer": "ipython2",
   "version": "2.7.6"
  }
 },
 "nbformat": 4,
 "nbformat_minor": 5
}

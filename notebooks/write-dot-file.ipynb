{
 "cells": [
  {
   "cell_type": "code",
   "execution_count": 1,
   "id": "45f7bc3941aefcf7",
   "metadata": {
    "collapsed": false,
    "ExecuteTime": {
     "end_time": "2024-05-26T05:25:07.491795240Z",
     "start_time": "2024-05-26T05:25:07.480041588Z"
    }
   },
   "outputs": [],
   "source": [
    "from s2ag_corpus.database_catalogue import CorpusDatabaseCatalogue, production_connection\n",
    "from s2ag_corpus.dot_writer import write_dot_file\n",
    "connection = production_connection()\n",
    "catalogue = CorpusDatabaseCatalogue(connection)\n",
    "id = catalogue.find_corpus_id_from('a2266a06e752df98615787746599dc81440c0ae1')\n",
    "enriched_links = catalogue.enriched_links(id, influential=False)\n",
    "write_dot_file(enriched_links, 'martyn.dot', show_labels=True)"
   ]
  },
  {
   "cell_type": "code",
   "outputs": [],
   "source": [
    "!dot -Tsvg martyn.dot -o martyn.svg"
   ],
   "metadata": {
    "collapsed": true,
    "ExecuteTime": {
     "end_time": "2024-05-26T05:25:07.711519953Z",
     "start_time": "2024-05-26T05:25:07.492645274Z"
    }
   },
   "id": "initial_id",
   "execution_count": 2
  }
 ],
 "metadata": {
  "kernelspec": {
   "display_name": "Python 3",
   "language": "python",
   "name": "python3"
  },
  "language_info": {
   "codemirror_mode": {
    "name": "ipython",
    "version": 2
   },
   "file_extension": ".py",
   "mimetype": "text/x-python",
   "name": "python",
   "nbconvert_exporter": "python",
   "pygments_lexer": "ipython2",
   "version": "2.7.6"
  }
 },
 "nbformat": 4,
 "nbformat_minor": 5
}

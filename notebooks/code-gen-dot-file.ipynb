{
 "cells": [
  {
   "cell_type": "code",
   "execution_count": 1,
   "id": "initial_id",
   "metadata": {
    "collapsed": true,
    "jupyter": {
     "outputs_hidden": true
    },
    "ExecuteTime": {
     "end_time": "2024-05-28T06:26:38.040979699Z",
     "start_time": "2024-05-28T06:26:38.040084791Z"
    }
   },
   "outputs": [],
   "source": [
    "from s2ag_corpus.database_catalogue import CorpusDatabaseCatalogue, production_connection\n",
    "from s2ag_corpus.dot_writer import write_dot_file"
   ]
  },
  {
   "cell_type": "code",
   "execution_count": 2,
   "id": "810a78e618842000",
   "metadata": {
    "collapsed": false,
    "ExecuteTime": {
     "end_time": "2024-05-28T06:26:38.111664148Z",
     "start_time": "2024-05-28T06:26:38.040335944Z"
    }
   },
   "outputs": [],
   "source": [
    "connection = production_connection()\n",
    "catalogue = CorpusDatabaseCatalogue(connection)"
   ]
  },
  {
   "cell_type": "code",
   "execution_count": 3,
   "id": "1b31fa6ac42295c6",
   "metadata": {
    "collapsed": false,
    "ExecuteTime": {
     "end_time": "2024-05-28T06:26:38.175653366Z",
     "start_time": "2024-05-28T06:26:38.111854233Z"
    }
   },
   "outputs": [],
   "source": [
    "id = catalogue.find_corpus_id_from('4747e72c5bc706c50e76953188f0144df18992d0')"
   ]
  },
  {
   "cell_type": "code",
   "execution_count": 4,
   "id": "72c7494adb6d0e7f",
   "metadata": {
    "collapsed": false,
    "ExecuteTime": {
     "end_time": "2024-05-28T06:26:38.271958879Z",
     "start_time": "2024-05-28T06:26:38.180490684Z"
    }
   },
   "outputs": [
    {
     "data": {
      "text/plain": "(259936967,\n 'Communicative Agents for Software Development',\n 'Chen Qian, Xin Cong, Cheng Yang, Weize Chen, Yusheng Su, Juyuan Xu, Zhiyuan Liu, Maosong Sun, Wei Liu',\n '2023',\n 'https://www.semanticscholar.org/paper/4747e72c5bc706c50e76953188f0144df18992d0')"
     },
     "execution_count": 4,
     "metadata": {},
     "output_type": "execute_result"
    }
   ],
   "source": [
    "catalogue.find_paper_details(id)"
   ]
  },
  {
   "cell_type": "code",
   "execution_count": 5,
   "id": "b96da19a95636847",
   "metadata": {
    "collapsed": false,
    "ExecuteTime": {
     "end_time": "2024-05-28T06:26:38.328646471Z",
     "start_time": "2024-05-28T06:26:38.278857936Z"
    }
   },
   "outputs": [],
   "source": [
    "# connection.rollback()"
   ]
  },
  {
   "cell_type": "code",
   "execution_count": 6,
   "id": "f997f87f694f0b5f",
   "metadata": {
    "collapsed": false,
    "ExecuteTime": {
     "end_time": "2024-05-28T06:26:38.573890186Z",
     "start_time": "2024-05-28T06:26:38.327607343Z"
    }
   },
   "outputs": [
    {
     "name": "stdout",
     "output_type": "stream",
     "text": [
      "259936967\n",
      "259936967\n",
      "269293320\n",
      "269293320\n",
      "267412469\n",
      "267412469\n",
      "268691664\n",
      "268691664\n",
      "269214272\n",
      "269214272\n",
      "267365525\n",
      "267365525\n",
      "268681456\n",
      "268681456\n",
      "265294905\n",
      "265294905\n",
      "267658120\n",
      "267658120\n",
      "267028700\n",
      "267028700\n",
      "266362356\n",
      "266362356\n",
      "268819803\n",
      "268819803\n",
      "261064713\n",
      "261064713\n",
      "264935197\n",
      "264935197\n",
      "268691360\n",
      "268691360\n",
      "265212890\n",
      "265212890\n",
      "267626871\n",
      "267626871\n",
      "264128263\n",
      "264128263\n",
      "268510267\n",
      "268510267\n",
      "268856673\n",
      "268856673\n",
      "261682230\n",
      "261682230\n",
      "267412705\n",
      "267412705\n",
      "267751452\n",
      "267751452\n",
      "263310339\n",
      "263310339\n",
      "267751102\n",
      "267751102\n",
      "268680458\n",
      "268680458\n",
      "268680662\n",
      "268680662\n",
      "266999556\n",
      "266999556\n",
      "261556862\n",
      "261556862\n",
      "263620781\n",
      "263620781\n",
      "267211955\n",
      "267211955\n",
      "265295180\n",
      "265295180\n",
      "267626970\n",
      "267626970\n",
      "263608648\n",
      "263608648\n",
      "269005050\n",
      "269005050\n",
      "266899697\n",
      "266899697\n",
      "267897510\n",
      "267897510\n",
      "263671545\n",
      "263671545\n",
      "265368095\n",
      "265368095\n",
      "267312444\n",
      "267312444\n",
      "269604964\n",
      "269604964\n",
      "267412980\n",
      "267412980\n",
      "269293007\n",
      "269293007\n",
      "267751452\n",
      "268041451\n",
      "268041451\n",
      "266874743\n",
      "266874743\n",
      "267500832\n",
      "267500832\n",
      "266818453\n",
      "266818453\n",
      "269187633\n",
      "269187633\n"
     ]
    }
   ],
   "source": [
    "enriched_links = catalogue.enriched_links(id)"
   ]
  },
  {
   "cell_type": "code",
   "execution_count": 7,
   "id": "f2120f5212af5fdb",
   "metadata": {
    "collapsed": false,
    "ExecuteTime": {
     "end_time": "2024-05-28T06:26:38.578410662Z",
     "start_time": "2024-05-28T06:26:38.574267964Z"
    }
   },
   "outputs": [],
   "source": [
    "write_dot_file(enriched_links, 'code-gen.dot')\n"
   ]
  },
  {
   "cell_type": "code",
   "execution_count": 8,
   "id": "d5a4d72a254357ea",
   "metadata": {
    "collapsed": false,
    "ExecuteTime": {
     "end_time": "2024-05-28T06:26:38.797870802Z",
     "start_time": "2024-05-28T06:26:38.577571953Z"
    }
   },
   "outputs": [],
   "source": [
    "!dot -Tsvg code-gen.dot -o code-gen.svg"
   ]
  }
 ],
 "metadata": {
  "kernelspec": {
   "display_name": "Python 3 (ipykernel)",
   "language": "python",
   "name": "python3"
  },
  "language_info": {
   "codemirror_mode": {
    "name": "ipython",
    "version": 3
   },
   "file_extension": ".py",
   "mimetype": "text/x-python",
   "name": "python",
   "nbconvert_exporter": "python",
   "pygments_lexer": "ipython3",
   "version": "3.10.12"
  }
 },
 "nbformat": 4,
 "nbformat_minor": 5
}

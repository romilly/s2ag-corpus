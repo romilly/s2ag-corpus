{
 "cells": [
  {
   "cell_type": "code",
   "execution_count": 1,
   "id": "initial_id",
   "metadata": {
    "collapsed": true,
    "jupyter": {
     "outputs_hidden": true
    },
    "ExecuteTime": {
     "end_time": "2024-05-27T08:13:16.696402674Z",
     "start_time": "2024-05-27T08:13:16.695997380Z"
    }
   },
   "outputs": [],
   "source": [
    "from s2ag_corpus.database_catalogue import CorpusDatabaseCatalogue, production_connection\n",
    "from s2ag_corpus.dot_writer import write_dot_file"
   ]
  },
  {
   "cell_type": "code",
   "execution_count": 2,
   "id": "810a78e618842000",
   "metadata": {
    "collapsed": false,
    "ExecuteTime": {
     "end_time": "2024-05-27T08:13:16.767490834Z",
     "start_time": "2024-05-27T08:13:16.696146475Z"
    }
   },
   "outputs": [],
   "source": [
    "connection = production_connection()\n",
    "catalogue = CorpusDatabaseCatalogue(connection)"
   ]
  },
  {
   "cell_type": "code",
   "execution_count": 3,
   "id": "1b31fa6ac42295c6",
   "metadata": {
    "collapsed": false,
    "ExecuteTime": {
     "end_time": "2024-05-27T08:13:16.837908376Z",
     "start_time": "2024-05-27T08:13:16.769180310Z"
    }
   },
   "outputs": [],
   "source": [
    "id = catalogue.find_corpus_id_from('4747e72c5bc706c50e76953188f0144df18992d0')"
   ]
  },
  {
   "cell_type": "code",
   "execution_count": 4,
   "id": "72c7494adb6d0e7f",
   "metadata": {
    "collapsed": false,
    "ExecuteTime": {
     "end_time": "2024-05-27T08:13:16.919749130Z",
     "start_time": "2024-05-27T08:13:16.839687255Z"
    }
   },
   "outputs": [
    {
     "data": {
      "text/plain": "(259936967,\n 'Communicative Agents for Software Development',\n 'Chen Qian, Xin Cong, Cheng Yang, Weize Chen, Yusheng Su, Juyuan Xu, Zhiyuan Liu, Maosong Sun, Wei Liu',\n '2023',\n 'https://www.semanticscholar.org/paper/4747e72c5bc706c50e76953188f0144df18992d0')"
     },
     "execution_count": 4,
     "metadata": {},
     "output_type": "execute_result"
    }
   ],
   "source": [
    "catalogue.find_paper_details(id)"
   ]
  },
  {
   "cell_type": "code",
   "execution_count": 5,
   "id": "b96da19a95636847",
   "metadata": {
    "collapsed": false,
    "ExecuteTime": {
     "end_time": "2024-05-27T08:13:16.993051417Z",
     "start_time": "2024-05-27T08:13:16.919427118Z"
    }
   },
   "outputs": [],
   "source": [
    "# connection.rollback()"
   ]
  },
  {
   "cell_type": "code",
   "execution_count": 6,
   "id": "f997f87f694f0b5f",
   "metadata": {
    "collapsed": false,
    "ExecuteTime": {
     "end_time": "2024-05-27T08:13:17.146821056Z",
     "start_time": "2024-05-27T08:13:16.993175592Z"
    }
   },
   "outputs": [],
   "source": [
    "enriched_links = catalogue.enriched_links(id)"
   ]
  },
  {
   "cell_type": "code",
   "execution_count": 7,
   "id": "f2120f5212af5fdb",
   "metadata": {
    "collapsed": false,
    "ExecuteTime": {
     "end_time": "2024-05-27T08:13:17.192703706Z",
     "start_time": "2024-05-27T08:13:17.148415596Z"
    }
   },
   "outputs": [],
   "source": [
    "write_dot_file(enriched_links, 'code-gen.dot')\n"
   ]
  },
  {
   "cell_type": "code",
   "execution_count": 8,
   "id": "d5a4d72a254357ea",
   "metadata": {
    "collapsed": false,
    "ExecuteTime": {
     "end_time": "2024-05-27T08:13:17.420857987Z",
     "start_time": "2024-05-27T08:13:17.192460897Z"
    }
   },
   "outputs": [],
   "source": [
    "!dot -Tsvg code-gen.dot -o code-gen.svg"
   ]
  }
 ],
 "metadata": {
  "kernelspec": {
   "display_name": "Python 3 (ipykernel)",
   "language": "python",
   "name": "python3"
  },
  "language_info": {
   "codemirror_mode": {
    "name": "ipython",
    "version": 3
   },
   "file_extension": ".py",
   "mimetype": "text/x-python",
   "name": "python",
   "nbconvert_exporter": "python",
   "pygments_lexer": "ipython3",
   "version": "3.10.12"
  }
 },
 "nbformat": 4,
 "nbformat_minor": 5
}

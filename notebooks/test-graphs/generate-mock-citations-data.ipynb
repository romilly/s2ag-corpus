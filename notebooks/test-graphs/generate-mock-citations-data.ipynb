{
 "cells": [
  {
   "cell_type": "code",
   "outputs": [],
   "source": [
    "import networkx as nx\n",
    "from networkx.drawing.nx_pydot import write_dot"
   ],
   "metadata": {
    "collapsed": false,
    "ExecuteTime": {
     "end_time": "2024-06-03T14:48:47.553992344Z",
     "start_time": "2024-06-03T14:48:47.471977272Z"
    }
   },
   "id": "c2e4ef19903c6c5a",
   "execution_count": 8
  },
  {
   "cell_type": "markdown",
   "source": [
    "![citations-01](/home/romilly/git/active/s2ag-corpus/data/graphs/citations-01.png)"
   ],
   "metadata": {
    "collapsed": false
   },
   "id": "719255c4bc6e8fc6"
  },
  {
   "cell_type": "code",
   "outputs": [],
   "source": [
    "\n",
    "def convert_graphml_to_dot(input_file, output_file):\n",
    "    # Read the GraphML file\n",
    "    G = nx.read_graphml(input_file)\n",
    "    print(G)\n",
    "  \n",
    "  \n",
    "    # Write to a DOT file\n",
    "    write_dot(G, output_file)\n"
   ],
   "metadata": {
    "collapsed": false,
    "ExecuteTime": {
     "end_time": "2024-06-03T14:48:47.653637869Z",
     "start_time": "2024-06-03T14:48:47.555241323Z"
    }
   },
   "id": "297d10aaefbe805b",
   "execution_count": 9
  },
  {
   "cell_type": "code",
   "outputs": [
    {
     "name": "stdout",
     "output_type": "stream",
     "text": [
      "DiGraph with 6 nodes and 7 edges\n",
      "Converted /home/romilly/git/active/s2ag-corpus/data/graphs/citations-01.graphml to citations-01.dot\n"
     ]
    }
   ],
   "source": [
    "input_file = '/home/romilly/git/active/s2ag-corpus/data/graphs/citations-01.graphml'  # Replace with your GraphML file\n",
    "output_file = 'citations-01.dot'  # Desired DOT file output name\n",
    "convert_graphml_to_dot(input_file, output_file)\n",
    "print(f\"Converted {input_file} to {output_file}\")"
   ],
   "metadata": {
    "collapsed": true,
    "ExecuteTime": {
     "end_time": "2024-06-03T14:48:47.776956960Z",
     "start_time": "2024-06-03T14:48:47.605487948Z"
    }
   },
   "id": "initial_id",
   "execution_count": 10
  },
  {
   "cell_type": "code",
   "outputs": [],
   "source": [
    "from s2ag_corpus.citation_graphs.citation import Citation\n",
    "import pydot\n",
    "\n",
    "def parse_dot_file(dot_file):\n",
    "    # Parse the DOT file using pydot\n",
    "    graphs = pydot.graph_from_dot_file(dot_file)\n",
    "    graph = graphs[0]  # Assume the DOT file contains one graph\n",
    "\n",
    "    # Create a mapping from node names to labels (citation IDs)\n",
    "    node_label_map = {}\n",
    "    for node in graph.get_nodes():\n",
    "        name = node.get_name()\n",
    "        label = node.get_attributes().get('label', name)\n",
    "        label = label.strip('\"')  # Remove any surrounding quotes\n",
    "        node_label_map[name] = int(label)  # Assuming labels are integers\n",
    "\n",
    "    citations = []\n",
    "\n",
    "    for edge in graph.get_edges():\n",
    "        citing_name = edge.get_source()\n",
    "        cited_name = edge.get_destination()\n",
    "        citing_id = node_label_map[citing_name]\n",
    "        cited_id = node_label_map[cited_name]\n",
    "        label = edge.get_attributes().get('label', '')\n",
    "        is_influential = bool(label)  # Non-empty label indicates influential\n",
    "\n",
    "        citation = Citation(\n",
    "            citing_corpus_id=citing_id,\n",
    "            cited_corpus_id=cited_id,\n",
    "            is_influential=is_influential\n",
    "        )\n",
    "        citations.append(citation)\n",
    "\n",
    "    return citations\n"
   ],
   "metadata": {
    "collapsed": false,
    "ExecuteTime": {
     "end_time": "2024-06-03T14:51:34.559324292Z",
     "start_time": "2024-06-03T14:51:34.504866767Z"
    }
   },
   "id": "542cf2251f5256fc",
   "execution_count": 14
  },
  {
   "cell_type": "code",
   "outputs": [],
   "source": [
    "\n",
    "dot_file = 'citations-01.dot'  # Replace with your DOT file path\n",
    "citations = parse_dot_file(dot_file)\n",
    "\n"
   ],
   "metadata": {
    "collapsed": false,
    "ExecuteTime": {
     "end_time": "2024-06-03T14:51:35.233187602Z",
     "start_time": "2024-06-03T14:51:35.216850230Z"
    }
   },
   "id": "44462aed6bd2d499",
   "execution_count": 15
  },
  {
   "cell_type": "code",
   "outputs": [
    {
     "data": {
      "text/plain": "[Citation(citing_corpus_id=2, cited_corpus_id=1, is_influential=False),\n Citation(citing_corpus_id=3, cited_corpus_id=1, is_influential=True),\n Citation(citing_corpus_id=4, cited_corpus_id=2, is_influential=False),\n Citation(citing_corpus_id=4, cited_corpus_id=1, is_influential=True),\n Citation(citing_corpus_id=5, cited_corpus_id=2, is_influential=False),\n Citation(citing_corpus_id=6, cited_corpus_id=3, is_influential=False),\n Citation(citing_corpus_id=6, cited_corpus_id=2, is_influential=True)]"
     },
     "execution_count": 16,
     "metadata": {},
     "output_type": "execute_result"
    }
   ],
   "source": [
    "citations"
   ],
   "metadata": {
    "collapsed": false,
    "ExecuteTime": {
     "end_time": "2024-06-03T14:51:57.048608953Z",
     "start_time": "2024-06-03T14:51:56.953008203Z"
    }
   },
   "id": "abb4dfd549d1cc5a",
   "execution_count": 16
  },
  {
   "cell_type": "code",
   "outputs": [],
   "source": [],
   "metadata": {
    "collapsed": false
   },
   "id": "78799e7642907814"
  }
 ],
 "metadata": {
  "kernelspec": {
   "display_name": "Python 3",
   "language": "python",
   "name": "python3"
  },
  "language_info": {
   "codemirror_mode": {
    "name": "ipython",
    "version": 2
   },
   "file_extension": ".py",
   "mimetype": "text/x-python",
   "name": "python",
   "nbconvert_exporter": "python",
   "pygments_lexer": "ipython2",
   "version": "2.7.6"
  }
 },
 "nbformat": 4,
 "nbformat_minor": 5
}

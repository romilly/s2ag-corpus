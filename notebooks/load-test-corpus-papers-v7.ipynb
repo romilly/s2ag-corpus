{
 "cells": [
  {
   "cell_type": "code",
   "execution_count": 1,
   "id": "ae690dfe16a964cd",
   "metadata": {
    "collapsed": false,
    "ExecuteTime": {
     "end_time": "2024-04-22T16:13:59.831896964Z",
     "start_time": "2024-04-22T16:13:59.831533416Z"
    }
   },
   "outputs": [],
   "source": [
    "import os\n",
    "import json\n",
    "import csv\n",
    "from io import StringIO\n",
    "\n",
    "from dotenv import load_dotenv\n",
    "\n",
    "from s2ag_corpus.sql import CREATE_PAPERS_TABLE_WITHOUT_KEYS"
   ]
  },
  {
   "cell_type": "code",
   "outputs": [],
   "source": [
    "load_dotenv()\n",
    "base_dir = os.getenv(\"BASE_DIR\")"
   ],
   "metadata": {
    "collapsed": true,
    "jupyter": {
     "outputs_hidden": true
    },
    "ExecuteTime": {
     "end_time": "2024-04-22T16:13:59.957238324Z",
     "start_time": "2024-04-22T16:13:59.831663295Z"
    }
   },
   "id": "initial_id",
   "execution_count": 2
  },
  {
   "cell_type": "code",
   "execution_count": 3,
   "id": "dbfb0845a6c75af8",
   "metadata": {
    "collapsed": false,
    "ExecuteTime": {
     "end_time": "2024-04-22T16:14:00.119117264Z",
     "start_time": "2024-04-22T16:13:59.965175356Z"
    }
   },
   "outputs": [],
   "source": [
    "from s2ag_corpus.database_catalogue import local_connection\n",
    "\n",
    "connection = local_connection()\n",
    "\n",
    "def drop_and_replace_papers_table():\n",
    "    with connection.cursor() as cursor:\n",
    "        cursor.execute('drop table if exists papers')\n",
    "        cursor.execute(CREATE_PAPERS_TABLE_WITHOUT_KEYS)"
   ]
  },
  {
   "cell_type": "code",
   "execution_count": 4,
   "id": "8e91f1d718c24f2f",
   "metadata": {
    "collapsed": false,
    "ExecuteTime": {
     "end_time": "2024-04-22T16:14:00.305972294Z",
     "start_time": "2024-04-22T16:14:00.119236267Z"
    }
   },
   "outputs": [],
   "source": [
    "drop_and_replace_papers_table()\n",
    "    "
   ]
  },
  {
   "cell_type": "code",
   "outputs": [],
   "source": [
    "def read_records_from_file(file_path):\n",
    "    \"\"\"A generator function that returns reformatted lines in a file.\"\"\"\n",
    "    output = StringIO()\n",
    "    writer = csv.writer(output, delimiter=',', quoting=csv.QUOTE_NONE, escapechar='\\\\')\n",
    "    with open(file_path, 'r') as file:\n",
    "        for line in file:\n",
    "            line = line.strip()\n",
    "            jd = json.loads(line)\n",
    "            record = (jd['corpusid'], line)\n",
    "            output.seek(0)\n",
    "            output.truncate(0)\n",
    "            writer.writerow(record)\n",
    "            yield output.getvalue()"
   ],
   "metadata": {
    "collapsed": false,
    "ExecuteTime": {
     "end_time": "2024-04-22T16:14:00.569327031Z",
     "start_time": "2024-04-22T16:14:00.307880333Z"
    }
   },
   "id": "dc5087f7aacebf39",
   "execution_count": 5
  },
  {
   "cell_type": "code",
   "outputs": [],
   "source": [
    "class GeneratorFileAdapter:\n",
    "    def __init__(self, generator):\n",
    "        self.generator = generator\n",
    "        self.buffer = ''\n",
    "        self.count = 0\n",
    "\n",
    "    def read(self, size=-1):\n",
    "        # Fill the buffer to meet the size requirement or if size is -1 then try to exhaust the generator\n",
    "        while (size < 0 or len(self.buffer) < size) and (chunk := next(self.generator, None)) is not None:\n",
    "            self.buffer += chunk\n",
    "            if not self.buffer.endswith('\\n'):\n",
    "                self.buffer += '\\n'  # Ensure each chunk ends with a newline\n",
    "\n",
    "        if size < 0 or len(self.buffer) <= size:\n",
    "            to_return, self.buffer = self.buffer, ''\n",
    "        else:\n",
    "            to_return, self.buffer = self.buffer[:size], self.buffer[size:]\n",
    "\n",
    "        return to_return"
   ],
   "metadata": {
    "collapsed": false,
    "ExecuteTime": {
     "end_time": "2024-04-22T16:14:00.855619961Z",
     "start_time": "2024-04-22T16:14:00.573346162Z"
    }
   },
   "id": "b8cc11134bd26e2a",
   "execution_count": 6
  },
  {
   "cell_type": "code",
   "outputs": [
    {
     "name": "stdout",
     "output_type": "stream",
     "text": [
      "done\n"
     ]
    }
   ],
   "source": [
    "def copy_json_to_papers(test_file):\n",
    "        adapter = GeneratorFileAdapter(read_records_from_file(test_file))\n",
    "        with connection.cursor() as cursor:\n",
    "            cursor.copy_from(adapter, 'papers', sep=',', null='')\n",
    "            connection.commit()\n",
    "print('done')"
   ],
   "metadata": {
    "collapsed": false,
    "ExecuteTime": {
     "end_time": "2024-04-22T16:14:00.985775269Z",
     "start_time": "2024-04-22T16:14:00.859093861Z"
    }
   },
   "id": "d7c4cdd1803852c3",
   "execution_count": 7
  },
  {
   "cell_type": "code",
   "outputs": [],
   "source": [
    "test_file = base_dir+'/2024-04-02/papers/file'\n",
    "copy_json_to_papers(test_file)"
   ],
   "metadata": {
    "collapsed": false,
    "ExecuteTime": {
     "end_time": "2024-04-22T16:16:21.195908824Z",
     "start_time": "2024-04-22T16:14:00.974427450Z"
    }
   },
   "id": "a87b55236e7a5688",
   "execution_count": 8
  },
  {
   "cell_type": "code",
   "outputs": [],
   "source": [
    "with connection.cursor() as cursor:\n",
    "    cursor.execute(ADD_KEY_TO_PAPER)"
   ],
   "metadata": {
    "collapsed": false
   },
   "id": "ffb9cdba0a5deefd"
  }
 ],
 "metadata": {
  "kernelspec": {
   "display_name": "Python 3 (ipykernel)",
   "language": "python",
   "name": "python3"
  },
  "language_info": {
   "codemirror_mode": {
    "name": "ipython",
    "version": 3
   },
   "file_extension": ".py",
   "mimetype": "text/x-python",
   "name": "python",
   "nbconvert_exporter": "python",
   "pygments_lexer": "ipython3",
   "version": "3.10.12"
  }
 },
 "nbformat": 4,
 "nbformat_minor": 5
}

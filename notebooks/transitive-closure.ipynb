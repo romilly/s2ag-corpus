{
 "cells": [
  {
   "cell_type": "code",
   "execution_count": 1,
   "id": "initial_id",
   "metadata": {
    "collapsed": true,
    "ExecuteTime": {
     "end_time": "2024-05-24T08:29:14.228596003Z",
     "start_time": "2024-05-24T08:29:14.228116875Z"
    }
   },
   "outputs": [],
   "source": [
    "from typing import List\n",
    "\n",
    "from s2ag_corpus.database_catalogue import CorpusDatabaseCatalogue, production_connection"
   ]
  },
  {
   "cell_type": "code",
   "outputs": [],
   "source": [
    "connection = production_connection()\n",
    "catalogue = CorpusDatabaseCatalogue(connection)"
   ],
   "metadata": {
    "collapsed": false,
    "ExecuteTime": {
     "end_time": "2024-05-24T08:29:14.353918412Z",
     "start_time": "2024-05-24T08:29:14.228337222Z"
    }
   },
   "id": "810a78e618842000",
   "execution_count": 2
  },
  {
   "cell_type": "code",
   "outputs": [],
   "source": [
    "CITATION_SQL = \"\"\"\n",
    "select citationid from papers, citations\n",
    "                    where citedcorpusid = %s\n",
    "                    and corpusid = citingcorpusid\n",
    "                    \"\"\""
   ],
   "metadata": {
    "collapsed": false,
    "ExecuteTime": {
     "end_time": "2024-05-24T08:29:14.485699293Z",
     "start_time": "2024-05-24T08:29:14.356190664Z"
    }
   },
   "id": "e2f38f43728d03b",
   "execution_count": 3
  },
  {
   "cell_type": "code",
   "outputs": [],
   "source": [
    "def find_citations_for(corpus_id: int, catalogue: CorpusDatabaseCatalogue, filter: str = None) -> List[int]:\n",
    "    if filter is None:\n",
    "        filter = ''\n",
    "    rows = catalogue.fetch(CITATION_SQL + filter, (corpus_id,))\n",
    "    return [row[0] for row in rows]"
   ],
   "metadata": {
    "collapsed": false,
    "ExecuteTime": {
     "end_time": "2024-05-24T08:29:14.631509184Z",
     "start_time": "2024-05-24T08:29:14.488375529Z"
    }
   },
   "id": "91156b0fdc7d7158",
   "execution_count": 4
  },
  {
   "cell_type": "code",
   "outputs": [
    {
     "data": {
      "text/plain": "[]"
     },
     "execution_count": 5,
     "metadata": {},
     "output_type": "execute_result"
    }
   ],
   "source": [
    "find_citations_for(161134357, catalogue, 'and isinfluential')"
   ],
   "metadata": {
    "collapsed": false,
    "ExecuteTime": {
     "end_time": "2024-05-24T08:29:14.709237922Z",
     "start_time": "2024-05-24T08:29:14.632790937Z"
    }
   },
   "id": "277924149011b58d",
   "execution_count": 5
  },
  {
   "cell_type": "code",
   "outputs": [],
   "source": [
    "def find_corpus_id_from(sha: str, catalogue:CorpusDatabaseCatalogue):\n",
    "    rows = catalogue.fetch(\"select corpusid from paperids where sha = %s\", (sha,))\n",
    "    if len(rows) == 0:\n",
    "        return None\n",
    "    else:\n",
    "        return rows[0][0]"
   ],
   "metadata": {
    "collapsed": false,
    "ExecuteTime": {
     "end_time": "2024-05-24T08:30:49.806222502Z",
     "start_time": "2024-05-24T08:30:49.682347915Z"
    }
   },
   "id": "e44b6c888b2ee9f2",
   "execution_count": 15
  },
  {
   "cell_type": "code",
   "outputs": [],
   "source": [
    "id = find_corpus_id_from('ded3b33fa8b8d6cdf890478bf22721c7fa7cef6f', catalogue)"
   ],
   "metadata": {
    "collapsed": false,
    "ExecuteTime": {
     "end_time": "2024-05-24T08:30:50.788805813Z",
     "start_time": "2024-05-24T08:30:50.778157774Z"
    }
   },
   "id": "4d1f05fd66b4d6d7",
   "execution_count": 16
  },
  {
   "cell_type": "code",
   "outputs": [
    {
     "data": {
      "text/plain": "244184633"
     },
     "execution_count": 17,
     "metadata": {},
     "output_type": "execute_result"
    }
   ],
   "source": [
    "id"
   ],
   "metadata": {
    "collapsed": false,
    "ExecuteTime": {
     "end_time": "2024-05-24T08:30:51.515328879Z",
     "start_time": "2024-05-24T08:30:51.513163779Z"
    }
   },
   "id": "eb9246a168293e6e",
   "execution_count": 17
  },
  {
   "cell_type": "code",
   "outputs": [
    {
     "data": {
      "text/plain": "[4103410700, 4464566537, 4202070000, 4119774780, 4555215429]"
     },
     "execution_count": 18,
     "metadata": {},
     "output_type": "execute_result"
    }
   ],
   "source": [
    "find_citations_for(id, catalogue)"
   ],
   "metadata": {
    "collapsed": false,
    "ExecuteTime": {
     "end_time": "2024-05-24T08:31:14.925262398Z",
     "start_time": "2024-05-24T08:31:14.847457443Z"
    }
   },
   "id": "9b6f6434e61b0f3b",
   "execution_count": 18
  },
  {
   "cell_type": "code",
   "outputs": [],
   "source": [
    "REFERENCE_SQL = \"\"\"\n",
    "select citationid from papers, citations\n",
    "                    where citingcorpusid = %s\n",
    "                    and corpusid = citedcorpusid\n",
    "                    \"\"\""
   ],
   "metadata": {
    "collapsed": false,
    "ExecuteTime": {
     "end_time": "2024-05-24T08:33:03.231298442Z",
     "start_time": "2024-05-24T08:33:03.124008025Z"
    }
   },
   "id": "333a0963fa8c7af5",
   "execution_count": 19
  },
  {
   "cell_type": "code",
   "outputs": [],
   "source": [
    "def find_references_for(corpus_id: int, catalogue: CorpusDatabaseCatalogue, filter: str = None) -> List[int]:\n",
    "    if filter is None:\n",
    "        filter = ''\n",
    "    rows = catalogue.fetch(REFERENCE_SQL + filter, (corpus_id,))\n",
    "    return [row[0] for row in rows]"
   ],
   "metadata": {
    "collapsed": false,
    "ExecuteTime": {
     "end_time": "2024-05-24T08:33:03.752942535Z",
     "start_time": "2024-05-24T08:33:03.741418548Z"
    }
   },
   "id": "8f62626d70beb346",
   "execution_count": 20
  },
  {
   "cell_type": "code",
   "outputs": [
    {
     "data": {
      "text/plain": "[]"
     },
     "execution_count": 21,
     "metadata": {},
     "output_type": "execute_result"
    }
   ],
   "source": [
    "find_references_for(id, catalogue)"
   ],
   "metadata": {
    "collapsed": false,
    "ExecuteTime": {
     "end_time": "2024-05-24T08:33:32.184319277Z",
     "start_time": "2024-05-24T08:33:32.057651972Z"
    }
   },
   "id": "48c0b1f28ef562f6",
   "execution_count": 21
  },
  {
   "cell_type": "code",
   "outputs": [],
   "source": [
    "def transitive_closure(corpusid, catalogue, filter: str = None):\n",
    "    related_corpus_ids = set()\n",
    "\n",
    "    def add_related_ids(corpusid):\n",
    "        related_corpus_ids.add(corpusid)\n",
    "        for related_id in find_citations_for(corpusid, catalogue, filter=filter):\n",
    "            if related_id not in related_corpus_ids:\n",
    "                add_related_ids(related_id)\n",
    "\n",
    "    add_related_ids(corpusid)\n",
    "\n",
    "    return related_corpus_ids"
   ],
   "metadata": {
    "collapsed": false,
    "ExecuteTime": {
     "end_time": "2024-05-24T08:45:16.970685176Z",
     "start_time": "2024-05-24T08:45:16.821545921Z"
    }
   },
   "id": "86e180fc132b9672",
   "execution_count": 36
  },
  {
   "cell_type": "code",
   "outputs": [
    {
     "data": {
      "text/plain": "{244184633, 4103410700, 4119774780, 4202070000, 4464566537, 4555215429}"
     },
     "execution_count": 37,
     "metadata": {},
     "output_type": "execute_result"
    }
   ],
   "source": [
    "transitive_closure(id, catalogue)"
   ],
   "metadata": {
    "collapsed": false,
    "ExecuteTime": {
     "end_time": "2024-05-24T08:45:18.804777326Z",
     "start_time": "2024-05-24T08:45:18.797798732Z"
    }
   },
   "id": "9572d4526bf0a9d8",
   "execution_count": 37
  },
  {
   "cell_type": "code",
   "outputs": [],
   "source": [
    "newid = find_corpus_id_from('57e849d0de13ed5f91d086936296721d4ff75a75', catalogue)"
   ],
   "metadata": {
    "collapsed": false,
    "ExecuteTime": {
     "end_time": "2024-05-24T08:45:23.384922168Z",
     "start_time": "2024-05-24T08:45:23.312561962Z"
    }
   },
   "id": "1b31fa6ac42295c6",
   "execution_count": 38
  },
  {
   "cell_type": "code",
   "outputs": [],
   "source": [
    "tc = transitive_closure(newid, catalogue)"
   ],
   "metadata": {
    "collapsed": false,
    "ExecuteTime": {
     "end_time": "2024-05-24T08:43:20.222704792Z",
     "start_time": "2024-05-24T08:43:16.586597578Z"
    }
   },
   "id": "725808e94a4f4cc1",
   "execution_count": 32
  },
  {
   "cell_type": "code",
   "outputs": [
    {
     "data": {
      "text/plain": "5242"
     },
     "execution_count": 34,
     "metadata": {},
     "output_type": "execute_result"
    }
   ],
   "source": [
    "len(tc)"
   ],
   "metadata": {
    "collapsed": false,
    "ExecuteTime": {
     "end_time": "2024-05-24T08:43:36.711581606Z",
     "start_time": "2024-05-24T08:43:36.669053586Z"
    }
   },
   "id": "488a1c0082eed9e3",
   "execution_count": 34
  },
  {
   "cell_type": "code",
   "outputs": [],
   "source": [
    "tc = transitive_closure(newid, catalogue, 'and isinfluential = True')\n"
   ],
   "metadata": {
    "collapsed": false,
    "ExecuteTime": {
     "end_time": "2024-05-24T08:46:13.328426264Z",
     "start_time": "2024-05-24T08:46:12.950800874Z"
    }
   },
   "id": "88bd4e719c718b92",
   "execution_count": 42
  },
  {
   "cell_type": "code",
   "outputs": [],
   "source": [
    "connection.rollback()"
   ],
   "metadata": {
    "collapsed": false,
    "ExecuteTime": {
     "end_time": "2024-05-24T08:46:08.454009355Z",
     "start_time": "2024-05-24T08:46:08.355607157Z"
    }
   },
   "id": "b96da19a95636847",
   "execution_count": 41
  },
  {
   "cell_type": "code",
   "outputs": [
    {
     "data": {
      "text/plain": "798"
     },
     "execution_count": 43,
     "metadata": {},
     "output_type": "execute_result"
    }
   ],
   "source": [
    "len(tc)"
   ],
   "metadata": {
    "collapsed": false,
    "ExecuteTime": {
     "end_time": "2024-05-24T08:46:21.260282165Z",
     "start_time": "2024-05-24T08:46:21.216797984Z"
    }
   },
   "id": "6c4ca47503d0a15",
   "execution_count": 43
  },
  {
   "cell_type": "code",
   "outputs": [],
   "source": [
    "def find_links(corpusid, catalogue):\n",
    "    related_corpus_ids = set()\n",
    "    links = set()\n",
    "\n",
    "    def add_related_ids_and_links(corpusid):\n",
    "        related_ids = find_citations_for(corpusid, catalogue)\n",
    "        for related_id in related_ids:\n",
    "            if related_id not in related_corpus_ids:\n",
    "                related_corpus_ids.add(related_id)\n",
    "                links.add((corpusid, related_id))\n",
    "                add_related_ids_and_links(related_id)\n",
    "\n",
    "    add_related_ids_and_links(corpusid)\n",
    "\n",
    "    return links"
   ],
   "metadata": {
    "collapsed": false,
    "ExecuteTime": {
     "end_time": "2024-05-24T08:54:55.769987153Z",
     "start_time": "2024-05-24T08:54:55.694635613Z"
    }
   },
   "id": "aa8833dfc693ef9a",
   "execution_count": 44
  },
  {
   "cell_type": "code",
   "outputs": [],
   "source": [
    "links = find_links(newid, catalogue)"
   ],
   "metadata": {
    "collapsed": false,
    "ExecuteTime": {
     "end_time": "2024-05-24T08:55:19.487607746Z",
     "start_time": "2024-05-24T08:55:17.548046729Z"
    }
   },
   "id": "96aedfa39a690199",
   "execution_count": 45
  },
  {
   "cell_type": "code",
   "outputs": [],
   "source": [
    "def write_dot_file(links, file_path):\n",
    "    with open(file_path, \"w\") as f:\n",
    "        f.write(\"digraph {\\n\")\n",
    "        for corpusid1, corpusid2 in links:\n",
    "            f.write(f'    \"{corpusid1}\" -> \"{corpusid2}\";\\n')\n",
    "        f.write(\"}\\n\")"
   ],
   "metadata": {
    "collapsed": false,
    "ExecuteTime": {
     "end_time": "2024-05-24T08:58:13.735979022Z",
     "start_time": "2024-05-24T08:58:13.667377336Z"
    }
   },
   "id": "f2120f5212af5fdb",
   "execution_count": 46
  },
  {
   "cell_type": "code",
   "outputs": [],
   "source": [
    "write_dot_file(links, 'llama-links.dot')"
   ],
   "metadata": {
    "collapsed": false,
    "ExecuteTime": {
     "end_time": "2024-05-24T08:58:53.926289521Z",
     "start_time": "2024-05-24T08:58:53.855623541Z"
    }
   },
   "id": "c67aa619cb46dbed",
   "execution_count": 47
  },
  {
   "cell_type": "code",
   "outputs": [],
   "source": [],
   "metadata": {
    "collapsed": false
   },
   "id": "f997f87f694f0b5f"
  }
 ],
 "metadata": {
  "kernelspec": {
   "display_name": "Python 3",
   "language": "python",
   "name": "python3"
  },
  "language_info": {
   "codemirror_mode": {
    "name": "ipython",
    "version": 2
   },
   "file_extension": ".py",
   "mimetype": "text/x-python",
   "name": "python",
   "nbconvert_exporter": "python",
   "pygments_lexer": "ipython2",
   "version": "2.7.6"
  }
 },
 "nbformat": 4,
 "nbformat_minor": 5
}

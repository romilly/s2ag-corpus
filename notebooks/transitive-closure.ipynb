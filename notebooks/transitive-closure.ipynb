{
 "cells": [
  {
   "cell_type": "code",
   "execution_count": 1,
   "id": "initial_id",
   "metadata": {
    "collapsed": true,
    "ExecuteTime": {
     "end_time": "2024-05-24T13:53:10.180092156Z",
     "start_time": "2024-05-24T13:53:10.155767948Z"
    }
   },
   "outputs": [],
   "source": [
    "from typing import List, Set, Tuple\n",
    "\n",
    "from s2ag_corpus.database_catalogue import CorpusDatabaseCatalogue, production_connection"
   ]
  },
  {
   "cell_type": "code",
   "outputs": [],
   "source": [
    "connection = production_connection()\n",
    "catalogue = CorpusDatabaseCatalogue(connection)"
   ],
   "metadata": {
    "collapsed": false,
    "ExecuteTime": {
     "end_time": "2024-05-24T13:53:10.328077355Z",
     "start_time": "2024-05-24T13:53:10.180138944Z"
    }
   },
   "id": "810a78e618842000",
   "execution_count": 2
  },
  {
   "cell_type": "code",
   "outputs": [
    {
     "data": {
      "text/plain": "[143880250,\n 190238821,\n 163420773,\n 145507378,\n 150739647,\n 163142229,\n 262263657,\n 161577649,\n 194164156,\n 156471770,\n 8248863,\n 178952511,\n 253787779,\n 194017795,\n 143705073,\n 145794112,\n 154429510,\n 128306176,\n 191911581,\n 161857022,\n 154742753,\n 194222363]"
     },
     "execution_count": 3,
     "metadata": {},
     "output_type": "execute_result"
    }
   ],
   "source": [
    "catalogue.find_citations_for(161134357)"
   ],
   "metadata": {
    "collapsed": false,
    "ExecuteTime": {
     "end_time": "2024-05-24T13:53:10.367750597Z",
     "start_time": "2024-05-24T13:53:10.328170980Z"
    }
   },
   "id": "277924149011b58d",
   "execution_count": 3
  },
  {
   "cell_type": "code",
   "outputs": [],
   "source": [],
   "metadata": {
    "collapsed": false,
    "ExecuteTime": {
     "end_time": "2024-05-24T13:53:10.368898360Z",
     "start_time": "2024-05-24T13:53:10.367591201Z"
    }
   },
   "id": "e44b6c888b2ee9f2",
   "execution_count": 3
  },
  {
   "cell_type": "code",
   "outputs": [],
   "source": [
    "id = catalogue.find_corpus_id_from('ded3b33fa8b8d6cdf890478bf22721c7fa7cef6f')"
   ],
   "metadata": {
    "collapsed": false,
    "ExecuteTime": {
     "end_time": "2024-05-24T13:53:10.439837931Z",
     "start_time": "2024-05-24T13:53:10.369898340Z"
    }
   },
   "id": "4d1f05fd66b4d6d7",
   "execution_count": 4
  },
  {
   "cell_type": "code",
   "outputs": [
    {
     "data": {
      "text/plain": "244184633"
     },
     "execution_count": 5,
     "metadata": {},
     "output_type": "execute_result"
    }
   ],
   "source": [
    "id"
   ],
   "metadata": {
    "collapsed": false,
    "ExecuteTime": {
     "end_time": "2024-05-24T13:53:10.517625220Z",
     "start_time": "2024-05-24T13:53:10.441511481Z"
    }
   },
   "id": "eb9246a168293e6e",
   "execution_count": 5
  },
  {
   "cell_type": "code",
   "outputs": [
    {
     "data": {
      "text/plain": "[258382209, 265273445, 260908590, 259003247, 266408414]"
     },
     "execution_count": 6,
     "metadata": {},
     "output_type": "execute_result"
    }
   ],
   "source": [
    "catalogue.find_citations_for(id)"
   ],
   "metadata": {
    "collapsed": false,
    "ExecuteTime": {
     "end_time": "2024-05-24T13:53:10.596521054Z",
     "start_time": "2024-05-24T13:53:10.517821089Z"
    }
   },
   "id": "9b6f6434e61b0f3b",
   "execution_count": 6
  },
  {
   "cell_type": "code",
   "outputs": [
    {
     "data": {
      "text/plain": "[]"
     },
     "execution_count": 7,
     "metadata": {},
     "output_type": "execute_result"
    }
   ],
   "source": [
    "catalogue.find_references_for(id)"
   ],
   "metadata": {
    "collapsed": false,
    "ExecuteTime": {
     "end_time": "2024-05-24T13:53:10.763535465Z",
     "start_time": "2024-05-24T13:53:10.640141879Z"
    }
   },
   "id": "48c0b1f28ef562f6",
   "execution_count": 7
  },
  {
   "cell_type": "code",
   "outputs": [
    {
     "data": {
      "text/plain": "{244184633, 258382209, 259003247, 260908590, 265273445, 266408414}"
     },
     "execution_count": 8,
     "metadata": {},
     "output_type": "execute_result"
    }
   ],
   "source": [
    "tc = catalogue.transitive_closure(id)\n",
    "tc"
   ],
   "metadata": {
    "collapsed": false,
    "ExecuteTime": {
     "end_time": "2024-05-24T13:53:10.925051558Z",
     "start_time": "2024-05-24T13:53:10.763078719Z"
    }
   },
   "id": "c3ded7cd2eb184b7",
   "execution_count": 8
  },
  {
   "cell_type": "code",
   "outputs": [
    {
     "name": "stdout",
     "output_type": "stream",
     "text": [
      "(258382209, 'EVOLUTION OF RELATIONSHIPS BETWEEN THE UNITED KINGDOM AND SPAIN IN THE CONTEXT OF THE «GIBRALTAR QUESTION», 1873–1969', '2023', 'https://www.semanticscholar.org/paper/d804a8d01b7dd5202483d10e58ae712d370f9dcc')\n",
      "(265273445, 'The Coloniser Colonised: Legacies of Britain’s Informal Empire in Spain', '2023', 'https://www.semanticscholar.org/paper/a5fb4ca28d0eee207a09b58e0fc51ac1f675eab3')\n",
      "(260908590, 'Fearful loyalty: The strategic deployment of emotion by the Cuban proslavery elite, 1830–1850', '2023', 'https://www.semanticscholar.org/paper/5761a879ebb4d72d59d1cc3696805413169ac861')\n",
      "(259003247, 'Spain’s First Environmental Campaign: Free Market Liberalism Under Challenge', '2023', 'https://www.semanticscholar.org/paper/7f9ee1185dfb6fe88eee2caf609eb5746084709d')\n",
      "(244184633, 'Britain’s Informal Empire in Spain, 1830-1950', '2021', 'https://www.semanticscholar.org/paper/ded3b33fa8b8d6cdf890478bf22721c7fa7cef6f')\n",
      "(266408414, 'El exilio en el Reino Unido: ideas sobre España y Europa de Arturo Barea, José Castillejo, Alberto Jiménez Fraud y Salvador de Madariaga (1936-1951)', '2023', 'https://www.semanticscholar.org/paper/a24e47cf69be94687d5be4f34eebacddbd58d502')\n"
     ]
    }
   ],
   "source": [
    "for corpusid in tc:\n",
    "    print(catalogue.find_paper_details(corpusid))"
   ],
   "metadata": {
    "collapsed": false,
    "ExecuteTime": {
     "end_time": "2024-05-24T13:53:11.055279773Z",
     "start_time": "2024-05-24T13:53:10.926121600Z"
    }
   },
   "id": "8866f734b7a12bf4",
   "execution_count": 9
  },
  {
   "cell_type": "code",
   "outputs": [],
   "source": [
    "newid = catalogue.find_corpus_id_from('a2266a06e752df98615787746599dc81440c0ae1')"
   ],
   "metadata": {
    "collapsed": false,
    "ExecuteTime": {
     "end_time": "2024-05-24T13:53:11.117670387Z",
     "start_time": "2024-05-24T13:53:11.054832221Z"
    }
   },
   "id": "1b31fa6ac42295c6",
   "execution_count": 10
  },
  {
   "cell_type": "code",
   "outputs": [],
   "source": [
    "connection.rollback()"
   ],
   "metadata": {
    "collapsed": false,
    "ExecuteTime": {
     "end_time": "2024-05-24T13:53:11.186786356Z",
     "start_time": "2024-05-24T13:53:11.118180823Z"
    }
   },
   "id": "b96da19a95636847",
   "execution_count": 11
  },
  {
   "cell_type": "code",
   "outputs": [],
   "source": [
    "links = catalogue.find_links(newid, influential=False)"
   ],
   "metadata": {
    "collapsed": false,
    "ExecuteTime": {
     "end_time": "2024-05-24T13:53:11.252037844Z",
     "start_time": "2024-05-24T13:53:11.184411702Z"
    }
   },
   "id": "96aedfa39a690199",
   "execution_count": 12
  },
  {
   "cell_type": "code",
   "outputs": [
    {
     "data": {
      "text/plain": "{(249710437, 259739018),\n (249710437, 267446961),\n (249710437, 268040009),\n (249710437, 268348425),\n (259739018, 267446961),\n (259739018, 267630595)}"
     },
     "execution_count": 13,
     "metadata": {},
     "output_type": "execute_result"
    }
   ],
   "source": [
    "links"
   ],
   "metadata": {
    "collapsed": false,
    "ExecuteTime": {
     "end_time": "2024-05-24T13:53:11.331255113Z",
     "start_time": "2024-05-24T13:53:11.253182420Z"
    }
   },
   "id": "5acef4aa05520cd3",
   "execution_count": 13
  },
  {
   "cell_type": "code",
   "outputs": [],
   "source": [
    "enriched_links = catalogue.enriched_links(newid, influential=False)"
   ],
   "metadata": {
    "collapsed": false,
    "ExecuteTime": {
     "end_time": "2024-05-24T13:53:11.405084374Z",
     "start_time": "2024-05-24T13:53:11.327939896Z"
    }
   },
   "id": "f997f87f694f0b5f",
   "execution_count": 14
  },
  {
   "cell_type": "code",
   "outputs": [
    {
     "data": {
      "text/plain": "[(Paper(corpusid=249710437, title='Photochemistry of transition metal carbonyls.', year='2022', url='https://www.semanticscholar.org/paper/a2266a06e752df98615787746599dc81440c0ae1'),\n  Paper(corpusid=267446961, title='Preference of C2v Symmetry in Low-Spin Hexacarbonyls of Rare-Earth and f Elements', year='2024', url='https://www.semanticscholar.org/paper/e3ba79aa32a1148dca4a7f52108259344fdc4711')),\n (Paper(corpusid=259739018, title='A DFT and Matrix–Isolation IR/UV-Visible Study of High-Coordinated Lanthanide-CO Complexes', year='2023', url='https://www.semanticscholar.org/paper/8119b95e9c475d7959fae26c2e70d8d71fcb03b6'),\n  Paper(corpusid=267630595, title='Effect of extraction parameters on the synergistic reaction mechanism for arsenic and mercury removal from natural gas condensate via LLE, vibrational spectroscopy and DFT calculations', year='2024', url='https://www.semanticscholar.org/paper/c4c3b191a2b33164b5526aa27e32936550c71402')),\n (Paper(corpusid=249710437, title='Photochemistry of transition metal carbonyls.', year='2022', url='https://www.semanticscholar.org/paper/a2266a06e752df98615787746599dc81440c0ae1'),\n  Paper(corpusid=268348425, title='Mid-infrared dual-comb spectroscopy with quantum cascade lasers', year='2024', url='https://www.semanticscholar.org/paper/b8003f5669c1719ebd86d70f0ff0d31d659482e9')),\n (Paper(corpusid=249710437, title='Photochemistry of transition metal carbonyls.', year='2022', url='https://www.semanticscholar.org/paper/a2266a06e752df98615787746599dc81440c0ae1'),\n  Paper(corpusid=259739018, title='A DFT and Matrix–Isolation IR/UV-Visible Study of High-Coordinated Lanthanide-CO Complexes', year='2023', url='https://www.semanticscholar.org/paper/8119b95e9c475d7959fae26c2e70d8d71fcb03b6')),\n (Paper(corpusid=249710437, title='Photochemistry of transition metal carbonyls.', year='2022', url='https://www.semanticscholar.org/paper/a2266a06e752df98615787746599dc81440c0ae1'),\n  Paper(corpusid=268040009, title='Unveiling Mechanistic Complexity in Manganese-Catalyzed C–H Bond Functionalization Using IR Spectroscopy Over 16 Orders of Magnitude in Time', year='2024', url='https://www.semanticscholar.org/paper/974865acb588c06b3b4d587f81c7f56259ad4774')),\n (Paper(corpusid=259739018, title='A DFT and Matrix–Isolation IR/UV-Visible Study of High-Coordinated Lanthanide-CO Complexes', year='2023', url='https://www.semanticscholar.org/paper/8119b95e9c475d7959fae26c2e70d8d71fcb03b6'),\n  Paper(corpusid=267446961, title='Preference of C2v Symmetry in Low-Spin Hexacarbonyls of Rare-Earth and f Elements', year='2024', url='https://www.semanticscholar.org/paper/e3ba79aa32a1148dca4a7f52108259344fdc4711'))]"
     },
     "execution_count": 15,
     "metadata": {},
     "output_type": "execute_result"
    }
   ],
   "source": [
    "enriched_links"
   ],
   "metadata": {
    "collapsed": false,
    "ExecuteTime": {
     "end_time": "2024-05-24T13:53:11.477125648Z",
     "start_time": "2024-05-24T13:53:11.405575823Z"
    }
   },
   "id": "4820f040ac4c7e4e",
   "execution_count": 15
  },
  {
   "cell_type": "code",
   "outputs": [],
   "source": [
    "catalogue.write_dot_file(enriched_links, 'martyn.dot')\n",
    "# Example usage:\n",
    "# enriched_links = {(Corpus(1, \"Title One\", 2020), Corpus(2, \"Title Two\", 2021))}\n",
    "# write_dot_file(enriched_links, \"output.dot\")\n"
   ],
   "metadata": {
    "collapsed": false,
    "ExecuteTime": {
     "end_time": "2024-05-24T13:53:11.551134159Z",
     "start_time": "2024-05-24T13:53:11.480904137Z"
    }
   },
   "id": "f2120f5212af5fdb",
   "execution_count": 16
  },
  {
   "cell_type": "code",
   "outputs": [],
   "source": [],
   "metadata": {
    "collapsed": false,
    "ExecuteTime": {
     "end_time": "2024-05-24T13:53:11.553083140Z",
     "start_time": "2024-05-24T13:53:11.551613334Z"
    }
   },
   "id": "d5a4d72a254357ea",
   "execution_count": 16
  }
 ],
 "metadata": {
  "kernelspec": {
   "display_name": "Python 3",
   "language": "python",
   "name": "python3"
  },
  "language_info": {
   "codemirror_mode": {
    "name": "ipython",
    "version": 2
   },
   "file_extension": ".py",
   "mimetype": "text/x-python",
   "name": "python",
   "nbconvert_exporter": "python",
   "pygments_lexer": "ipython2",
   "version": "2.7.6"
  }
 },
 "nbformat": 4,
 "nbformat_minor": 5
}

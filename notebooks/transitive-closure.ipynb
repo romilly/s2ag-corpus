{
 "cells": [
  {
   "cell_type": "code",
   "execution_count": 1,
   "id": "initial_id",
   "metadata": {
    "collapsed": true,
    "ExecuteTime": {
     "end_time": "2024-05-24T13:01:39.179700012Z",
     "start_time": "2024-05-24T13:01:39.154664225Z"
    }
   },
   "outputs": [],
   "source": [
    "from typing import List\n",
    "\n",
    "from s2ag_corpus.database_catalogue import CorpusDatabaseCatalogue, production_connection"
   ]
  },
  {
   "cell_type": "code",
   "outputs": [],
   "source": [
    "connection = production_connection()\n",
    "catalogue = CorpusDatabaseCatalogue(connection)"
   ],
   "metadata": {
    "collapsed": false,
    "ExecuteTime": {
     "end_time": "2024-05-24T13:01:39.287830399Z",
     "start_time": "2024-05-24T13:01:39.179744545Z"
    }
   },
   "id": "810a78e618842000",
   "execution_count": 2
  },
  {
   "cell_type": "code",
   "outputs": [],
   "source": [],
   "metadata": {
    "collapsed": false,
    "ExecuteTime": {
     "end_time": "2024-05-24T13:01:39.328733233Z",
     "start_time": "2024-05-24T13:01:39.327969026Z"
    }
   },
   "id": "e2f38f43728d03b",
   "execution_count": 2
  },
  {
   "cell_type": "code",
   "outputs": [],
   "source": [],
   "metadata": {
    "collapsed": false,
    "ExecuteTime": {
     "end_time": "2024-05-24T13:01:39.329394581Z",
     "start_time": "2024-05-24T13:01:39.328085743Z"
    }
   },
   "id": "91156b0fdc7d7158",
   "execution_count": 2
  },
  {
   "cell_type": "code",
   "outputs": [
    {
     "data": {
      "text/plain": "[143880250,\n 190238821,\n 163420773,\n 145507378,\n 150739647,\n 163142229,\n 262263657,\n 161577649,\n 194164156,\n 156471770,\n 8248863,\n 178952511,\n 253787779,\n 194017795,\n 143705073,\n 145794112,\n 154429510,\n 128306176,\n 191911581,\n 161857022,\n 154742753,\n 194222363]"
     },
     "execution_count": 3,
     "metadata": {},
     "output_type": "execute_result"
    }
   ],
   "source": [
    "catalogue.find_citations_for(161134357)"
   ],
   "metadata": {
    "collapsed": false,
    "ExecuteTime": {
     "end_time": "2024-05-24T13:01:39.359310864Z",
     "start_time": "2024-05-24T13:01:39.328148375Z"
    }
   },
   "id": "277924149011b58d",
   "execution_count": 3
  },
  {
   "cell_type": "code",
   "outputs": [],
   "source": [],
   "metadata": {
    "collapsed": false,
    "ExecuteTime": {
     "end_time": "2024-05-24T13:01:39.360065483Z",
     "start_time": "2024-05-24T13:01:39.353869088Z"
    }
   },
   "id": "e44b6c888b2ee9f2",
   "execution_count": 3
  },
  {
   "cell_type": "code",
   "outputs": [],
   "source": [
    "id = catalogue.find_corpus_id_from('ded3b33fa8b8d6cdf890478bf22721c7fa7cef6f')"
   ],
   "metadata": {
    "collapsed": false,
    "ExecuteTime": {
     "end_time": "2024-05-24T13:01:39.446863460Z",
     "start_time": "2024-05-24T13:01:39.357632300Z"
    }
   },
   "id": "4d1f05fd66b4d6d7",
   "execution_count": 4
  },
  {
   "cell_type": "code",
   "outputs": [
    {
     "data": {
      "text/plain": "244184633"
     },
     "execution_count": 5,
     "metadata": {},
     "output_type": "execute_result"
    }
   ],
   "source": [
    "id"
   ],
   "metadata": {
    "collapsed": false,
    "ExecuteTime": {
     "end_time": "2024-05-24T13:01:39.527568589Z",
     "start_time": "2024-05-24T13:01:39.448281711Z"
    }
   },
   "id": "eb9246a168293e6e",
   "execution_count": 5
  },
  {
   "cell_type": "code",
   "outputs": [
    {
     "data": {
      "text/plain": "[258382209, 265273445, 260908590, 259003247, 266408414]"
     },
     "execution_count": 6,
     "metadata": {},
     "output_type": "execute_result"
    }
   ],
   "source": [
    "catalogue.find_citations_for(id)"
   ],
   "metadata": {
    "collapsed": false,
    "ExecuteTime": {
     "end_time": "2024-05-24T13:01:39.602284557Z",
     "start_time": "2024-05-24T13:01:39.525851864Z"
    }
   },
   "id": "9b6f6434e61b0f3b",
   "execution_count": 6
  },
  {
   "cell_type": "code",
   "outputs": [],
   "source": [],
   "metadata": {
    "collapsed": false,
    "ExecuteTime": {
     "end_time": "2024-05-24T13:01:39.644072489Z",
     "start_time": "2024-05-24T13:01:39.603417586Z"
    }
   },
   "id": "333a0963fa8c7af5",
   "execution_count": 6
  },
  {
   "cell_type": "code",
   "outputs": [],
   "source": [],
   "metadata": {
    "collapsed": false,
    "ExecuteTime": {
     "end_time": "2024-05-24T13:01:39.644787635Z",
     "start_time": "2024-05-24T13:01:39.644013813Z"
    }
   },
   "id": "8f62626d70beb346",
   "execution_count": 6
  },
  {
   "cell_type": "code",
   "outputs": [
    {
     "data": {
      "text/plain": "[]"
     },
     "execution_count": 7,
     "metadata": {},
     "output_type": "execute_result"
    }
   ],
   "source": [
    "catalogue.find_references_for(id)"
   ],
   "metadata": {
    "collapsed": false,
    "ExecuteTime": {
     "end_time": "2024-05-24T13:01:39.683205541Z",
     "start_time": "2024-05-24T13:01:39.644116969Z"
    }
   },
   "id": "48c0b1f28ef562f6",
   "execution_count": 7
  },
  {
   "cell_type": "code",
   "outputs": [
    {
     "data": {
      "text/plain": "{244184633, 258382209, 259003247, 260908590, 265273445, 266408414}"
     },
     "execution_count": 26,
     "metadata": {},
     "output_type": "execute_result"
    }
   ],
   "source": [
    "tc = catalogue.transitive_closure(id)\n",
    "tc"
   ],
   "metadata": {
    "collapsed": false,
    "ExecuteTime": {
     "end_time": "2024-05-24T13:05:49.380356971Z",
     "start_time": "2024-05-24T13:05:49.337744400Z"
    }
   },
   "id": "c3ded7cd2eb184b7",
   "execution_count": 26
  },
  {
   "cell_type": "code",
   "outputs": [
    {
     "name": "stdout",
     "output_type": "stream",
     "text": [
      "(258382209, 'EVOLUTION OF RELATIONSHIPS BETWEEN THE UNITED KINGDOM AND SPAIN IN THE CONTEXT OF THE «GIBRALTAR QUESTION», 1873–1969', '2023')\n",
      "(265273445, 'The Coloniser Colonised: Legacies of Britain’s Informal Empire in Spain', '2023')\n",
      "(260908590, 'Fearful loyalty: The strategic deployment of emotion by the Cuban proslavery elite, 1830–1850', '2023')\n",
      "(259003247, 'Spain’s First Environmental Campaign: Free Market Liberalism Under Challenge', '2023')\n",
      "(244184633, 'Britain’s Informal Empire in Spain, 1830-1950', '2021')\n",
      "(266408414, 'El exilio en el Reino Unido: ideas sobre España y Europa de Arturo Barea, José Castillejo, Alberto Jiménez Fraud y Salvador de Madariaga (1936-1951)', '2023')\n"
     ]
    }
   ],
   "source": [
    "for corpusid in tc:\n",
    "    print(catalogue.find_paper_details(corpusid))"
   ],
   "metadata": {
    "collapsed": false,
    "ExecuteTime": {
     "end_time": "2024-05-24T13:05:56.034105978Z",
     "start_time": "2024-05-24T13:05:56.028847823Z"
    }
   },
   "id": "8866f734b7a12bf4",
   "execution_count": 27
  },
  {
   "cell_type": "code",
   "outputs": [],
   "source": [
    "newid = catalogue.find_corpus_id_from('a2266a06e752df98615787746599dc81440c0ae1')"
   ],
   "metadata": {
    "collapsed": false,
    "ExecuteTime": {
     "end_time": "2024-05-24T13:07:11.044715419Z",
     "start_time": "2024-05-24T13:07:10.955190771Z"
    }
   },
   "id": "1b31fa6ac42295c6",
   "execution_count": 30
  },
  {
   "cell_type": "code",
   "outputs": [],
   "source": [
    "connection.rollback()"
   ],
   "metadata": {
    "collapsed": false,
    "ExecuteTime": {
     "end_time": "2024-05-24T13:01:40.186881084Z",
     "start_time": "2024-05-24T13:01:40.047180749Z"
    }
   },
   "id": "b96da19a95636847",
   "execution_count": 11
  },
  {
   "cell_type": "code",
   "outputs": [],
   "source": [
    "links = catalogue.find_links(newid, influential=False)"
   ],
   "metadata": {
    "collapsed": false,
    "ExecuteTime": {
     "end_time": "2024-05-24T13:08:00.756758674Z",
     "start_time": "2024-05-24T13:08:00.666597648Z"
    }
   },
   "id": "96aedfa39a690199",
   "execution_count": 33
  },
  {
   "cell_type": "code",
   "outputs": [
    {
     "data": {
      "text/plain": "{(249710437, 259739018),\n (249710437, 267446961),\n (249710437, 268040009),\n (249710437, 268348425),\n (259739018, 267446961),\n (259739018, 267630595)}"
     },
     "execution_count": 34,
     "metadata": {},
     "output_type": "execute_result"
    }
   ],
   "source": [
    "links"
   ],
   "metadata": {
    "collapsed": false,
    "ExecuteTime": {
     "end_time": "2024-05-24T13:08:01.461698940Z",
     "start_time": "2024-05-24T13:08:01.450540946Z"
    }
   },
   "id": "5acef4aa05520cd3",
   "execution_count": 34
  },
  {
   "cell_type": "code",
   "outputs": [],
   "source": [],
   "metadata": {
    "collapsed": false
   },
   "id": "a374500af7463541"
  },
  {
   "cell_type": "code",
   "outputs": [],
   "source": [
    "def write_dot_file(links, file_path):\n",
    "    with open(file_path, \"w\") as f:\n",
    "        f.write(\"digraph {\\n\")\n",
    "        for p1, p2 in links:\n",
    "            f.write(f'    \"{p2}\" -> \"{p1}\";\\n')\n",
    "        f.write(\"}\\n\")"
   ],
   "metadata": {
    "collapsed": false,
    "ExecuteTime": {
     "end_time": "2024-05-24T13:09:33.957638992Z",
     "start_time": "2024-05-24T13:09:33.872116191Z"
    }
   },
   "id": "f2120f5212af5fdb",
   "execution_count": 36
  },
  {
   "cell_type": "code",
   "outputs": [],
   "source": [
    "write_dot_file(links, 'organic.dot')"
   ],
   "metadata": {
    "collapsed": false,
    "ExecuteTime": {
     "end_time": "2024-05-24T13:09:36.171463113Z",
     "start_time": "2024-05-24T13:09:36.169439450Z"
    }
   },
   "id": "c67aa619cb46dbed",
   "execution_count": 37
  },
  {
   "cell_type": "code",
   "outputs": [],
   "source": [
    "# fly_sha = '6da2905bef6b50736660028ce5d11db3206095c1'\n",
    "# fly_id = find_corpus_id_from(fly_sha, catalogue)\n",
    "# ftc = transitive_closure(fly_id, catalogue)"
   ],
   "metadata": {
    "collapsed": false,
    "ExecuteTime": {
     "end_time": "2024-05-24T13:01:57.626020201Z",
     "start_time": "2024-05-24T13:01:57.507148724Z"
    }
   },
   "id": "f997f87f694f0b5f",
   "execution_count": 15
  },
  {
   "cell_type": "code",
   "outputs": [],
   "source": [
    "# len(ftc)"
   ],
   "metadata": {
    "collapsed": false,
    "ExecuteTime": {
     "end_time": "2024-05-24T13:01:57.705074334Z",
     "start_time": "2024-05-24T13:01:57.626028714Z"
    }
   },
   "id": "e7f088501c1c9306",
   "execution_count": 16
  },
  {
   "cell_type": "code",
   "outputs": [],
   "source": [
    "# links = find_links(fly_id, catalogue)"
   ],
   "metadata": {
    "collapsed": false,
    "ExecuteTime": {
     "end_time": "2024-05-24T13:01:57.781558411Z",
     "start_time": "2024-05-24T13:01:57.704911570Z"
    }
   },
   "id": "88ce1bb3f6737bc4",
   "execution_count": 17
  },
  {
   "cell_type": "code",
   "outputs": [],
   "source": [
    "# write_dot_file(links, 'fly-links.dot')"
   ],
   "metadata": {
    "collapsed": false,
    "ExecuteTime": {
     "end_time": "2024-05-24T13:01:57.858584195Z",
     "start_time": "2024-05-24T13:01:57.782290771Z"
    }
   },
   "id": "445650133ce948c1",
   "execution_count": 18
  },
  {
   "cell_type": "code",
   "outputs": [],
   "source": [
    "# links"
   ],
   "metadata": {
    "collapsed": false,
    "ExecuteTime": {
     "end_time": "2024-05-24T13:01:57.960536028Z",
     "start_time": "2024-05-24T13:01:57.859538309Z"
    }
   },
   "id": "1abaa044f6b697fa",
   "execution_count": 19
  },
  {
   "cell_type": "code",
   "outputs": [],
   "source": [
    "# len(find_citations_for(fly_id, catalogue))"
   ],
   "metadata": {
    "collapsed": false,
    "ExecuteTime": {
     "end_time": "2024-05-24T13:01:58.025732785Z",
     "start_time": "2024-05-24T13:01:57.960659268Z"
    }
   },
   "id": "ff5ba472e24a285f",
   "execution_count": 20
  },
  {
   "cell_type": "code",
   "outputs": [],
   "source": [],
   "metadata": {
    "collapsed": false,
    "ExecuteTime": {
     "end_time": "2024-05-24T13:01:58.068142261Z",
     "start_time": "2024-05-24T13:01:58.027007449Z"
    }
   },
   "id": "4820f040ac4c7e4e",
   "execution_count": 20
  }
 ],
 "metadata": {
  "kernelspec": {
   "display_name": "Python 3",
   "language": "python",
   "name": "python3"
  },
  "language_info": {
   "codemirror_mode": {
    "name": "ipython",
    "version": 2
   },
   "file_extension": ".py",
   "mimetype": "text/x-python",
   "name": "python",
   "nbconvert_exporter": "python",
   "pygments_lexer": "ipython2",
   "version": "2.7.6"
  }
 },
 "nbformat": 4,
 "nbformat_minor": 5
}

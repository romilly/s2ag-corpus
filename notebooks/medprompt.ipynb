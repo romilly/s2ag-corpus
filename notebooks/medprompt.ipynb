{
 "cells": [
  {
   "cell_type": "code",
   "execution_count": 1,
   "id": "45f7bc3941aefcf7",
   "metadata": {
    "collapsed": false,
    "ExecuteTime": {
     "end_time": "2024-05-28T09:30:50.128377915Z",
     "start_time": "2024-05-28T08:02:40.852000671Z"
    }
   },
   "outputs": [
    {
     "ename": "KeyboardInterrupt",
     "evalue": "",
     "output_type": "error",
     "traceback": [
      "\u001B[0;31m---------------------------------------------------------------------------\u001B[0m",
      "\u001B[0;31mKeyboardInterrupt\u001B[0m                         Traceback (most recent call last)",
      "Cell \u001B[0;32mIn[1], line 6\u001B[0m\n\u001B[1;32m      4\u001B[0m catalogue \u001B[38;5;241m=\u001B[39m CorpusDatabaseCatalogue(connection)\n\u001B[1;32m      5\u001B[0m \u001B[38;5;28mid\u001B[39m \u001B[38;5;241m=\u001B[39m catalogue\u001B[38;5;241m.\u001B[39mfind_corpus_id_from(\u001B[38;5;124m'\u001B[39m\u001B[38;5;124mbde9da9a39a065588d7f4573936731510d6f4f29\u001B[39m\u001B[38;5;124m'\u001B[39m)\n\u001B[0;32m----> 6\u001B[0m enriched_links \u001B[38;5;241m=\u001B[39m \u001B[43mcatalogue\u001B[49m\u001B[38;5;241;43m.\u001B[39;49m\u001B[43menriched_links\u001B[49m\u001B[43m(\u001B[49m\u001B[38;5;28;43mid\u001B[39;49m\u001B[43m,\u001B[49m\u001B[43m \u001B[49m\u001B[43minfluential\u001B[49m\u001B[38;5;241;43m=\u001B[39;49m\u001B[38;5;28;43;01mFalse\u001B[39;49;00m\u001B[43m)\u001B[49m\n\u001B[1;32m      7\u001B[0m write_dot_file(enriched_links, \u001B[38;5;124m'\u001B[39m\u001B[38;5;124mmedprompt.dot\u001B[39m\u001B[38;5;124m'\u001B[39m)\n",
      "File \u001B[0;32m~/git/active/s2ag-corpus/src/s2ag_corpus/database_catalogue.py:115\u001B[0m, in \u001B[0;36mCorpusDatabaseCatalogue.enriched_links\u001B[0;34m(self, corpusid, influential)\u001B[0m\n\u001B[1;32m    114\u001B[0m \u001B[38;5;28;01mdef\u001B[39;00m \u001B[38;5;21menriched_links\u001B[39m(\u001B[38;5;28mself\u001B[39m, corpusid: \u001B[38;5;28mint\u001B[39m, influential \u001B[38;5;241m=\u001B[39m \u001B[38;5;28;01mTrue\u001B[39;00m) \u001B[38;5;241m-\u001B[39m\u001B[38;5;241m>\u001B[39m Set[Tuple[Paper, Paper]]:\n\u001B[0;32m--> 115\u001B[0m     links \u001B[38;5;241m=\u001B[39m \u001B[38;5;28;43mself\u001B[39;49m\u001B[38;5;241;43m.\u001B[39;49m\u001B[43mfind_links\u001B[49m\u001B[43m(\u001B[49m\u001B[43mcorpusid\u001B[49m\u001B[43m,\u001B[49m\u001B[43m \u001B[49m\u001B[43minfluential\u001B[49m\u001B[43m)\u001B[49m\n\u001B[1;32m    116\u001B[0m     enriched \u001B[38;5;241m=\u001B[39m [(Paper(\u001B[38;5;241m*\u001B[39m\u001B[38;5;28mself\u001B[39m\u001B[38;5;241m.\u001B[39mfind_paper_details(corpusid1)),\n\u001B[1;32m    117\u001B[0m                  Paper(\u001B[38;5;241m*\u001B[39m\u001B[38;5;28mself\u001B[39m\u001B[38;5;241m.\u001B[39mfind_paper_details(corpusid2)))\n\u001B[1;32m    118\u001B[0m                         \u001B[38;5;28;01mfor\u001B[39;00m (corpusid1, corpusid2) \u001B[38;5;129;01min\u001B[39;00m links]\n\u001B[1;32m    119\u001B[0m     \u001B[38;5;28;01mreturn\u001B[39;00m enriched\n",
      "File \u001B[0;32m~/git/active/s2ag-corpus/src/s2ag_corpus/database_catalogue.py:106\u001B[0m, in \u001B[0;36mCorpusDatabaseCatalogue.find_links\u001B[0;34m(self, corpusid, influential)\u001B[0m\n\u001B[1;32m    104\u001B[0m \u001B[38;5;28;01mif\u001B[39;00m current_id \u001B[38;5;129;01mnot\u001B[39;00m \u001B[38;5;129;01min\u001B[39;00m visited:\n\u001B[1;32m    105\u001B[0m     visited\u001B[38;5;241m.\u001B[39madd(current_id)\n\u001B[0;32m--> 106\u001B[0m     citations \u001B[38;5;241m=\u001B[39m \u001B[38;5;28;43mself\u001B[39;49m\u001B[38;5;241;43m.\u001B[39;49m\u001B[43mfind_citations_for\u001B[49m\u001B[43m(\u001B[49m\u001B[43mcurrent_id\u001B[49m\u001B[43m,\u001B[49m\u001B[43m \u001B[49m\u001B[43mconstraint\u001B[49m\u001B[38;5;241;43m=\u001B[39;49m\u001B[43mconstraint\u001B[49m\u001B[43m)\u001B[49m\n\u001B[1;32m    107\u001B[0m     \u001B[38;5;28;01mfor\u001B[39;00m citation \u001B[38;5;129;01min\u001B[39;00m citations:\n\u001B[1;32m    108\u001B[0m         links\u001B[38;5;241m.\u001B[39madd((current_id, citation))\n",
      "File \u001B[0;32m~/git/active/s2ag-corpus/src/s2ag_corpus/database_catalogue.py:77\u001B[0m, in \u001B[0;36mCorpusDatabaseCatalogue.find_citations_for\u001B[0;34m(self, corpus_id, constraint)\u001B[0m\n\u001B[1;32m     75\u001B[0m \u001B[38;5;28;01mif\u001B[39;00m constraint \u001B[38;5;129;01mis\u001B[39;00m \u001B[38;5;28;01mNone\u001B[39;00m:\n\u001B[1;32m     76\u001B[0m     constraint \u001B[38;5;241m=\u001B[39m \u001B[38;5;124m'\u001B[39m\u001B[38;5;124m'\u001B[39m\n\u001B[0;32m---> 77\u001B[0m rows \u001B[38;5;241m=\u001B[39m \u001B[38;5;28;43mself\u001B[39;49m\u001B[38;5;241;43m.\u001B[39;49m\u001B[43mfetch\u001B[49m\u001B[43m(\u001B[49m\u001B[38;5;28;43mself\u001B[39;49m\u001B[38;5;241;43m.\u001B[39;49m\u001B[43mCITATION_SQL\u001B[49m\u001B[43m \u001B[49m\u001B[38;5;241;43m+\u001B[39;49m\u001B[43m \u001B[49m\u001B[43mconstraint\u001B[49m\u001B[43m,\u001B[49m\u001B[43m \u001B[49m\u001B[43m(\u001B[49m\u001B[43mcorpus_id\u001B[49m\u001B[43m,\u001B[49m\u001B[43m)\u001B[49m\u001B[43m)\u001B[49m\n\u001B[1;32m     78\u001B[0m \u001B[38;5;28;01mreturn\u001B[39;00m [row[\u001B[38;5;241m0\u001B[39m] \u001B[38;5;28;01mfor\u001B[39;00m row \u001B[38;5;129;01min\u001B[39;00m rows]\n",
      "File \u001B[0;32m~/git/active/s2ag-corpus/src/s2ag_corpus/database_catalogue.py:132\u001B[0m, in \u001B[0;36mCorpusDatabaseCatalogue.fetch\u001B[0;34m(self, sql, params)\u001B[0m\n\u001B[1;32m    130\u001B[0m \u001B[38;5;28;01mdef\u001B[39;00m \u001B[38;5;21mfetch\u001B[39m(\u001B[38;5;28mself\u001B[39m, sql: \u001B[38;5;28mstr\u001B[39m, params\u001B[38;5;241m=\u001B[39m\u001B[38;5;28;01mNone\u001B[39;00m) \u001B[38;5;241m-\u001B[39m\u001B[38;5;241m>\u001B[39m List[Tuple]:\n\u001B[1;32m    131\u001B[0m     \u001B[38;5;28;01mwith\u001B[39;00m \u001B[38;5;28mself\u001B[39m\u001B[38;5;241m.\u001B[39mconnection\u001B[38;5;241m.\u001B[39mcursor() \u001B[38;5;28;01mas\u001B[39;00m cursor:\n\u001B[0;32m--> 132\u001B[0m         \u001B[43mcursor\u001B[49m\u001B[38;5;241;43m.\u001B[39;49m\u001B[43mexecute\u001B[49m\u001B[43m(\u001B[49m\u001B[43msql\u001B[49m\u001B[43m,\u001B[49m\u001B[43m \u001B[49m\u001B[43mparams\u001B[49m\u001B[43m)\u001B[49m\n\u001B[1;32m    133\u001B[0m         \u001B[38;5;28;01mreturn\u001B[39;00m cursor\u001B[38;5;241m.\u001B[39mfetchall()\n",
      "File \u001B[0;32m/usr/lib/python3.10/encodings/utf_8.py:15\u001B[0m, in \u001B[0;36mdecode\u001B[0;34m(input, errors)\u001B[0m\n\u001B[1;32m     11\u001B[0m \u001B[38;5;66;03m### Codec APIs\u001B[39;00m\n\u001B[1;32m     13\u001B[0m encode \u001B[38;5;241m=\u001B[39m codecs\u001B[38;5;241m.\u001B[39mutf_8_encode\n\u001B[0;32m---> 15\u001B[0m \u001B[38;5;28;01mdef\u001B[39;00m \u001B[38;5;21mdecode\u001B[39m(\u001B[38;5;28minput\u001B[39m, errors\u001B[38;5;241m=\u001B[39m\u001B[38;5;124m'\u001B[39m\u001B[38;5;124mstrict\u001B[39m\u001B[38;5;124m'\u001B[39m):\n\u001B[1;32m     16\u001B[0m     \u001B[38;5;28;01mreturn\u001B[39;00m codecs\u001B[38;5;241m.\u001B[39mutf_8_decode(\u001B[38;5;28minput\u001B[39m, errors, \u001B[38;5;28;01mTrue\u001B[39;00m)\n\u001B[1;32m     18\u001B[0m \u001B[38;5;28;01mclass\u001B[39;00m \u001B[38;5;21;01mIncrementalEncoder\u001B[39;00m(codecs\u001B[38;5;241m.\u001B[39mIncrementalEncoder):\n",
      "\u001B[0;31mKeyboardInterrupt\u001B[0m: "
     ]
    }
   ],
   "source": [
    "from s2ag_corpus.database_catalogue import CorpusDatabaseCatalogue, production_connection\n",
    "from s2ag_corpus.dot_writer import write_dot_file\n",
    "connection = production_connection()\n",
    "catalogue = CorpusDatabaseCatalogue(connection)\n",
    "id = catalogue.find_corpus_id_from('bde9da9a39a065588d7f4573936731510d6f4f29')\n",
    "enriched_links = catalogue.enriched_links(id, influential=False)\n",
    "write_dot_file(enriched_links, 'medprompt.dot')"
   ]
  },
  {
   "cell_type": "code",
   "outputs": [],
   "source": [
    "!dot -Tsvg medprompt.dot -o medprompt.svg"
   ],
   "metadata": {
    "collapsed": true,
    "ExecuteTime": {
     "start_time": "2024-05-28T09:30:50.128335118Z"
    }
   },
   "id": "initial_id",
   "execution_count": null
  },
  {
   "cell_type": "code",
   "outputs": [],
   "source": [
    "connection.rollback()"
   ],
   "metadata": {
    "collapsed": false,
    "ExecuteTime": {
     "end_time": "2024-05-28T09:30:50.130685332Z",
     "start_time": "2024-05-28T09:30:50.128444248Z"
    }
   },
   "id": "2c7a5e7970fca2df",
   "execution_count": null
  },
  {
   "cell_type": "code",
   "outputs": [],
   "source": [],
   "metadata": {
    "collapsed": false,
    "ExecuteTime": {
     "start_time": "2024-05-28T09:30:50.130665183Z"
    }
   },
   "id": "daff32c64d5d2965"
  }
 ],
 "metadata": {
  "kernelspec": {
   "display_name": "Python 3",
   "language": "python",
   "name": "python3"
  },
  "language_info": {
   "codemirror_mode": {
    "name": "ipython",
    "version": 2
   },
   "file_extension": ".py",
   "mimetype": "text/x-python",
   "name": "python",
   "nbconvert_exporter": "python",
   "pygments_lexer": "ipython2",
   "version": "2.7.6"
  }
 },
 "nbformat": 4,
 "nbformat_minor": 5
}

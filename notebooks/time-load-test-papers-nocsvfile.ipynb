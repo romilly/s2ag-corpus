{
 "cells": [
  {
   "cell_type": "code",
   "execution_count": 23,
   "id": "0ba68e2f-9be1-4565-ae00-87d9280fdc52",
   "metadata": {
    "ExecuteTime": {
     "end_time": "2024-04-21T16:22:47.821794424Z",
     "start_time": "2024-04-21T16:22:47.815967375Z"
    }
   },
   "outputs": [],
   "source": [
    "import sys\n",
    "sys.path.append('../src')\n"
   ]
  },
  {
   "cell_type": "code",
   "execution_count": 24,
   "id": "initial_id",
   "metadata": {
    "ExecuteTime": {
     "end_time": "2024-04-21T16:22:47.951693777Z",
     "start_time": "2024-04-21T16:22:47.821195363Z"
    }
   },
   "outputs": [],
   "source": [
    "from datetime import datetime\n",
    "import json\n",
    "import csv\n",
    "import os\n",
    "import socket\n",
    "from io import StringIO\n",
    "\n",
    "from s2ag_corpus.database_catalogue import CorpusDatabaseCatalogue\n",
    "from s2ag_corpus.database_catalogue import test_connection"
   ]
  },
  {
   "cell_type": "code",
   "execution_count": 25,
   "id": "e31c7eceb15d5f82",
   "metadata": {
    "collapsed": false,
    "ExecuteTime": {
     "end_time": "2024-04-21T16:22:48.042361911Z",
     "start_time": "2024-04-21T16:22:47.951592808Z"
    }
   },
   "outputs": [],
   "source": [
    "from dotenv import load_dotenv\n",
    "load_dotenv()\n",
    "base_dir = os.getenv(\"BASE_DIR\")"
   ]
  },
  {
   "cell_type": "code",
   "execution_count": 26,
   "id": "f6dda6442dd01088",
   "metadata": {
    "collapsed": false,
    "ExecuteTime": {
     "end_time": "2024-04-21T16:22:48.152790731Z",
     "start_time": "2024-04-21T16:22:48.042560224Z"
    }
   },
   "outputs": [],
   "source": [
    "hostname = socket.gethostname()"
   ]
  },
  {
   "cell_type": "code",
   "execution_count": 27,
   "id": "dfcff578e17a7654",
   "metadata": {
    "collapsed": false,
    "ExecuteTime": {
     "end_time": "2024-04-21T16:22:48.301953585Z",
     "start_time": "2024-04-21T16:22:48.153549061Z"
    }
   },
   "outputs": [],
   "source": [
    "connection = test_connection()\n",
    "catalogue = CorpusDatabaseCatalogue(test_connection())\n",
    "\n",
    "\n",
    "def delete_papers_from_local_db():\n",
    "    with connection.cursor() as cursor:\n",
    "        cursor.execute('DELETE FROM papers')\n",
    "        connection.commit()\n"
   ]
  },
  {
   "cell_type": "code",
   "execution_count": 28,
   "id": "c34a0e86cc962943",
   "metadata": {
    "collapsed": false,
    "ExecuteTime": {
     "end_time": "2024-04-21T16:22:48.379082083Z",
     "start_time": "2024-04-21T16:22:48.302155466Z"
    }
   },
   "outputs": [],
   "source": [
    "delete_papers_from_local_db()"
   ]
  },
  {
   "cell_type": "code",
   "execution_count": 29,
   "id": "f72d66948124c0fd",
   "metadata": {
    "collapsed": false,
    "ExecuteTime": {
     "end_time": "2024-04-21T16:22:48.512576690Z",
     "start_time": "2024-04-21T16:22:48.380203580Z"
    }
   },
   "outputs": [],
   "source": [
    "release_id = '2024-04-02'\n",
    "test_dir = f\"{base_dir}/test-data\""
   ]
  },
  {
   "cell_type": "code",
   "execution_count": 30,
   "id": "79adaefd5637f7d5",
   "metadata": {
    "collapsed": false,
    "ExecuteTime": {
     "end_time": "2024-04-21T16:22:48.576312781Z",
     "start_time": "2024-04-21T16:22:48.513326746Z"
    }
   },
   "outputs": [],
   "source": [
    "def read_records_from_file(file_path):\n",
    "    \"\"\"A generator function that returns reformatted lines in a file.\"\"\"\n",
    "    output = StringIO()\n",
    "    writer = csv.writer(output, delimiter=',', quoting=csv.QUOTE_NONE, escapechar='\\\\')\n",
    "    with open(file_path, 'r') as file:\n",
    "        for line in file:\n",
    "            line = line.strip()\n",
    "            jd = json.loads(line)\n",
    "            record = (jd['corpusid'], line)\n",
    "            output.seek(0)\n",
    "            output.truncate(0)\n",
    "            writer.writerow(record)\n",
    "            yield output.getvalue()"
   ]
  },
  {
   "cell_type": "code",
   "execution_count": 31,
   "id": "b654ec9ecc790142",
   "metadata": {
    "collapsed": false,
    "ExecuteTime": {
     "end_time": "2024-04-21T16:22:48.662814457Z",
     "start_time": "2024-04-21T16:22:48.576836190Z"
    }
   },
   "outputs": [],
   "source": [
    "files = os.listdir()"
   ]
  },
  {
   "cell_type": "code",
   "outputs": [],
   "source": [
    "class GeneratorFileAdapter:\n",
    "    def __init__(self, generator):\n",
    "        self.generator = generator\n",
    "        self.buffer = ''\n",
    "        self.count = 0\n",
    "\n",
    "    def read(self, size=-1):\n",
    "        # Fill the buffer to meet the size requirement or if size is -1 then try to exhaust the generator\n",
    "        while (size < 0 or len(self.buffer) < size) and (chunk := next(self.generator, None)) is not None:\n",
    "            self.buffer += chunk\n",
    "            if not self.buffer.endswith('\\n'):\n",
    "                self.buffer += '\\n'  # Ensure each chunk ends with a newline\n",
    "\n",
    "        if size < 0 or len(self.buffer) <= size:\n",
    "            to_return, self.buffer = self.buffer, ''\n",
    "        else:\n",
    "            to_return, self.buffer = self.buffer[:size], self.buffer[size:]\n",
    "\n",
    "        return to_return\n"
   ],
   "metadata": {
    "collapsed": false,
    "ExecuteTime": {
     "end_time": "2024-04-21T16:22:48.817348176Z",
     "start_time": "2024-04-21T16:22:48.663925965Z"
    }
   },
   "id": "4fb92a84646b231e",
   "execution_count": 32
  },
  {
   "cell_type": "code",
   "execution_count": 33,
   "id": "25fca2332b50d605",
   "metadata": {
    "collapsed": false,
    "ExecuteTime": {
     "end_time": "2024-04-21T16:30:26.135820105Z",
     "start_time": "2024-04-21T16:22:48.831581864Z"
    }
   },
   "outputs": [
    {
     "name": "stdout",
     "output_type": "stream",
     "text": [
      "opening timing file timing-without-csv-file-treliske-2024-04-21 17:22:48.940202.csv\n",
      "processing: 2024-04-02-papers000 at 2024-04-21 17:22:48.941612\n",
      "loaded: in 0:01:29.520131\n",
      "processing: 2024-04-02-papers001 at 2024-04-21 17:24:18.461888\n",
      "loaded: in 0:01:29.079421\n",
      "processing: 2024-04-02-papers002 at 2024-04-21 17:25:47.541423\n",
      "loaded: in 0:01:29.619652\n",
      "processing: 2024-04-02-papers003 at 2024-04-21 17:27:17.161180\n",
      "loaded: in 0:01:36.377192\n",
      "processing: 2024-04-02-papers004 at 2024-04-21 17:28:53.538508\n",
      "loaded: in 0:01:32.550572\n",
      "done\n"
     ]
    }
   ],
   "source": [
    "count = 0\n",
    "session_start = datetime.now()\n",
    "timing_file_name = f'timing-without-csv-file-{hostname}-{session_start}.csv'\n",
    "timing_file = open(timing_file_name, 'w')\n",
    "print(f\"opening timing file {timing_file_name}\")\n",
    "timing_writer = csv.writer(timing_file)\n",
    "timing_writer.writerow(['filename','count','start','end','duration'])\n",
    "for filename in sorted(os.listdir(test_dir)):\n",
    "    if filename.startswith(\"2024-04-02\"):\n",
    "        print(f\"processing: {filename} at {datetime.now()}\")\n",
    "        adapter = GeneratorFileAdapter(read_records_from_file(f\"{test_dir}/{filename}\"))\n",
    "        # transfer_file = f\"{test_dir}/transfer.csv\"\n",
    "        output = StringIO()\n",
    "        writer = csv.writer(output, delimiter=',', quoting=csv.QUOTE_NONE, escapechar='\\\\')\n",
    "        start = datetime.now()\n",
    "        with connection.cursor() as cursor:\n",
    "            cursor.copy_from(adapter, 'papers', sep=',', null='')\n",
    "            connection.commit()\n",
    "        end = datetime.now()\n",
    "        print(f\"loaded: in {end - start}\")\n",
    "        timing_writer.writerow([filename,count,start,end, end-start])\n",
    "timing_file.close()\n",
    "print('done')\n"
   ]
  }
 ],
 "metadata": {
  "kernelspec": {
   "display_name": "Python 3 (ipykernel)",
   "language": "python",
   "name": "python3"
  },
  "language_info": {
   "codemirror_mode": {
    "name": "ipython",
    "version": 3
   },
   "file_extension": ".py",
   "mimetype": "text/x-python",
   "name": "python",
   "nbconvert_exporter": "python",
   "pygments_lexer": "ipython3",
   "version": "3.11.2"
  }
 },
 "nbformat": 4,
 "nbformat_minor": 5
}

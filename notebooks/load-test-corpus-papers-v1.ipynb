{
 "cells": [
  {
   "cell_type": "code",
   "execution_count": 1,
   "id": "initial_id",
   "metadata": {
    "collapsed": true,
    "jupyter": {
     "outputs_hidden": true
    },
    "ExecuteTime": {
     "end_time": "2024-04-22T15:13:10.073121119Z",
     "start_time": "2024-04-22T15:13:09.719510222Z"
    }
   },
   "outputs": [],
   "source": [
    "import os\n",
    "import json\n",
    "from s2ag_corpus.sql import INSERT_PAPER_SQL, CREATE_PAPERS_TABLE_WITH_KEYS\n",
    "\n",
    "from dotenv import load_dotenv\n",
    "load_dotenv()\n",
    "base_dir = os.getenv(\"BASE_DIR\")"
   ]
  },
  {
   "cell_type": "code",
   "execution_count": 2,
   "id": "dbfb0845a6c75af8",
   "metadata": {
    "collapsed": false,
    "ExecuteTime": {
     "end_time": "2024-04-22T15:13:10.405074115Z",
     "start_time": "2024-04-22T15:13:10.074824036Z"
    }
   },
   "outputs": [],
   "source": [
    "from s2ag_corpus.database_catalogue import local_connection\n",
    "\n",
    "connection = local_connection()\n",
    "\n",
    "def drop_and_replace_papers_table():\n",
    "    with connection.cursor() as cursor:\n",
    "        cursor.execute('drop table if exists papers')\n",
    "        cursor.execute(CREATE_PAPERS_TABLE_WITH_KEYS)"
   ]
  },
  {
   "cell_type": "code",
   "execution_count": 3,
   "id": "8e91f1d718c24f2f",
   "metadata": {
    "collapsed": false,
    "ExecuteTime": {
     "end_time": "2024-04-22T15:13:10.418898064Z",
     "start_time": "2024-04-22T15:13:10.406305224Z"
    }
   },
   "outputs": [],
   "source": [
    "drop_and_replace_papers_table()\n",
    "    "
   ]
  },
  {
   "cell_type": "code",
   "outputs": [],
   "source": [
    "test_file = base_dir+'/2024-04-02/papers/first10000papers'\n",
    "with open(test_file) as f:\n",
    "    with connection.cursor() as cursor:\n",
    "        for line in f:\n",
    "            line = line.strip()\n",
    "            lj = json.loads(line)\n",
    "            corpus_id = lj['corpusid']\n",
    "            cursor.execute(INSERT_PAPER_SQL, (corpus_id, line))\n",
    "            connection.commit()\n",
    "    "
   ],
   "metadata": {
    "collapsed": false,
    "ExecuteTime": {
     "end_time": "2024-04-22T15:13:19.891550250Z",
     "start_time": "2024-04-22T15:13:10.420003885Z"
    }
   },
   "id": "13bd70845b07b672",
   "execution_count": 4
  },
  {
   "cell_type": "code",
   "execution_count": 5,
   "id": "6c3375ec9fbe0e4d",
   "metadata": {
    "collapsed": false,
    "ExecuteTime": {
     "end_time": "2024-04-22T15:13:19.898248741Z",
     "start_time": "2024-04-22T15:13:19.893631640Z"
    }
   },
   "outputs": [],
   "source": [
    "connection.rollback()"
   ]
  },
  {
   "cell_type": "code",
   "execution_count": 5,
   "id": "b5f0cd587f414542",
   "metadata": {
    "collapsed": false,
    "ExecuteTime": {
     "end_time": "2024-04-22T15:13:19.913323756Z",
     "start_time": "2024-04-22T15:13:19.897017610Z"
    }
   },
   "outputs": [],
   "source": []
  }
 ],
 "metadata": {
  "kernelspec": {
   "display_name": "Python 3 (ipykernel)",
   "language": "python",
   "name": "python3"
  },
  "language_info": {
   "codemirror_mode": {
    "name": "ipython",
    "version": 3
   },
   "file_extension": ".py",
   "mimetype": "text/x-python",
   "name": "python",
   "nbconvert_exporter": "python",
   "pygments_lexer": "ipython3",
   "version": "3.10.12"
  }
 },
 "nbformat": 4,
 "nbformat_minor": 5
}

{
 "cells": [
  {
   "cell_type": "code",
   "execution_count": 1,
   "id": "694c85b0428bee7b",
   "metadata": {
    "collapsed": false,
    "ExecuteTime": {
     "end_time": "2024-05-28T09:40:55.984299452Z",
     "start_time": "2024-05-28T09:40:55.984016232Z"
    }
   },
   "outputs": [],
   "source": [
    "import subprocess\n",
    "from s2ag_corpus.database_catalogue import CorpusDatabaseCatalogue, production_connection\n",
    "from s2ag_corpus.dot_writer import write_dot_file\n",
    "connection = production_connection()\n",
    "catalogue = CorpusDatabaseCatalogue(connection)"
   ]
  },
  {
   "cell_type": "code",
   "outputs": [],
   "source": [
    "sha = 'a2266a06e752df98615787746599dc81440c0ae1'\n",
    "name = 'm2'\n",
    "id = catalogue.find_corpus_id_from(sha)\n",
    "enriched_links = catalogue.enriched_links(id, influential=False)\n",
    "write_dot_file(enriched_links, f'citations/{name}.dot', show_labels=True)"
   ],
   "metadata": {
    "collapsed": false,
    "ExecuteTime": {
     "end_time": "2024-05-28T09:40:56.104670511Z",
     "start_time": "2024-05-28T09:40:55.984151415Z"
    }
   },
   "id": "45f7bc3941aefcf7",
   "execution_count": 2
  },
  {
   "cell_type": "code",
   "outputs": [
    {
     "name": "stdout",
     "output_type": "stream",
     "text": [
      "svg file created.\n"
     ]
    }
   ],
   "source": [
    "command = ['dot', '-Tsvg', f'citations/{name}.dot', '-o', f'citations/{name}.svg']\n",
    "result = subprocess.run(command, capture_output=True, text=True)\n",
    "if result.returncode == 0:\n",
    "    print(\"svg file created.\")\n",
    "else:\n",
    "    print(\"Error in creating svg file:\")\n",
    "    print(result.stderr)\n"
   ],
   "metadata": {
    "collapsed": true,
    "ExecuteTime": {
     "end_time": "2024-05-28T09:40:56.285508806Z",
     "start_time": "2024-05-28T09:40:56.113303451Z"
    }
   },
   "id": "initial_id",
   "execution_count": 3
  },
  {
   "cell_type": "code",
   "outputs": [],
   "source": [
    "connection.rollback()"
   ],
   "metadata": {
    "collapsed": false,
    "ExecuteTime": {
     "end_time": "2024-05-28T09:40:56.359213243Z",
     "start_time": "2024-05-28T09:40:56.286126108Z"
    }
   },
   "id": "2c7a5e7970fca2df",
   "execution_count": 4
  },
  {
   "cell_type": "code",
   "outputs": [],
   "source": [],
   "metadata": {
    "collapsed": false,
    "ExecuteTime": {
     "end_time": "2024-05-28T09:40:56.363923621Z",
     "start_time": "2024-05-28T09:40:56.360931352Z"
    }
   },
   "id": "daff32c64d5d2965",
   "execution_count": 4
  }
 ],
 "metadata": {
  "kernelspec": {
   "display_name": "Python 3",
   "language": "python",
   "name": "python3"
  },
  "language_info": {
   "codemirror_mode": {
    "name": "ipython",
    "version": 2
   },
   "file_extension": ".py",
   "mimetype": "text/x-python",
   "name": "python",
   "nbconvert_exporter": "python",
   "pygments_lexer": "ipython2",
   "version": "2.7.6"
  }
 },
 "nbformat": 4,
 "nbformat_minor": 5
}

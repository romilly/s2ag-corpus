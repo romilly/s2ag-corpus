{
 "cells": [
  {
   "cell_type": "code",
   "execution_count": 17,
   "id": "0ba68e2f-9be1-4565-ae00-87d9280fdc52",
   "metadata": {
    "ExecuteTime": {
     "end_time": "2024-04-21T13:10:50.376099527Z",
     "start_time": "2024-04-21T13:10:50.370881616Z"
    }
   },
   "outputs": [],
   "source": [
    "import sys\n",
    "sys.path.append('../src')\n"
   ]
  },
  {
   "cell_type": "code",
   "execution_count": 18,
   "id": "initial_id",
   "metadata": {
    "ExecuteTime": {
     "end_time": "2024-04-21T13:10:50.599412128Z",
     "start_time": "2024-04-21T13:10:50.378699274Z"
    }
   },
   "outputs": [],
   "source": [
    "from datetime import datetime\n",
    "import json\n",
    "import csv\n",
    "import os\n",
    "import socket\n",
    "\n",
    "from s2ag_corpus.database_catalogue import DatabaseCatalogue\n",
    "from s2ag_corpus.database_catalogue import test_connection"
   ]
  },
  {
   "cell_type": "code",
   "execution_count": 19,
   "id": "e31c7eceb15d5f82",
   "metadata": {
    "collapsed": false,
    "ExecuteTime": {
     "end_time": "2024-04-21T13:10:50.884147680Z",
     "start_time": "2024-04-21T13:10:50.643601816Z"
    }
   },
   "outputs": [],
   "source": [
    "from dotenv import load_dotenv\n",
    "load_dotenv()\n",
    "base_dir = os.getenv(\"BASE_DIR\")"
   ]
  },
  {
   "cell_type": "code",
   "execution_count": 20,
   "id": "f6dda6442dd01088",
   "metadata": {
    "collapsed": false,
    "ExecuteTime": {
     "end_time": "2024-04-21T13:10:51.150722542Z",
     "start_time": "2024-04-21T13:10:50.885140107Z"
    }
   },
   "outputs": [],
   "source": [
    "hostname = socket.gethostname()"
   ]
  },
  {
   "cell_type": "code",
   "execution_count": 21,
   "id": "dfcff578e17a7654",
   "metadata": {
    "collapsed": false,
    "ExecuteTime": {
     "end_time": "2024-04-21T13:10:51.518550716Z",
     "start_time": "2024-04-21T13:10:51.153382017Z"
    }
   },
   "outputs": [],
   "source": [
    "connection = test_connection()\n",
    "catalogue = DatabaseCatalogue(test_connection())\n",
    "\n",
    "\n",
    "def delete_papers_from_local_db():\n",
    "    with connection.cursor() as cursor:\n",
    "        cursor.execute('DELETE FROM papers')\n",
    "        connection.commit()\n"
   ]
  },
  {
   "cell_type": "code",
   "execution_count": 22,
   "id": "c34a0e86cc962943",
   "metadata": {
    "collapsed": false,
    "ExecuteTime": {
     "end_time": "2024-04-21T13:10:51.678756063Z",
     "start_time": "2024-04-21T13:10:51.519945853Z"
    }
   },
   "outputs": [],
   "source": [
    "delete_papers_from_local_db()"
   ]
  },
  {
   "cell_type": "code",
   "execution_count": 23,
   "id": "f72d66948124c0fd",
   "metadata": {
    "collapsed": false,
    "ExecuteTime": {
     "end_time": "2024-04-21T13:10:51.986666034Z",
     "start_time": "2024-04-21T13:10:51.683788281Z"
    }
   },
   "outputs": [],
   "source": [
    "release_id = '2024-04-02'\n",
    "test_dir = f\"{base_dir}/test-data\""
   ]
  },
  {
   "cell_type": "code",
   "execution_count": 24,
   "id": "79adaefd5637f7d5",
   "metadata": {
    "collapsed": false,
    "ExecuteTime": {
     "end_time": "2024-04-21T13:10:52.266167698Z",
     "start_time": "2024-04-21T13:10:51.992265778Z"
    }
   },
   "outputs": [],
   "source": [
    "def read_records_from_file(file_path):\n",
    "    \"\"\"A generator function that returns reformatted lines in a file.\"\"\"\n",
    "    with open(file_path, 'r') as file:\n",
    "        for line in file:\n",
    "            line = line.strip()\n",
    "            jd = json.loads(line)\n",
    "            record = (jd['corpusid'], line)\n",
    "            yield record"
   ]
  },
  {
   "cell_type": "code",
   "execution_count": 25,
   "id": "b654ec9ecc790142",
   "metadata": {
    "collapsed": false,
    "ExecuteTime": {
     "end_time": "2024-04-21T13:10:52.462422919Z",
     "start_time": "2024-04-21T13:10:52.266281330Z"
    }
   },
   "outputs": [],
   "source": [
    "files = os.listdir()"
   ]
  },
  {
   "cell_type": "code",
   "execution_count": 26,
   "id": "25fca2332b50d605",
   "metadata": {
    "collapsed": false,
    "ExecuteTime": {
     "end_time": "2024-04-21T13:12:00.635687250Z",
     "start_time": "2024-04-21T13:10:52.503985338Z"
    }
   },
   "outputs": [
    {
     "name": "stdout",
     "output_type": "stream",
     "text": [
      "opening timing file timing-without_key-treliske-2024-04-21 14:10:52.665683.csv\n",
      "processing: 2024-04-02-papers000 at 2024-04-21 14:10:52.666403\n",
      "processed: 100000 at 2024-04-21 14:10:57.790196\n",
      "copying from csv file /media/romilly/ss-corpus/test-data/transfer.csv\n",
      "loaded: 100000 in 0:00:08.891173\n",
      "processing: 2024-04-02-papers001 at 2024-04-21 14:11:06.681548\n",
      "processed: 200000 at 2024-04-21 14:11:11.318589\n",
      "copying from csv file /media/romilly/ss-corpus/test-data/transfer.csv\n",
      "loaded: 200000 in 0:00:08.916455\n",
      "processing: 2024-04-02-papers002 at 2024-04-21 14:11:20.235199\n",
      "processed: 300000 at 2024-04-21 14:11:24.858718\n",
      "copying from csv file /media/romilly/ss-corpus/test-data/transfer.csv\n",
      "loaded: 300000 in 0:00:08.876208\n",
      "processing: 2024-04-02-papers003 at 2024-04-21 14:11:33.735254\n",
      "processed: 400000 at 2024-04-21 14:11:38.292185\n",
      "copying from csv file /media/romilly/ss-corpus/test-data/transfer.csv\n",
      "loaded: 400000 in 0:00:08.894806\n",
      "processing: 2024-04-02-papers004 at 2024-04-21 14:11:47.187330\n",
      "processed: 500000 at 2024-04-21 14:11:51.705662\n",
      "copying from csv file /media/romilly/ss-corpus/test-data/transfer.csv\n",
      "loaded: 500000 in 0:00:08.884171\n",
      "done\n"
     ]
    }
   ],
   "source": [
    "count = 0\n",
    "session_start = datetime.now()\n",
    "timing_file_name = f'timing-without_key-{hostname}-{session_start}.csv'\n",
    "timing_file = open(timing_file_name, 'w')\n",
    "print(f\"opening timing file {timing_file_name}\")\n",
    "timing_writer = csv.writer(timing_file)\n",
    "timing_writer.writerow(['filename','count','start','end','duration'])\n",
    "for filename in sorted(os.listdir(test_dir)):\n",
    "    if filename.startswith(\"2024-04-02\"):\n",
    "        print(f\"processing: {filename} at {datetime.now()}\")\n",
    "        transfer_file = f\"{test_dir}/transfer.csv\"\n",
    "        start = datetime.now()\n",
    "        with open(transfer_file,'w') as csvf:\n",
    "            writer = csv.writer(csvf, delimiter=',', quoting=csv.QUOTE_NONE, escapechar='\\\\')\n",
    "            for record in read_records_from_file(f\"{test_dir}/{filename}\"):\n",
    "                writer.writerow(record)\n",
    "                count += 1\n",
    "        print(f\"processed: {count} at {datetime.now()}\")\n",
    "        print(f\"copying from csv file {transfer_file}\")\n",
    "        start = datetime.now()\n",
    "        with open(transfer_file,'r') as csvf:\n",
    "            with connection.cursor() as cursor:\n",
    "                cursor.copy_from(csvf, 'papers', sep=',', null='')\n",
    "            connection.commit()\n",
    "        end = datetime.now()\n",
    "        print(f\"loaded: {count} in {end - start}\")\n",
    "        timing_writer.writerow([filename,count,start,end, end-start])\n",
    "timing_file.close()\n",
    "print('done')\n"
   ]
  }
 ],
 "metadata": {
  "kernelspec": {
   "display_name": "Python 3 (ipykernel)",
   "language": "python",
   "name": "python3"
  },
  "language_info": {
   "codemirror_mode": {
    "name": "ipython",
    "version": 3
   },
   "file_extension": ".py",
   "mimetype": "text/x-python",
   "name": "python",
   "nbconvert_exporter": "python",
   "pygments_lexer": "ipython3",
   "version": "3.11.2"
  }
 },
 "nbformat": 4,
 "nbformat_minor": 5
}

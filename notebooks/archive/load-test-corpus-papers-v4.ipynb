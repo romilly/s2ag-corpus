{
 "cells": [
  {
   "cell_type": "code",
   "execution_count": 1,
   "id": "ae690dfe16a964cd",
   "metadata": {
    "collapsed": false,
    "ExecuteTime": {
     "end_time": "2024-04-22T15:38:06.964384186Z",
     "start_time": "2024-04-22T15:38:06.963473739Z"
    }
   },
   "outputs": [],
   "source": [
    "import os\n",
    "import json\n",
    "import csv\n",
    "from dotenv import load_dotenv\n",
    "\n",
    "from s2ag_corpus.sql import CREATE_PAPERS_TABLE_WITH_KEYS"
   ]
  },
  {
   "cell_type": "code",
   "outputs": [],
   "source": [
    "load_dotenv()\n",
    "base_dir = os.getenv(\"BASE_DIR\")"
   ],
   "metadata": {
    "collapsed": true,
    "jupyter": {
     "outputs_hidden": true
    },
    "ExecuteTime": {
     "end_time": "2024-04-22T15:38:07.005355493Z",
     "start_time": "2024-04-22T15:38:06.963595215Z"
    }
   },
   "id": "initial_id",
   "execution_count": 2
  },
  {
   "cell_type": "code",
   "execution_count": 3,
   "id": "dbfb0845a6c75af8",
   "metadata": {
    "collapsed": false,
    "ExecuteTime": {
     "end_time": "2024-04-22T15:38:07.114364494Z",
     "start_time": "2024-04-22T15:38:07.006605438Z"
    }
   },
   "outputs": [],
   "source": [
    "from s2ag_corpus.database_catalogue import local_connection\n",
    "\n",
    "connection = local_connection()\n",
    "\n",
    "def drop_and_replace_papers_table():\n",
    "    with connection.cursor() as cursor:\n",
    "        cursor.execute('drop table if exists papers')\n",
    "        cursor.execute(CREATE_PAPERS_TABLE_WITH_KEYS)"
   ]
  },
  {
   "cell_type": "code",
   "execution_count": 4,
   "id": "8e91f1d718c24f2f",
   "metadata": {
    "collapsed": false,
    "ExecuteTime": {
     "end_time": "2024-04-22T15:38:07.186574422Z",
     "start_time": "2024-04-22T15:38:07.115307070Z"
    }
   },
   "outputs": [],
   "source": [
    "drop_and_replace_papers_table()\n",
    "    "
   ]
  },
  {
   "cell_type": "code",
   "outputs": [],
   "source": [
    "test_file = base_dir+'/2024-04-02/papers/first10000papers'\n",
    "transfer_file = base_dir+'/2024-04-02/papers/transfer.csv'\n",
    "with open(test_file) as f:\n",
    "    jason_dictionaries = [(line, json.loads(line)) for line in f.readlines()]\n",
    "    records = [(jd['corpusid'], line.strip()) for  line, jd in jason_dictionaries]\n",
    "    with open(transfer_file,'w') as csvf:\n",
    "        writer = csv.writer(csvf, delimiter=',', quoting=csv.QUOTE_NONE, escapechar='\\\\')\n",
    "        for record in records:\n",
    "            writer.writerow(record)"
   ],
   "metadata": {
    "collapsed": false,
    "ExecuteTime": {
     "end_time": "2024-04-22T15:41:41.822226920Z",
     "start_time": "2024-04-22T15:41:39.009194746Z"
    }
   },
   "id": "13bd70845b07b672",
   "execution_count": 7
  },
  {
   "cell_type": "code",
   "execution_count": 8,
   "id": "6c3375ec9fbe0e4d",
   "metadata": {
    "collapsed": false,
    "ExecuteTime": {
     "end_time": "2024-04-22T15:41:55.907303663Z",
     "start_time": "2024-04-22T15:41:55.728759551Z"
    }
   },
   "outputs": [],
   "source": [
    "with open(transfer_file,'r') as csvf:\n",
    "    with connection.cursor() as cursor:\n",
    "        cursor.copy_from(csvf, 'papers', sep=',', null='')\n",
    "    connection.commit()"
   ]
  },
  {
   "cell_type": "code",
   "outputs": [],
   "source": [],
   "metadata": {
    "collapsed": false
   },
   "id": "dc5087f7aacebf39"
  }
 ],
 "metadata": {
  "kernelspec": {
   "display_name": "Python 3 (ipykernel)",
   "language": "python",
   "name": "python3"
  },
  "language_info": {
   "codemirror_mode": {
    "name": "ipython",
    "version": 3
   },
   "file_extension": ".py",
   "mimetype": "text/x-python",
   "name": "python",
   "nbconvert_exporter": "python",
   "pygments_lexer": "ipython3",
   "version": "3.10.12"
  }
 },
 "nbformat": 4,
 "nbformat_minor": 5
}

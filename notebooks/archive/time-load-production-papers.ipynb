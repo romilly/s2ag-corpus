{
 "cells": [
  {
   "cell_type": "code",
   "execution_count": 1,
   "id": "0ba68e2f-9be1-4565-ae00-87d9280fdc52",
   "metadata": {},
   "outputs": [],
   "source": [
    "import sys\n",
    "sys.path.append('../src')\n"
   ]
  },
  {
   "cell_type": "code",
   "execution_count": 2,
   "id": "initial_id",
   "metadata": {
    "ExecuteTime": {
     "end_time": "2024-04-19T08:10:24.356746551Z",
     "start_time": "2024-04-19T08:10:24.356295987Z"
    }
   },
   "outputs": [],
   "source": [
    "from datetime import datetime\n",
    "import json\n",
    "import csv\n",
    "import os\n",
    "import socket\n",
    "\n",
    "from s2ag_corpus.database_catalogue import CorpusDatabaseCatalogue\n",
    "from s2ag_corpus.database_catalogue import production_connection"
   ]
  },
  {
   "cell_type": "code",
   "execution_count": 3,
   "id": "e31c7eceb15d5f82",
   "metadata": {
    "ExecuteTime": {
     "end_time": "2024-04-19T08:10:24.460379458Z",
     "start_time": "2024-04-19T08:10:24.356533001Z"
    },
    "collapsed": false,
    "jupyter": {
     "outputs_hidden": false
    }
   },
   "outputs": [],
   "source": [
    "from dotenv import load_dotenv\n",
    "load_dotenv()\n",
    "base_dir = os.getenv(\"BASE_DIR\")"
   ]
  },
  {
   "cell_type": "code",
   "execution_count": 4,
   "id": "f6dda6442dd01088",
   "metadata": {
    "ExecuteTime": {
     "end_time": "2024-04-20T05:58:15.410875877Z",
     "start_time": "2024-04-20T05:58:15.404901011Z"
    },
    "collapsed": false,
    "jupyter": {
     "outputs_hidden": false
    }
   },
   "outputs": [],
   "source": [
    "hostname = socket.gethostname()"
   ]
  },
  {
   "cell_type": "code",
   "execution_count": 5,
   "id": "dfcff578e17a7654",
   "metadata": {
    "ExecuteTime": {
     "end_time": "2024-04-19T08:10:24.641758236Z",
     "start_time": "2024-04-19T08:10:24.461609071Z"
    },
    "collapsed": false,
    "jupyter": {
     "outputs_hidden": false
    }
   },
   "outputs": [],
   "source": [
    "connection = production_connection()\n",
    "catalogue = CorpusDatabaseCatalogue(production_connection())\n"
   ]
  },
  {
   "cell_type": "code",
   "execution_count": 6,
   "id": "f72d66948124c0fd",
   "metadata": {
    "ExecuteTime": {
     "end_time": "2024-04-19T08:13:50.308663635Z",
     "start_time": "2024-04-19T08:13:50.308093266Z"
    },
    "collapsed": false,
    "jupyter": {
     "outputs_hidden": false
    }
   },
   "outputs": [
    {
     "name": "stdout",
     "output_type": "stream",
     "text": [
      "using /home/romilly/data/ss-corpus/2024-04-02/papers\n"
     ]
    }
   ],
   "source": [
    "release_id = '2024-04-02'\n",
    "production_dir = f\"{base_dir}/{release_id}/papers\"\n",
    "print('using', production_dir)"
   ]
  },
  {
   "cell_type": "code",
   "execution_count": 7,
   "id": "79adaefd5637f7d5",
   "metadata": {
    "ExecuteTime": {
     "end_time": "2024-04-19T08:13:50.393492145Z",
     "start_time": "2024-04-19T08:13:50.308312909Z"
    },
    "collapsed": false,
    "jupyter": {
     "outputs_hidden": false
    }
   },
   "outputs": [],
   "source": [
    "def read_records_from_file(file_path):\n",
    "    \"\"\"A generator function that returns reformatted lines in a file.\"\"\"\n",
    "    with open(file_path, 'r') as file:\n",
    "        for line in file:\n",
    "            line = line.strip()\n",
    "            jd = json.loads(line)\n",
    "            record = (jd['corpusid'], line)\n",
    "            yield record"
   ]
  },
  {
   "cell_type": "code",
   "execution_count": 8,
   "id": "b654ec9ecc790142",
   "metadata": {
    "ExecuteTime": {
     "end_time": "2024-04-19T08:13:50.457155206Z",
     "start_time": "2024-04-19T08:13:50.396090101Z"
    },
    "collapsed": false,
    "jupyter": {
     "outputs_hidden": false
    }
   },
   "outputs": [],
   "source": [
    "files = os.listdir()"
   ]
  },
  {
   "cell_type": "code",
   "execution_count": null,
   "id": "25fca2332b50d605",
   "metadata": {
    "ExecuteTime": {
     "end_time": "2024-04-19T08:38:40.555581114Z",
     "start_time": "2024-04-19T08:13:50.461132610Z"
    },
    "collapsed": false,
    "jupyter": {
     "outputs_hidden": false
    },
    "scrolled": true
   },
   "outputs": [
    {
     "name": "stdout",
     "output_type": "stream",
     "text": [
      "processing: file at 2024-04-20 12:28:52.738506\n",
      "processed: 4965667 at 2024-04-20 12:34:11.174971\n",
      "copying from csv file /home/romilly/data/ss-corpus/2024-04-02/papers/transfer.csv\n",
      "loaded: 4965667 in 0:11:21.221421\n",
      "processing: file0 at 2024-04-20 12:45:32.396742\n",
      "processed: 7385768 at 2024-04-20 12:49:00.654992\n",
      "copying from csv file /home/romilly/data/ss-corpus/2024-04-02/papers/transfer.csv\n",
      "loaded: 7385768 in 0:05:13.558437\n",
      "processing: file1 at 2024-04-20 12:54:14.213734\n",
      "processed: 12351115 at 2024-04-20 13:02:51.189908\n",
      "copying from csv file /home/romilly/data/ss-corpus/2024-04-02/papers/transfer.csv\n",
      "loaded: 12351115 in 0:10:59.707430\n",
      "processing: file10 at 2024-04-20 13:13:50.897607\n",
      "processed: 17317075 at 2024-04-20 13:23:20.246948\n",
      "copying from csv file /home/romilly/data/ss-corpus/2024-04-02/papers/transfer.csv\n",
      "loaded: 17317075 in 0:11:32.311852\n",
      "processing: file11 at 2024-04-20 13:34:52.559131\n",
      "processed: 22281742 at 2024-04-20 13:46:38.743494\n",
      "copying from csv file /home/romilly/data/ss-corpus/2024-04-02/papers/transfer.csv\n",
      "loaded: 22281742 in 0:04:11.980601\n",
      "processing: file12 at 2024-04-20 13:50:50.724355\n",
      "processed: 27246164 at 2024-04-20 13:57:50.365335\n",
      "copying from csv file /home/romilly/data/ss-corpus/2024-04-02/papers/transfer.csv\n",
      "loaded: 27246164 in 0:07:01.281404\n",
      "processing: file13 at 2024-04-20 14:04:51.647046\n",
      "processed: 28056777 at 2024-04-20 14:05:54.093324\n",
      "copying from csv file /home/romilly/data/ss-corpus/2024-04-02/papers/transfer.csv\n",
      "loaded: 28056777 in 0:01:07.197879\n",
      "processing: file14 at 2024-04-20 14:07:01.291491\n",
      "processed: 33021521 at 2024-04-20 14:13:18.869582\n",
      "copying from csv file /home/romilly/data/ss-corpus/2024-04-02/papers/transfer.csv\n",
      "loaded: 33021521 in 0:06:48.303296\n",
      "processing: file15 at 2024-04-20 14:20:07.173143\n",
      "processed: 35542049 at 2024-04-20 14:22:58.986824\n",
      "copying from csv file /home/romilly/data/ss-corpus/2024-04-02/papers/transfer.csv\n",
      "loaded: 35542049 in 0:03:14.097082\n",
      "processing: file16 at 2024-04-20 14:26:13.084962\n",
      "processed: 37809867 at 2024-04-20 14:28:48.695203\n",
      "copying from csv file /home/romilly/data/ss-corpus/2024-04-02/papers/transfer.csv\n",
      "loaded: 37809867 in 0:02:51.354889\n",
      "processing: file17 at 2024-04-20 14:31:40.050389\n",
      "processed: 42774670 at 2024-04-20 14:37:29.078963\n",
      "copying from csv file /home/romilly/data/ss-corpus/2024-04-02/papers/transfer.csv\n",
      "loaded: 42774670 in 0:06:32.249110\n",
      "processing: file18 at 2024-04-20 14:44:01.328349\n",
      "processed: 44949225 at 2024-04-20 14:46:33.621249\n",
      "copying from csv file /home/romilly/data/ss-corpus/2024-04-02/papers/transfer.csv\n",
      "loaded: 44949225 in 0:02:48.633380\n",
      "processing: file19 at 2024-04-20 14:49:22.255612\n",
      "processed: 49914836 at 2024-04-20 14:58:16.624311\n",
      "copying from csv file /home/romilly/data/ss-corpus/2024-04-02/papers/transfer.csv\n",
      "loaded: 49914836 in 0:13:13.986392\n",
      "processing: file2 at 2024-04-20 15:11:30.610957\n",
      "processed: 52523707 at 2024-04-20 15:18:15.473237\n",
      "copying from csv file /home/romilly/data/ss-corpus/2024-04-02/papers/transfer.csv\n",
      "loaded: 52523707 in 0:06:00.573071\n",
      "processing: file20 at 2024-04-20 15:24:16.046870\n",
      "processed: 54869639 at 2024-04-20 15:27:23.414643\n",
      "copying from csv file /home/romilly/data/ss-corpus/2024-04-02/papers/transfer.csv\n",
      "loaded: 54869639 in 0:04:02.653582\n",
      "processing: file21 at 2024-04-20 15:31:26.068504\n",
      "processed: 59831774 at 2024-04-20 15:38:50.065990\n",
      "copying from csv file /home/romilly/data/ss-corpus/2024-04-02/papers/transfer.csv\n",
      "loaded: 59831774 in 0:07:45.979963\n",
      "processing: file22 at 2024-04-20 15:46:36.046215\n",
      "processed: 62012224 at 2024-04-20 15:51:02.242504\n",
      "copying from csv file /home/romilly/data/ss-corpus/2024-04-02/papers/transfer.csv\n",
      "loaded: 62012224 in 0:05:09.902279\n",
      "processing: file23 at 2024-04-20 15:56:12.145478\n",
      "processed: 66977544 at 2024-04-20 16:04:48.613562\n",
      "copying from csv file /home/romilly/data/ss-corpus/2024-04-02/papers/transfer.csv\n",
      "loaded: 66977544 in 0:06:03.390505\n",
      "processing: file24 at 2024-04-20 16:10:52.004343\n",
      "processed: 71945211 at 2024-04-20 16:16:25.217827\n",
      "copying from csv file /home/romilly/data/ss-corpus/2024-04-02/papers/transfer.csv\n",
      "loaded: 71945211 in 0:06:17.556488\n",
      "processing: file25 at 2024-04-20 16:22:42.774577\n",
      "processed: 74145768 at 2024-04-20 16:25:11.944384\n",
      "copying from csv file /home/romilly/data/ss-corpus/2024-04-02/papers/transfer.csv\n",
      "loaded: 74145768 in 0:03:10.060582\n",
      "processing: file26 at 2024-04-20 16:28:22.005264\n",
      "processed: 79109688 at 2024-04-20 16:34:22.414143\n",
      "copying from csv file /home/romilly/data/ss-corpus/2024-04-02/papers/transfer.csv\n",
      "loaded: 79109688 in 0:06:40.684760\n",
      "processing: file27 at 2024-04-20 16:41:03.099161\n",
      "processed: 84075986 at 2024-04-20 16:46:46.050543\n",
      "copying from csv file /home/romilly/data/ss-corpus/2024-04-02/papers/transfer.csv\n",
      "loaded: 84075986 in 0:06:33.303117\n",
      "processing: file28 at 2024-04-20 16:53:19.354741\n",
      "processed: 86444339 at 2024-04-20 16:56:01.133067\n",
      "copying from csv file /home/romilly/data/ss-corpus/2024-04-02/papers/transfer.csv\n",
      "loaded: 86444339 in 0:03:11.036679\n",
      "processing: file29 at 2024-04-20 16:59:12.170018\n",
      "processed: 88951752 at 2024-04-20 17:02:05.626212\n",
      "copying from csv file /home/romilly/data/ss-corpus/2024-04-02/papers/transfer.csv\n"
     ]
    }
   ],
   "source": [
    "count = 0\n",
    "session_start = datetime.now()\n",
    "timing_file = open(f'timing-production-without_key-{hostname}-{session_start}.csv', 'w')\n",
    "timing_writer = csv.writer(timing_file)\n",
    "timing_writer.writerow(['filename','count','start','end','duration'])\n",
    "for filename in sorted(os.listdir(production_dir)):\n",
    "    if filename.startswith(\"file\"):\n",
    "        print(f\"processing: {filename} at {datetime.now()}\")\n",
    "        transfer_file = f\"{production_dir}/transfer.csv\"\n",
    "        start = datetime.now()\n",
    "        with open(transfer_file,'w') as csvf:\n",
    "            writer = csv.writer(csvf, delimiter=',', quoting=csv.QUOTE_NONE, escapechar='\\\\')\n",
    "            for record in read_records_from_file(f\"{production_dir}/{filename}\"):\n",
    "                writer.writerow(record)\n",
    "                count += 1\n",
    "        print(f\"processed: {count} at {datetime.now()}\")\n",
    "        print(f\"copying from csv file {transfer_file}\")\n",
    "        start = datetime.now()\n",
    "        with open(transfer_file,'r') as csvf:\n",
    "            with connection.cursor() as cursor:\n",
    "                cursor.copy_from(csvf, 'papers', sep=',', null='')\n",
    "            connection.commit()\n",
    "        end = datetime.now()\n",
    "        print(f\"loaded: {count} in {end - start}\")\n",
    "        timing_writer.writerow([filename,count,start,end, end-start])\n",
    "timing_file.close()\n",
    "print('done')\n"
   ]
  },
  {
   "cell_type": "code",
   "execution_count": null,
   "id": "976b688e-d33c-4e0a-b5a1-d32e9a8854d4",
   "metadata": {},
   "outputs": [],
   "source": []
  }
 ],
 "metadata": {
  "kernelspec": {
   "display_name": "Python 3 (ipykernel)",
   "language": "python",
   "name": "python3"
  },
  "language_info": {
   "codemirror_mode": {
    "name": "ipython",
    "version": 3
   },
   "file_extension": ".py",
   "mimetype": "text/x-python",
   "name": "python",
   "nbconvert_exporter": "python",
   "pygments_lexer": "ipython3",
   "version": "3.11.2"
  }
 },
 "nbformat": 4,
 "nbformat_minor": 5
}

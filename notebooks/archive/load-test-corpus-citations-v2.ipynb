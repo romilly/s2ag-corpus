{
 "cells": [
  {
   "cell_type": "code",
   "execution_count": 10,
   "id": "ae690dfe16a964cd",
   "metadata": {
    "collapsed": false,
    "ExecuteTime": {
     "end_time": "2024-04-24T06:18:46.247433664Z",
     "start_time": "2024-04-24T06:18:46.242386226Z"
    }
   },
   "outputs": [],
   "source": [
    "import datetime\n",
    "import os\n",
    "import json\n",
    "import csv\n",
    "from io import StringIO\n",
    "\n",
    "from dotenv import load_dotenv\n",
    "\n",
    "from s2ag_corpus.database_catalogue import local_connection\n",
    "from s2ag_corpus.sql import CREATE_EXTENDED_CITATIONS_TABLE_WITH_INDICES"
   ]
  },
  {
   "cell_type": "code",
   "outputs": [],
   "source": [
    "load_dotenv()\n",
    "base_dir = os.getenv(\"BASE_DIR\")"
   ],
   "metadata": {
    "collapsed": true,
    "jupyter": {
     "outputs_hidden": true
    },
    "ExecuteTime": {
     "end_time": "2024-04-24T06:18:46.348173055Z",
     "start_time": "2024-04-24T06:18:46.247852634Z"
    }
   },
   "id": "initial_id",
   "execution_count": 11
  },
  {
   "cell_type": "code",
   "execution_count": 12,
   "id": "dbfb0845a6c75af8",
   "metadata": {
    "collapsed": false,
    "ExecuteTime": {
     "end_time": "2024-04-24T06:18:46.478569499Z",
     "start_time": "2024-04-24T06:18:46.395596247Z"
    }
   },
   "outputs": [],
   "source": [
    "\n",
    "connection = local_connection()\n",
    "\n",
    "def drop_and_replace_citations_table():\n",
    "    with connection.cursor() as cursor:\n",
    "        cursor.execute('drop table if exists citations')\n",
    "        cursor.execute(CREATE_EXTENDED_CITATIONS_TABLE_WITH_INDICES)"
   ]
  },
  {
   "cell_type": "code",
   "execution_count": 13,
   "id": "8e91f1d718c24f2f",
   "metadata": {
    "collapsed": false,
    "ExecuteTime": {
     "end_time": "2024-04-24T06:18:46.598748125Z",
     "start_time": "2024-04-24T06:18:46.479648857Z"
    }
   },
   "outputs": [],
   "source": [
    "drop_and_replace_citations_table()\n",
    "    "
   ]
  },
  {
   "cell_type": "code",
   "outputs": [],
   "source": [
    "def read_records_from_file(file_path):\n",
    "    \"\"\"A generator function that returns reformatted lines in a file.\"\"\"\n",
    "    output = StringIO()\n",
    "    writer = csv.writer(output, delimiter=',', quoting=csv.QUOTE_NONE, escapechar='\\\\')\n",
    "    count = 0\n",
    "    with open('timimg.csv','w') as tf, open(file_path, 'r') as file:\n",
    "        timing_writer = csv.writer(tf)\n",
    "        start = datetime.datetime.now()\n",
    "        for line in file:\n",
    "            line = line.strip()\n",
    "            jd = json.loads(line)\n",
    "            record = (jd['citationid'],\n",
    "                      jd['citingcorpusid'],\n",
    "                      jd['citedcorpusid'],\n",
    "                      jd['isinfluential'],\n",
    "                      jd['contexts'],\n",
    "                      jd['intents'])\n",
    "            output.seek(0)\n",
    "            output.truncate(0)\n",
    "            writer.writerow(record)\n",
    "            count += 1\n",
    "            if count % 100000 == 0:\n",
    "                end = datetime.datetime.now()\n",
    "                timing_writer.writerow([count, end - start])\n",
    "                start = end\n",
    "            yield output.getvalue()"
   ],
   "metadata": {
    "collapsed": false,
    "ExecuteTime": {
     "end_time": "2024-04-24T06:18:46.726049660Z",
     "start_time": "2024-04-24T06:18:46.605668024Z"
    }
   },
   "id": "dc5087f7aacebf39",
   "execution_count": 14
  },
  {
   "cell_type": "code",
   "outputs": [],
   "source": [
    "class JsonFileInserter:\n",
    "    def __init__(self, generator):\n",
    "        self.generator = generator\n",
    "        self.buffer = ''\n",
    "        self.count = 0\n",
    "\n",
    "    def read(self, size=-1):\n",
    "        # Fill the buffer to meet the size requirement or if size is -1 then try to exhaust the generator\n",
    "        while (size < 0 or len(self.buffer) < size) and (chunk := next(self.generator, None)) is not None:\n",
    "            self.buffer += chunk\n",
    "            if not self.buffer.endswith('\\n'):\n",
    "                self.buffer += '\\n'  # Ensure each chunk ends with a newline\n",
    "\n",
    "        if size < 0 or len(self.buffer) <= size:\n",
    "            to_return, self.buffer = self.buffer, ''\n",
    "        else:\n",
    "            to_return, self.buffer = self.buffer[:size], self.buffer[size:]\n",
    "\n",
    "        return to_return"
   ],
   "metadata": {
    "collapsed": false,
    "ExecuteTime": {
     "end_time": "2024-04-24T06:18:46.848576608Z",
     "start_time": "2024-04-24T06:18:46.744565411Z"
    }
   },
   "id": "b8cc11134bd26e2a",
   "execution_count": 15
  },
  {
   "cell_type": "code",
   "outputs": [],
   "source": [
    "def copy_json_to_papers(test_file):\n",
    "    adapter = JsonFileInserter(read_records_from_file(test_file))\n",
    "    with connection.cursor() as cursor:\n",
    "        cursor.copy_from(adapter, 'citations', sep=',', null='')\n",
    "        connection.commit()\n",
    "    print('done')"
   ],
   "metadata": {
    "collapsed": false,
    "ExecuteTime": {
     "end_time": "2024-04-24T06:18:47.009655871Z",
     "start_time": "2024-04-24T06:18:46.850536447Z"
    }
   },
   "id": "d7c4cdd1803852c3",
   "execution_count": 16
  },
  {
   "cell_type": "code",
   "outputs": [
    {
     "name": "stdout",
     "output_type": "stream",
     "text": [
      "done\n"
     ]
    }
   ],
   "source": [
    "test_file = base_dir+'/2024-04-02/citations/citations0'\n",
    "copy_json_to_papers(test_file)"
   ],
   "metadata": {
    "collapsed": false,
    "ExecuteTime": {
     "end_time": "2024-04-24T06:26:16.775873384Z",
     "start_time": "2024-04-24T06:18:47.008022843Z"
    }
   },
   "id": "a87b55236e7a5688",
   "execution_count": 17
  },
  {
   "cell_type": "code",
   "outputs": [],
   "source": [
    "connection.rollback()"
   ],
   "metadata": {
    "collapsed": false,
    "ExecuteTime": {
     "end_time": "2024-04-24T06:26:16.776287682Z",
     "start_time": "2024-04-24T06:26:16.767667461Z"
    }
   },
   "id": "ec4ecbb06bb869d",
   "execution_count": 18
  },
  {
   "cell_type": "code",
   "outputs": [],
   "source": [],
   "metadata": {
    "collapsed": false,
    "ExecuteTime": {
     "end_time": "2024-04-24T06:26:16.776580260Z",
     "start_time": "2024-04-24T06:26:16.767869406Z"
    }
   },
   "id": "a9aff0aedff72b2a",
   "execution_count": 18
  }
 ],
 "metadata": {
  "kernelspec": {
   "display_name": "Python 3 (ipykernel)",
   "language": "python",
   "name": "python3"
  },
  "language_info": {
   "codemirror_mode": {
    "name": "ipython",
    "version": 3
   },
   "file_extension": ".py",
   "mimetype": "text/x-python",
   "name": "python",
   "nbconvert_exporter": "python",
   "pygments_lexer": "ipython3",
   "version": "3.10.12"
  }
 },
 "nbformat": 4,
 "nbformat_minor": 5
}

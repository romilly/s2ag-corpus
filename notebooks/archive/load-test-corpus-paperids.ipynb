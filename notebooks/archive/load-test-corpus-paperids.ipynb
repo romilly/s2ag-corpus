{
 "cells": [
  {
   "cell_type": "code",
   "execution_count": 1,
   "id": "initial_id",
   "metadata": {
    "ExecuteTime": {
     "end_time": "2024-04-13T11:01:16.592039499Z",
     "start_time": "2024-04-13T11:01:16.591599956Z"
    },
    "collapsed": true,
    "jupyter": {
     "outputs_hidden": true
    }
   },
   "outputs": [],
   "source": [
    "import json\n",
    "import csv\n",
    "import os\n",
    "\n",
    "from dotenv import load_dotenv\n",
    "load_dotenv()\n",
    "base_dir = os.getenv(\"BASE_DIR\")"
   ]
  },
  {
   "cell_type": "code",
   "execution_count": 2,
   "id": "dbfb0845a6c75af8",
   "metadata": {
    "ExecuteTime": {
     "end_time": "2024-04-13T11:01:16.739903464Z",
     "start_time": "2024-04-13T11:01:16.591786930Z"
    },
    "collapsed": false,
    "jupyter": {
     "outputs_hidden": false
    }
   },
   "outputs": [],
   "source": [
    "from s2ag_corpus.database_catalogue import test_connection\n",
    "\n",
    "connection = test_connection()\n",
    "from s2ag_corpus.database_catalogue import CorpusDatabaseCatalogue\n",
    "catalogue = CorpusDatabaseCatalogue(test_connection())\n",
    "\n",
    "def delete_paperids_from_test_db():\n",
    "    with connection.cursor() as cursor:\n",
    "        cursor.execute('DELETE FROM paperids')\n",
    "        connection.commit()"
   ]
  },
  {
   "cell_type": "code",
   "execution_count": 24,
   "id": "8e91f1d718c24f2f",
   "metadata": {
    "ExecuteTime": {
     "end_time": "2024-04-13T12:34:31.520859216Z",
     "start_time": "2024-04-13T12:34:31.162250261Z"
    },
    "collapsed": false,
    "jupyter": {
     "outputs_hidden": false
    }
   },
   "outputs": [],
   "source": [
    "delete_paperids_from_test_db()\n",
    "    "
   ]
  },
  {
   "cell_type": "markdown",
   "id": "1e2ab23620c99356",
   "metadata": {
    "collapsed": false,
    "jupyter": {
     "outputs_hidden": false
    }
   },
   "source": [
    "# I'm going to delete the rows and time an insertion of a lot of  paperids"
   ]
  },
  {
   "cell_type": "code",
   "execution_count": 21,
   "id": "761addd9fcab8116",
   "metadata": {
    "ExecuteTime": {
     "end_time": "2024-04-13T11:14:16.749137620Z",
     "start_time": "2024-04-13T11:13:12.587459805Z"
    },
    "collapsed": false,
    "jupyter": {
     "outputs_hidden": false
    }
   },
   "outputs": [],
   "source": [
    "with open(base_dir + '/paperids/2024-04-02-paper-ids0') as f:\n",
    "# with open(base_dir + '/ids4test') as f:\n",
    "    jason_dictionaries = [json.loads(line) for line in f.readlines()]\n",
    "    records = [(jd['sha'], jd['corpusid'], jd['primary']) for  jd in jason_dictionaries]\n",
    "    with open(base_dir+'/2024-04-02-paper-ids0.csv','w') as csvf:\n",
    "        writer = csv.writer(csvf)\n",
    "        for record in records:\n",
    "            writer.writerow(record)"
   ]
  },
  {
   "cell_type": "code",
   "execution_count": 25,
   "id": "bb990d333814065",
   "metadata": {
    "ExecuteTime": {
     "end_time": "2024-04-13T12:55:04.863677829Z",
     "start_time": "2024-04-13T12:36:03.386424667Z"
    },
    "collapsed": false,
    "jupyter": {
     "outputs_hidden": false
    }
   },
   "outputs": [],
   "source": [
    "with open(base_dir+'/2024-04-02-paper-ids0.csv','r') as csvf:\n",
    "    with connection.cursor() as cursor:\n",
    "        cursor.copy_from(csvf, 'paperids', sep=',', null='')\n",
    "    connection.commit()"
   ]
  },
  {
   "cell_type": "code",
   "execution_count": 23,
   "id": "6c3375ec9fbe0e4d",
   "metadata": {
    "ExecuteTime": {
     "end_time": "2024-04-13T12:34:25.771734836Z",
     "start_time": "2024-04-13T12:34:25.727977168Z"
    },
    "collapsed": false,
    "jupyter": {
     "outputs_hidden": false
    }
   },
   "outputs": [],
   "source": [
    "connection.rollback()"
   ]
  },
  {
   "cell_type": "code",
   "execution_count": null,
   "id": "b5f0cd587f414542",
   "metadata": {
    "ExecuteTime": {
     "start_time": "2024-04-13T11:01:17.144492124Z"
    },
    "collapsed": false,
    "jupyter": {
     "outputs_hidden": false
    }
   },
   "outputs": [],
   "source": []
  }
 ],
 "metadata": {
  "kernelspec": {
   "display_name": "Python 3 (ipykernel)",
   "language": "python",
   "name": "python3"
  },
  "language_info": {
   "codemirror_mode": {
    "name": "ipython",
    "version": 3
   },
   "file_extension": ".py",
   "mimetype": "text/x-python",
   "name": "python",
   "nbconvert_exporter": "python",
   "pygments_lexer": "ipython3",
   "version": "3.11.2"
  }
 },
 "nbformat": 4,
 "nbformat_minor": 5
}

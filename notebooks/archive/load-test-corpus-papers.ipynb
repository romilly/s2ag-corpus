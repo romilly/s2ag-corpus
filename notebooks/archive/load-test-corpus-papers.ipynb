{
 "cells": [
  {
   "cell_type": "code",
   "execution_count": 1,
   "id": "initial_id",
   "metadata": {
    "collapsed": true,
    "jupyter": {
     "outputs_hidden": true
    },
    "ExecuteTime": {
     "end_time": "2024-04-22T14:04:47.320121087Z",
     "start_time": "2024-04-22T14:04:47.319468865Z"
    }
   },
   "outputs": [],
   "source": [
    "import os\n",
    "import json\n",
    "from s2ag_corpus.sql import INSERT_PAPER_SQL, CREATE_PAPERS_TABLE_WITH_KEYS\n",
    "\n",
    "\n",
    "from dotenv import load_dotenv\n",
    "load_dotenv()\n",
    "base_dir = os.getenv(\"BASE_DIR\")"
   ]
  },
  {
   "cell_type": "code",
   "execution_count": 2,
   "id": "dbfb0845a6c75af8",
   "metadata": {
    "collapsed": false,
    "ExecuteTime": {
     "end_time": "2024-04-22T14:04:47.399616075Z",
     "start_time": "2024-04-22T14:04:47.319625166Z"
    }
   },
   "outputs": [],
   "source": [
    "from s2ag_corpus.database_catalogue import local_connection\n",
    "\n",
    "connection = local_connection()\n",
    "\n",
    "# def delete_papers_from_test_db():\n",
    "#     with connection.cursor() as cursor:\n",
    "#         cursor.execute('DELETE FROM papers')\n",
    "#         connection.commit()\n",
    "\n",
    "def drop_and_replace_papers_table():\n",
    "    with connection.cursor() as cursor:\n",
    "        cursor.execute('drop table if exists papers')\n",
    "        cursor.execute(CREATE_PAPERS_TABLE_WITH_KEYS)"
   ]
  },
  {
   "cell_type": "code",
   "execution_count": 6,
   "id": "8e91f1d718c24f2f",
   "metadata": {
    "collapsed": false,
    "ExecuteTime": {
     "end_time": "2024-04-22T14:14:07.599540323Z",
     "start_time": "2024-04-22T14:12:56.846629043Z"
    }
   },
   "outputs": [],
   "source": [
    "drop_and_replace_papers_table()\n",
    "    "
   ]
  },
  {
   "cell_type": "markdown",
   "id": "1e2ab23620c99356",
   "metadata": {
    "collapsed": false
   },
   "source": [
    "# I'm going to delete the rows and time an insertion of 10000 papers"
   ]
  },
  {
   "cell_type": "code",
   "outputs": [],
   "source": [
    "connection.rollback()"
   ],
   "metadata": {
    "collapsed": false
   },
   "id": "3234945969f4df4d",
   "execution_count": 0
  },
  {
   "cell_type": "code",
   "outputs": [],
   "source": [
    "test_file = base_dir+'/2024-04-02/papers/first10000papers'\n",
    "with open(test_file) as f:\n",
    "    with connection.cursor() as cursor:\n",
    "        for line in f:\n",
    "            line = line.strip()\n",
    "            lj = json.loads(line)\n",
    "            corpus_id = lj['corpusid']\n",
    "            cursor.execute(INSERT_PAPER_SQL, (corpus_id, line))\n",
    "            connection.commit()\n",
    "    "
   ],
   "metadata": {
    "collapsed": false,
    "ExecuteTime": {
     "end_time": "2024-04-22T14:14:28.457934088Z",
     "start_time": "2024-04-22T14:14:21.620007435Z"
    }
   },
   "id": "13bd70845b07b672",
   "execution_count": 7
  },
  {
   "cell_type": "code",
   "execution_count": null,
   "id": "257504b7b88f421f",
   "metadata": {
    "collapsed": false,
    "is_executing": true
   },
   "outputs": [],
   "source": [
    "delete_papers_from_test_db()"
   ]
  },
  {
   "cell_type": "code",
   "execution_count": null,
   "id": "a3821d4de3971673",
   "metadata": {
    "collapsed": false,
    "is_executing": true
   },
   "outputs": [],
   "source": [
    "with open(base_dir+'/papers/first10000papers') as f:\n",
    "    with connection.cursor() as cursor:\n",
    "        for line in f:\n",
    "            line = line.strip()\n",
    "            lj = json.loads(line)\n",
    "            corpus_id = lj['corpusid']\n",
    "            cursor.execute(INSERT_PAPER_SQL, (corpus_id, line))\n",
    "    connection.commit()"
   ]
  },
  {
   "cell_type": "code",
   "execution_count": null,
   "id": "2b4ec8f97cb008dc",
   "metadata": {
    "collapsed": false,
    "is_executing": true
   },
   "outputs": [],
   "source": [
    "delete_papers_from_test_db()"
   ]
  },
  {
   "cell_type": "code",
   "execution_count": null,
   "id": "14d395e47f9713c3",
   "metadata": {
    "collapsed": false,
    "is_executing": true
   },
   "outputs": [],
   "source": [
    "from s2ag_corpus.database_catalogue import CorpusDatabaseCatalogue\n",
    "catalogue = CorpusDatabaseCatalogue(local_connection())"
   ]
  },
  {
   "cell_type": "code",
   "execution_count": null,
   "id": "44bc7a15a3d81fba",
   "metadata": {
    "collapsed": false,
    "is_executing": true
   },
   "outputs": [],
   "source": [
    "with open(base_dir + '/papers/first10000papers') as f:\n",
    "    jason_dictionaries = [(line, json.loads(line)) for line in f.readlines()]\n",
    "    records = [(jd['corpusid'], line) for  line, jd in jason_dictionaries]\n",
    "catalogue.upsert(INSERT_PAPER_SQL, records)"
   ]
  },
  {
   "cell_type": "code",
   "execution_count": null,
   "id": "e402a9149af1f73b",
   "metadata": {
    "collapsed": false,
    "is_executing": true
   },
   "outputs": [],
   "source": [
    "import csv"
   ]
  },
  {
   "cell_type": "code",
   "execution_count": null,
   "id": "761addd9fcab8116",
   "metadata": {
    "collapsed": false,
    "is_executing": true
   },
   "outputs": [],
   "source": [
    "with open(base_dir + '/papers/first10000papers') as f:\n",
    "    jason_dictionaries = [(line, json.loads(line)) for line in f.readlines()]\n",
    "    records = [(jd['corpusid'], line.strip()) for  line, jd in jason_dictionaries]\n",
    "    with open(base_dir+'/first10000papers.csv','w') as csvf:\n",
    "        writer = csv.writer(csvf, delimiter=',', quoting=csv.QUOTE_NONE, escapechar='\\\\')\n",
    "        for record in records:\n",
    "            writer.writerow(record)"
   ]
  },
  {
   "cell_type": "code",
   "execution_count": null,
   "id": "1866280b9d4c0ec",
   "metadata": {
    "collapsed": false,
    "is_executing": true
   },
   "outputs": [],
   "source": [
    "delete_papers_from_test_db()"
   ]
  },
  {
   "cell_type": "code",
   "execution_count": null,
   "id": "bb990d333814065",
   "metadata": {
    "collapsed": false,
    "is_executing": true
   },
   "outputs": [],
   "source": [
    "with open(base_dir+'/papers/first10000papers.csv','r') as csvf:\n",
    "    with connection.cursor() as cursor:\n",
    "        cursor.copy_from(csvf, 'papers', sep=',', null='')\n",
    "    connection.commit()"
   ]
  },
  {
   "cell_type": "code",
   "execution_count": null,
   "id": "6c3375ec9fbe0e4d",
   "metadata": {
    "collapsed": false,
    "is_executing": true
   },
   "outputs": [],
   "source": [
    "connection.rollback()"
   ]
  },
  {
   "cell_type": "code",
   "execution_count": null,
   "id": "b5f0cd587f414542",
   "metadata": {
    "collapsed": false,
    "is_executing": true
   },
   "outputs": [],
   "source": []
  }
 ],
 "metadata": {
  "kernelspec": {
   "display_name": "Python 3 (ipykernel)",
   "language": "python",
   "name": "python3"
  },
  "language_info": {
   "codemirror_mode": {
    "name": "ipython",
    "version": 3
   },
   "file_extension": ".py",
   "mimetype": "text/x-python",
   "name": "python",
   "nbconvert_exporter": "python",
   "pygments_lexer": "ipython3",
   "version": "3.10.12"
  }
 },
 "nbformat": 4,
 "nbformat_minor": 5
}

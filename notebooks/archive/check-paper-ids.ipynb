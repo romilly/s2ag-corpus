{
 "cells": [
  {
   "cell_type": "code",
   "execution_count": 11,
   "id": "initial_id",
   "metadata": {
    "collapsed": true,
    "ExecuteTime": {
     "end_time": "2024-04-11T14:20:03.148846379Z",
     "start_time": "2024-04-11T14:20:03.038937200Z"
    }
   },
   "outputs": [],
   "source": [
    "from s2ag_corpus.sql import INSERT_PAPER_IDS_SQL\n",
    "\n",
    "url = 'https://www.semanticscholar.org/paper/22f25576c39e9b7ee111385015c00695d786a06d'"
   ]
  },
  {
   "cell_type": "code",
   "outputs": [],
   "source": [
    "sha = url.split('/')[-1]"
   ],
   "metadata": {
    "collapsed": false,
    "ExecuteTime": {
     "end_time": "2024-04-11T13:33:08.835971095Z",
     "start_time": "2024-04-11T13:33:08.776508349Z"
    }
   },
   "id": "d93443989bb411e",
   "execution_count": 2
  },
  {
   "cell_type": "code",
   "outputs": [
    {
     "data": {
      "text/plain": "'22f25576c39e9b7ee111385015c00695d786a06d'"
     },
     "execution_count": 3,
     "metadata": {},
     "output_type": "execute_result"
    }
   ],
   "source": [
    "sha"
   ],
   "metadata": {
    "collapsed": false,
    "ExecuteTime": {
     "end_time": "2024-04-11T13:33:15.705642749Z",
     "start_time": "2024-04-11T13:33:15.640884051Z"
    }
   },
   "id": "661ee5f80a49c4f3",
   "execution_count": 3
  },
  {
   "cell_type": "code",
   "outputs": [
    {
     "data": {
      "text/plain": "40"
     },
     "execution_count": 4,
     "metadata": {},
     "output_type": "execute_result"
    }
   ],
   "source": [
    "len(sha)"
   ],
   "metadata": {
    "collapsed": false,
    "ExecuteTime": {
     "end_time": "2024-04-11T13:33:25.209854042Z",
     "start_time": "2024-04-11T13:33:25.133511027Z"
    }
   },
   "id": "229d7686edf0aa6c",
   "execution_count": 4
  },
  {
   "cell_type": "code",
   "outputs": [],
   "source": [
    "import json\n",
    "\n",
    "base_dir = '/media/romilly/ss-corpus/2024-04-02/paperids/'\n",
    "with open(base_dir + '2024-04-02-paper-ids0') as f:\n",
    "    jason_dictionaries = [json.loads(line) for line in f.readlines()]\n",
    "    records = [(jd['sha'], jd['corpusid'], jd['primary']) for  jd in jason_dictionaries]"
   ],
   "metadata": {
    "collapsed": false,
    "ExecuteTime": {
     "end_time": "2024-04-11T15:40:43.690333736Z",
     "start_time": "2024-04-11T15:40:11.546637314Z"
    }
   },
   "id": "250e9753e1cd69d9",
   "execution_count": 18
  },
  {
   "cell_type": "code",
   "outputs": [
    {
     "data": {
      "text/plain": "[('7584ddbd895eb0102fee4582d6a5c93d549d403a', 222247542, False),\n ('7a0b177ad3046310da3d5957760cd01f147cd0d4', 220909423, False),\n ('c1b308612a046a34497d6bf202f32e7cb03df442', 221692083, True),\n ('5dc9be1941381cb93eeff437e69d89b0be6c3850', 222019001, True),\n ('3651d5ce38b4e8babdffe8c338a1c5adfa9ac62e', 221743409, True),\n ('64b83c8e3b31d9994480fbdc41f259422f9d65ff', 219806379, False),\n ('fae53b28f832eb5ad1c35d0d727f9e6d45197b64', 221956332, True),\n ('2b218f2975cb06ba0dd8965b19a911a10d6a979d', 224039113, False),\n ('f79be152c74c1394b8f171a9c62b0c4176a2964d', 221348069, False),\n ('089bebbb841a747e40b433d7742a89ea4f8dbd63', 221357642, False)]"
     },
     "execution_count": 7,
     "metadata": {},
     "output_type": "execute_result"
    }
   ],
   "source": [
    "records[:10]"
   ],
   "metadata": {
    "collapsed": false,
    "ExecuteTime": {
     "end_time": "2024-04-11T14:14:14.089387147Z",
     "start_time": "2024-04-11T14:14:14.085846571Z"
    }
   },
   "id": "b1c03d0cbb69a1e2",
   "execution_count": 7
  },
  {
   "cell_type": "code",
   "outputs": [],
   "source": [
    "from s2ag_corpus.database_catalogue import production_connection, DatabaseCatalogue"
   ],
   "metadata": {
    "collapsed": false,
    "ExecuteTime": {
     "end_time": "2024-04-11T15:40:49.703926026Z",
     "start_time": "2024-04-11T15:40:49.661250844Z"
    }
   },
   "id": "d485befeccb62840",
   "execution_count": 19
  },
  {
   "cell_type": "code",
   "outputs": [],
   "source": [
    "catalogue = DatabaseCatalogue(production_connection())"
   ],
   "metadata": {
    "collapsed": false,
    "ExecuteTime": {
     "end_time": "2024-04-11T15:40:50.632551785Z",
     "start_time": "2024-04-11T15:40:50.581752261Z"
    }
   },
   "id": "592579705226550f",
   "execution_count": 20
  },
  {
   "cell_type": "code",
   "outputs": [],
   "source": [
    "catalogue.upsert(INSERT_PAPER_IDS_SQL, records)"
   ],
   "metadata": {
    "collapsed": false,
    "ExecuteTime": {
     "end_time": "2024-04-11T17:25:19.351686342Z",
     "start_time": "2024-04-11T15:40:54.828265944Z"
    }
   },
   "id": "477db1f895cfca20",
   "execution_count": 21
  },
  {
   "cell_type": "code",
   "outputs": [],
   "source": [
    "catalogue.connection.commit()"
   ],
   "metadata": {
    "collapsed": false,
    "ExecuteTime": {
     "end_time": "2024-04-11T21:05:33.215755747Z",
     "start_time": "2024-04-11T21:05:33.175562343Z"
    }
   },
   "id": "e2de15b1e5b4f308",
   "execution_count": 22
  },
  {
   "cell_type": "code",
   "outputs": [],
   "source": [],
   "metadata": {
    "collapsed": false
   },
   "id": "fdeee4030fe1e704"
  }
 ],
 "metadata": {
  "kernelspec": {
   "display_name": "Python 3",
   "language": "python",
   "name": "python3"
  },
  "language_info": {
   "codemirror_mode": {
    "name": "ipython",
    "version": 2
   },
   "file_extension": ".py",
   "mimetype": "text/x-python",
   "name": "python",
   "nbconvert_exporter": "python",
   "pygments_lexer": "ipython2",
   "version": "2.7.6"
  }
 },
 "nbformat": 4,
 "nbformat_minor": 5
}

{
 "cells": [
  {
   "cell_type": "code",
   "execution_count": 9,
   "id": "initial_id",
   "metadata": {
    "collapsed": true,
    "ExecuteTime": {
     "end_time": "2024-05-28T18:28:26.339351690Z",
     "start_time": "2024-05-28T18:28:26.334257579Z"
    }
   },
   "outputs": [],
   "source": [
    "from s2ag_corpus.database_catalogue import DatabaseCatalogue, production_connection\n",
    "from s2ag_corpus.dot_writer import write_dot_file"
   ]
  },
  {
   "cell_type": "code",
   "outputs": [],
   "source": [
    "connection = production_connection()\n",
    "catalogue = DatabaseCatalogue(connection)"
   ],
   "metadata": {
    "collapsed": false,
    "ExecuteTime": {
     "end_time": "2024-05-28T18:28:26.471235777Z",
     "start_time": "2024-05-28T18:28:26.383947616Z"
    }
   },
   "id": "810a78e618842000",
   "execution_count": 10
  },
  {
   "cell_type": "code",
   "outputs": [],
   "source": [
    "id = catalogue.find_corpus_id_from('939c76ceb7a406a92b754960f9c674fe8fca6ed7')"
   ],
   "metadata": {
    "collapsed": false,
    "ExecuteTime": {
     "end_time": "2024-05-28T18:28:26.588318864Z",
     "start_time": "2024-05-28T18:28:26.471753181Z"
    }
   },
   "id": "1b31fa6ac42295c6",
   "execution_count": 11
  },
  {
   "cell_type": "code",
   "outputs": [
    {
     "data": {
      "text/plain": "(1757119,\n 'Transduction and adaptation in sensory receptor cells',\n 'Vincent Torre, Jonathan Ashmore, T. Lamb, Anna Menini',\n '1995',\n 'https://www.semanticscholar.org/paper/939c76ceb7a406a92b754960f9c674fe8fca6ed7')"
     },
     "execution_count": 12,
     "metadata": {},
     "output_type": "execute_result"
    }
   ],
   "source": [
    "catalogue.find_paper_details(id)"
   ],
   "metadata": {
    "collapsed": false,
    "ExecuteTime": {
     "end_time": "2024-05-28T18:28:26.701926291Z",
     "start_time": "2024-05-28T18:28:26.588778483Z"
    }
   },
   "id": "72c7494adb6d0e7f",
   "execution_count": 12
  },
  {
   "cell_type": "code",
   "outputs": [],
   "source": [
    "# connection.rollback()"
   ],
   "metadata": {
    "collapsed": false,
    "ExecuteTime": {
     "end_time": "2024-05-28T18:28:26.808677115Z",
     "start_time": "2024-05-28T18:28:26.702973006Z"
    }
   },
   "id": "b96da19a95636847",
   "execution_count": 13
  },
  {
   "cell_type": "code",
   "outputs": [],
   "source": [
    "enriched_links = catalogue.enriched_links(id)"
   ],
   "metadata": {
    "collapsed": false,
    "ExecuteTime": {
     "end_time": "2024-05-28T18:28:27.199382675Z",
     "start_time": "2024-05-28T18:28:26.809459739Z"
    }
   },
   "id": "f997f87f694f0b5f",
   "execution_count": 14
  },
  {
   "cell_type": "code",
   "outputs": [],
   "source": [
    "write_dot_file(enriched_links, 'jonathan.dot')\n"
   ],
   "metadata": {
    "collapsed": false,
    "ExecuteTime": {
     "end_time": "2024-05-28T18:28:27.205577720Z",
     "start_time": "2024-05-28T18:28:27.200494555Z"
    }
   },
   "id": "f2120f5212af5fdb",
   "execution_count": 15
  },
  {
   "cell_type": "code",
   "outputs": [],
   "source": [
    "!dot -Tsvg jonathan.dot -o jonathan.svg"
   ],
   "metadata": {
    "collapsed": false,
    "ExecuteTime": {
     "end_time": "2024-05-28T18:28:27.507170441Z",
     "start_time": "2024-05-28T18:28:27.205740971Z"
    }
   },
   "id": "d5a4d72a254357ea",
   "execution_count": 16
  }
 ],
 "metadata": {
  "kernelspec": {
   "display_name": "Python 3",
   "language": "python",
   "name": "python3"
  },
  "language_info": {
   "codemirror_mode": {
    "name": "ipython",
    "version": 2
   },
   "file_extension": ".py",
   "mimetype": "text/x-python",
   "name": "python",
   "nbconvert_exporter": "python",
   "pygments_lexer": "ipython2",
   "version": "2.7.6"
  }
 },
 "nbformat": 4,
 "nbformat_minor": 5
}

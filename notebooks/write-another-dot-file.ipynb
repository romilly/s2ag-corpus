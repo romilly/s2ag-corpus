{
 "cells": [
  {
   "cell_type": "code",
   "execution_count": 1,
   "id": "initial_id",
   "metadata": {
    "collapsed": true,
    "ExecuteTime": {
     "end_time": "2024-05-26T05:25:15.768845559Z",
     "start_time": "2024-05-26T05:25:15.768126862Z"
    }
   },
   "outputs": [],
   "source": [
    "from s2ag_corpus.database_catalogue import CorpusDatabaseCatalogue, production_connection\n",
    "from s2ag_corpus.dot_writer import write_dot_file"
   ]
  },
  {
   "cell_type": "code",
   "outputs": [],
   "source": [
    "connection = production_connection()\n",
    "catalogue = CorpusDatabaseCatalogue(connection)"
   ],
   "metadata": {
    "collapsed": false,
    "ExecuteTime": {
     "end_time": "2024-05-26T05:25:15.886733600Z",
     "start_time": "2024-05-26T05:25:15.768330061Z"
    }
   },
   "id": "810a78e618842000",
   "execution_count": 2
  },
  {
   "cell_type": "code",
   "outputs": [],
   "source": [
    "id = catalogue.find_corpus_id_from('939c76ceb7a406a92b754960f9c674fe8fca6ed7')"
   ],
   "metadata": {
    "collapsed": false,
    "ExecuteTime": {
     "end_time": "2024-05-26T05:25:15.957263061Z",
     "start_time": "2024-05-26T05:25:15.888451200Z"
    }
   },
   "id": "1b31fa6ac42295c6",
   "execution_count": 3
  },
  {
   "cell_type": "code",
   "outputs": [
    {
     "data": {
      "text/plain": "(1757119,\n 'Transduction and adaptation in sensory receptor cells',\n 'Vincent Torre, Jonathan Ashmore, T. Lamb, Anna Menini',\n '1995',\n 'https://www.semanticscholar.org/paper/939c76ceb7a406a92b754960f9c674fe8fca6ed7')"
     },
     "execution_count": 4,
     "metadata": {},
     "output_type": "execute_result"
    }
   ],
   "source": [
    "catalogue.find_paper_details(id)"
   ],
   "metadata": {
    "collapsed": false,
    "ExecuteTime": {
     "end_time": "2024-05-26T05:25:16.039130937Z",
     "start_time": "2024-05-26T05:25:15.958147778Z"
    }
   },
   "id": "72c7494adb6d0e7f",
   "execution_count": 4
  },
  {
   "cell_type": "code",
   "outputs": [],
   "source": [
    "# connection.rollback()"
   ],
   "metadata": {
    "collapsed": false,
    "ExecuteTime": {
     "end_time": "2024-05-26T05:25:16.133304744Z",
     "start_time": "2024-05-26T05:25:16.037532053Z"
    }
   },
   "id": "b96da19a95636847",
   "execution_count": 5
  },
  {
   "cell_type": "code",
   "outputs": [],
   "source": [
    "enriched_links = catalogue.enriched_links(id)"
   ],
   "metadata": {
    "collapsed": false,
    "ExecuteTime": {
     "end_time": "2024-05-26T05:25:16.449293410Z",
     "start_time": "2024-05-26T05:25:16.133795100Z"
    }
   },
   "id": "f997f87f694f0b5f",
   "execution_count": 6
  },
  {
   "cell_type": "code",
   "outputs": [],
   "source": [
    "write_dot_file(enriched_links, 'jonathan.dot')\n"
   ],
   "metadata": {
    "collapsed": false,
    "ExecuteTime": {
     "end_time": "2024-05-26T05:25:16.454769213Z",
     "start_time": "2024-05-26T05:25:16.449341224Z"
    }
   },
   "id": "f2120f5212af5fdb",
   "execution_count": 7
  },
  {
   "cell_type": "code",
   "outputs": [],
   "source": [
    "!dot -Tsvg jonathan.dot -o jonathan.svg"
   ],
   "metadata": {
    "collapsed": false,
    "ExecuteTime": {
     "end_time": "2024-05-26T05:25:16.747347525Z",
     "start_time": "2024-05-26T05:25:16.455573225Z"
    }
   },
   "id": "d5a4d72a254357ea",
   "execution_count": 8
  }
 ],
 "metadata": {
  "kernelspec": {
   "display_name": "Python 3",
   "language": "python",
   "name": "python3"
  },
  "language_info": {
   "codemirror_mode": {
    "name": "ipython",
    "version": 2
   },
   "file_extension": ".py",
   "mimetype": "text/x-python",
   "name": "python",
   "nbconvert_exporter": "python",
   "pygments_lexer": "ipython2",
   "version": "2.7.6"
  }
 },
 "nbformat": 4,
 "nbformat_minor": 5
}

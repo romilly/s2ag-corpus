{
 "cells": [
  {
   "cell_type": "code",
   "execution_count": 11,
   "id": "initial_id",
   "metadata": {
    "collapsed": true,
    "ExecuteTime": {
     "end_time": "2024-04-10T14:23:28.375445207Z",
     "start_time": "2024-04-10T14:23:28.295963230Z"
    }
   },
   "outputs": [],
   "source": [
    "import json\n",
    "from s2ag_corpus.database_catalogue import production_connection\n",
    "from s2ag_corpus.sql import INSERT_PAPER_SQL\n",
    "\n",
    "base_dir = '/media/romilly/ss-corpus/2024-04-02'"
   ]
  },
  {
   "cell_type": "code",
   "outputs": [],
   "source": [
    "connection = production_connection()"
   ],
   "metadata": {
    "collapsed": false,
    "ExecuteTime": {
     "end_time": "2024-04-10T14:23:28.559753482Z",
     "start_time": "2024-04-10T14:23:28.340058381Z"
    }
   },
   "id": "dbfb0845a6c75af8",
   "execution_count": 12
  },
  {
   "cell_type": "code",
   "outputs": [],
   "source": [
    "\n",
    "with open(base_dir+'/file') as f:\n",
    "    with connection.cursor() as cursor:\n",
    "        for line in f:\n",
    "            line = line.strip()\n",
    "            lj = json.loads(line)\n",
    "            corpus_id = lj['corpusid']\n",
    "            cursor.execute(INSERT_PAPER_SQL, (corpus_id, line))\n",
    "            connection.commit()\n",
    "    "
   ],
   "metadata": {
    "collapsed": false,
    "ExecuteTime": {
     "end_time": "2024-04-10T20:20:33.379372021Z",
     "start_time": "2024-04-10T14:25:05.300561466Z"
    }
   },
   "id": "8e91f1d718c24f2f",
   "execution_count": 15
  },
  {
   "cell_type": "markdown",
   "source": [
    "4965667 records read in 5h 55 min!"
   ],
   "metadata": {
    "collapsed": false
   },
   "id": "eefa60f8ea387f9a"
  },
  {
   "cell_type": "code",
   "outputs": [],
   "source": [
    "# connection.rollback()"
   ],
   "metadata": {
    "collapsed": false,
    "ExecuteTime": {
     "end_time": "2024-04-10T14:23:28.754856194Z",
     "start_time": "2024-04-10T14:23:28.602698512Z"
    }
   },
   "id": "3234945969f4df4d",
   "execution_count": 14
  },
  {
   "cell_type": "code",
   "outputs": [],
   "source": [],
   "metadata": {
    "collapsed": false,
    "ExecuteTime": {
     "end_time": "2024-04-10T14:23:28.799865055Z",
     "start_time": "2024-04-10T14:23:28.758396499Z"
    }
   },
   "id": "a31a08318f39ac5b",
   "execution_count": 14
  }
 ],
 "metadata": {
  "kernelspec": {
   "display_name": "Python 3",
   "language": "python",
   "name": "python3"
  },
  "language_info": {
   "codemirror_mode": {
    "name": "ipython",
    "version": 2
   },
   "file_extension": ".py",
   "mimetype": "text/x-python",
   "name": "python",
   "nbconvert_exporter": "python",
   "pygments_lexer": "ipython2",
   "version": "2.7.6"
  }
 },
 "nbformat": 4,
 "nbformat_minor": 5
}

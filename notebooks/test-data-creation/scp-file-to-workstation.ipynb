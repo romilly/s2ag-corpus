{
 "cells": [
  {
   "cell_type": "code",
   "execution_count": 1,
   "id": "3f5706ce3e02fa04",
   "metadata": {
    "collapsed": false,
    "ExecuteTime": {
     "end_time": "2024-06-23T12:52:03.030128236Z",
     "start_time": "2024-06-23T12:52:03.011850440Z"
    }
   },
   "outputs": [],
   "source": [
    "import paramiko\n",
    "import os\n",
    "import glob\n",
    "from scp import SCPClient"
   ]
  },
  {
   "cell_type": "code",
   "outputs": [],
   "source": [
    "\n",
    "# Function to create an SSH client\n",
    "def create_ssh_client(server, port, user):\n",
    "    client = paramiko.SSHClient()\n",
    "    client.load_system_host_keys()\n",
    "    client.set_missing_host_key_policy(paramiko.WarningPolicy)\n",
    "    client.connect(server, port, user)\n",
    "    return client\n",
    "\n",
    "# Function to copy the first file from the remote directory to the local directory\n",
    "def copy_first_file(remote_host, remote_port, remote_user, remote_dir, local_dir):\n",
    "    ssh = create_ssh_client(remote_host, remote_port, remote_user)\n",
    "    scp = SCPClient(ssh.get_transport())\n",
    "\n",
    "    try:\n",
    "        stdin, stdout, stderr = ssh.exec_command(f\"ls -t {remote_dir} | head -1\")\n",
    "        file_name = stdout.read().decode().strip()\n",
    "        \n",
    "        if file_name:\n",
    "            remote_file_path = os.path.join(remote_dir, file_name)\n",
    "            local_file_path = os.path.join(local_dir, file_name)\n",
    "            \n",
    "            print(f\"Copying {remote_file_path} to {local_file_path}\")\n",
    "            scp.get(remote_file_path, local_file_path)\n",
    "        else:\n",
    "            print(\"No files found in the remote directory.\")\n",
    "    \n",
    "    except Exception as e:\n",
    "        print(f\"An error occurred: {e}\")\n",
    "    \n",
    "    finally:\n",
    "        scp.close()\n",
    "        ssh.close()"
   ],
   "metadata": {
    "collapsed": false,
    "ExecuteTime": {
     "end_time": "2024-06-23T12:52:03.138190041Z",
     "start_time": "2024-06-23T12:52:03.022970113Z"
    }
   },
   "id": "6e5b62975d6c318f",
   "execution_count": 2
  },
  {
   "cell_type": "code",
   "outputs": [],
   "source": [
    "\n",
    "# Configuration\n",
    "dataset = 'abstracts'\n",
    "remote_host = \"pi5-postgres\"  # Replace with your remote host\n",
    "remote_port = 22                    # SSH port, usually 22\n",
    "remote_user = \"romilly\"            # Replace with your SSH username\n",
    "remote_dir = f\"/home/romilly/data4TB/ss-corpus/2024-06-18/{dataset}\"  # Replace with the remote directory path\n",
    "local_dir = f\"/media/romilly/ss-corpus/test-data/e2e/{dataset}\"    # Replace with the local directory path"
   ],
   "metadata": {
    "collapsed": false,
    "ExecuteTime": {
     "end_time": "2024-06-23T12:52:03.205213975Z",
     "start_time": "2024-06-23T12:52:03.138323974Z"
    }
   },
   "id": "ad1594b10aa6d78a",
   "execution_count": 3
  },
  {
   "cell_type": "code",
   "outputs": [],
   "source": [
    "# Ensure the local directory exists\n",
    "os.makedirs(local_dir, exist_ok=True)"
   ],
   "metadata": {
    "collapsed": false,
    "ExecuteTime": {
     "end_time": "2024-06-23T12:52:03.282051041Z",
     "start_time": "2024-06-23T12:52:03.205372250Z"
    }
   },
   "id": "b0d780bf88f74194",
   "execution_count": 4
  },
  {
   "cell_type": "code",
   "outputs": [
    {
     "name": "stdout",
     "output_type": "stream",
     "text": [
      "Copying /home/romilly/data4TB/ss-corpus/2024-06-18/abstracts/abstracts059.gz to /media/romilly/ss-corpus/test-data/e2e/abstracts/abstracts059.gz\n"
     ]
    }
   ],
   "source": [
    "# Copy the first file from the remote directory to the local directory\n",
    "copy_first_file(remote_host, remote_port, remote_user, remote_dir, local_dir)\n"
   ],
   "metadata": {
    "collapsed": true,
    "ExecuteTime": {
     "end_time": "2024-06-23T12:52:51.392085751Z",
     "start_time": "2024-06-23T12:52:03.283674273Z"
    }
   },
   "id": "initial_id",
   "execution_count": 5
  }
 ],
 "metadata": {
  "kernelspec": {
   "display_name": "Python 3",
   "language": "python",
   "name": "python3"
  },
  "language_info": {
   "codemirror_mode": {
    "name": "ipython",
    "version": 2
   },
   "file_extension": ".py",
   "mimetype": "text/x-python",
   "name": "python",
   "nbconvert_exporter": "python",
   "pygments_lexer": "ipython2",
   "version": "2.7.6"
  }
 },
 "nbformat": 4,
 "nbformat_minor": 5
}

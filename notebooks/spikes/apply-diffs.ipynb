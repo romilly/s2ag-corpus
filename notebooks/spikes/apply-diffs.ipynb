{
 "cells": [
  {
   "cell_type": "code",
   "execution_count": 1,
   "id": "ab4dae8c1dd0a3bc",
   "metadata": {
    "ExecuteTime": {
     "end_time": "2024-06-30T07:34:41.033358743Z",
     "start_time": "2024-06-30T07:34:41.018117590Z"
    },
    "collapsed": false,
    "jupyter": {
     "outputs_hidden": false
    }
   },
   "outputs": [],
   "source": [
    "import csv\n",
    "import gzip\n",
    "\n",
    "from s2ag_corpus.database_catalogue import local_connection"
   ]
  },
  {
   "cell_type": "code",
   "execution_count": 2,
   "id": "initial_id",
   "metadata": {
    "ExecuteTime": {
     "end_time": "2024-06-30T07:34:41.175615660Z",
     "start_time": "2024-06-30T07:34:41.033277747Z"
    },
    "collapsed": true,
    "jupyter": {
     "outputs_hidden": true
    }
   },
   "outputs": [],
   "source": [
    "connection = local_connection()"
   ]
  },
  {
   "cell_type": "code",
   "execution_count": 3,
   "id": "deb1b72cf912abe8",
   "metadata": {
    "ExecuteTime": {
     "end_time": "2024-06-30T07:34:41.312392452Z",
     "start_time": "2024-06-30T07:34:41.218440741Z"
    },
    "collapsed": false,
    "jupyter": {
     "outputs_hidden": false
    }
   },
   "outputs": [],
   "source": [
    "CREATE_PAPERIDS = \"\"\"\n",
    "create table if not exists paperids\n",
    "(\n",
    "    sha        text    not null\n",
    "        constraint paperids_pk\n",
    "            unique,\n",
    "    corpusid   text    not null,\n",
    "    is_primary boolean not null\n",
    ")\"\"\""
   ]
  },
  {
   "cell_type": "code",
   "execution_count": 4,
   "id": "9a6348561485c34a",
   "metadata": {
    "ExecuteTime": {
     "end_time": "2024-06-30T07:34:41.483306999Z",
     "start_time": "2024-06-30T07:34:41.312468502Z"
    },
    "collapsed": false,
    "jupyter": {
     "outputs_hidden": false
    }
   },
   "outputs": [],
   "source": [
    "cursor = connection.cursor()"
   ]
  },
  {
   "cell_type": "code",
   "execution_count": 5,
   "id": "6e60f7758e89d247",
   "metadata": {
    "ExecuteTime": {
     "end_time": "2024-06-30T07:34:41.649502634Z",
     "start_time": "2024-06-30T07:34:41.480194073Z"
    },
    "collapsed": false,
    "jupyter": {
     "outputs_hidden": false
    }
   },
   "outputs": [],
   "source": [
    "cursor.execute('drop table if exists paperids')\n",
    "cursor.execute(CREATE_PAPERIDS)\n",
    "connection.commit()"
   ]
  },
  {
   "cell_type": "code",
   "execution_count": 6,
   "id": "e3ca65e1dbf5fb9c",
   "metadata": {
    "ExecuteTime": {
     "end_time": "2024-06-30T07:34:41.813428568Z",
     "start_time": "2024-06-30T07:34:41.651753585Z"
    },
    "collapsed": false,
    "jupyter": {
     "outputs_hidden": false
    }
   },
   "outputs": [],
   "source": [
    "csv_file_path = \"../../data/diffs/initial-diff-data-for-test-db.csv\" \n",
    "with open(csv_file_path, 'r') as file:\n",
    "    reader = csv.reader(file)\n",
    "    for row in reader:\n",
    "        cursor.execute(\n",
    "            f\"INSERT INTO paperids (sha, corpusid, is_primary) VALUES (%s, %s, %s)\",\n",
    "            row\n",
    "        )\n",
    "connection.commit()"
   ]
  },
  {
   "cell_type": "code",
   "execution_count": 7,
   "id": "a1f0dc5d4f80a2e8",
   "metadata": {
    "ExecuteTime": {
     "end_time": "2024-06-30T07:34:41.978763998Z",
     "start_time": "2024-06-30T07:34:41.815391709Z"
    },
    "collapsed": false,
    "jupyter": {
     "outputs_hidden": false
    }
   },
   "outputs": [],
   "source": [
    "connection.rollback()"
   ]
  },
  {
   "cell_type": "code",
   "execution_count": 8,
   "id": "34b76c183beba2bd",
   "metadata": {
    "ExecuteTime": {
     "end_time": "2024-06-30T07:34:42.169720394Z",
     "start_time": "2024-06-30T07:34:41.979647814Z"
    },
    "collapsed": false,
    "jupyter": {
     "outputs_hidden": false
    }
   },
   "outputs": [],
   "source": [
    "import json\n",
    "from s2ag_corpus.datasets import Dataset"
   ]
  },
  {
   "cell_type": "code",
   "execution_count": 9,
   "id": "6a2ad466ca4f5b79",
   "metadata": {
    "ExecuteTime": {
     "end_time": "2024-06-30T07:34:42.356962895Z",
     "start_time": "2024-06-30T07:34:42.170907793Z"
    },
    "collapsed": false,
    "jupyter": {
     "outputs_hidden": false
    }
   },
   "outputs": [],
   "source": [
    "\n",
    "\n",
    "def upsert(connection, dataset: Dataset, path_to_file):\n",
    "    cursor = connection.cursor()\n",
    "    with gzip.open(path_to_file, 'rt') as upsert_file:\n",
    "        for (index, line) in enumerate(upsert_file):\n",
    "            row = dataset.json_to_tuple(line)\n",
    "            print(row)\n",
    "            cursor.execute(dataset.upsert, row)\n",
    "            if 0 == index % 10000:\n",
    "                connection.commit()\n",
    "        connection.commit()"
   ]
  },
  {
   "cell_type": "code",
   "execution_count": 10,
   "id": "a16b6ac7f2f8d5f4",
   "metadata": {
    "ExecuteTime": {
     "end_time": "2024-06-30T07:34:42.512363675Z",
     "start_time": "2024-06-30T07:34:42.358668628Z"
    },
    "collapsed": false,
    "jupyter": {
     "outputs_hidden": false
    }
   },
   "outputs": [],
   "source": [
    "from s2ag_corpus.datasets import DATASETS"
   ]
  },
  {
   "cell_type": "code",
   "execution_count": 11,
   "id": "36b55b39a2479193",
   "metadata": {
    "ExecuteTime": {
     "end_time": "2024-06-30T07:34:42.665071021Z",
     "start_time": "2024-06-30T07:34:42.512828655Z"
    },
    "collapsed": false,
    "jupyter": {
     "outputs_hidden": false
    }
   },
   "outputs": [
    {
     "name": "stdout",
     "output_type": "stream",
     "text": [
      "('update01', 1234567, 'true')\n",
      "('insert01', 2345678, 'true')\n",
      "('insert02', 35791, 'false')\n",
      "('update02', 27463, 'false')\n"
     ]
    }
   ],
   "source": [
    "\n",
    "upsert(connection, DATASETS['paper-ids'], '/home/romilly/git/active/s2ag-corpus/data/diffs/update_files-000.gz')"
   ]
  },
  {
   "cell_type": "code",
   "execution_count": 12,
   "id": "720cafdd353a1590",
   "metadata": {
    "ExecuteTime": {
     "end_time": "2024-06-30T07:34:42.801550943Z",
     "start_time": "2024-06-30T07:34:42.661260183Z"
    },
    "collapsed": false,
    "jupyter": {
     "outputs_hidden": false
    }
   },
   "outputs": [],
   "source": [
    "def delete_rows(connection, dataset, path_to_file):\n",
    "    with gzip.open(path_to_file, 'rt') as upsert_file:\n",
    "        for (index, line) in enumerate(upsert_file):\n",
    "            key = json.loads(line)[dataset.primary_key]\n",
    "            print(key)\n",
    "            cursor.execute(dataset.delete_row, (key,))\n",
    "            if 0 == index % 10000:\n",
    "                connection.commit()\n",
    "        connection.commit()\n",
    "    "
   ]
  },
  {
   "cell_type": "code",
   "execution_count": 13,
   "id": "fedf5dce1b3dce50",
   "metadata": {
    "ExecuteTime": {
     "end_time": "2024-06-30T07:34:42.947720586Z",
     "start_time": "2024-06-30T07:34:42.802332854Z"
    },
    "collapsed": false,
    "jupyter": {
     "outputs_hidden": false
    }
   },
   "outputs": [
    {
     "name": "stdout",
     "output_type": "stream",
     "text": [
      "delete01\n",
      "delete02\n"
     ]
    }
   ],
   "source": [
    "delete_rows(connection, DATASETS['paper-ids'], \n",
    "            '/home/romilly/git/active/s2ag-corpus/data/diffs/delete_files-000.gz')"
   ]
  },
  {
   "cell_type": "code",
   "execution_count": 14,
   "id": "cb86fade524b0861",
   "metadata": {
    "ExecuteTime": {
     "end_time": "2024-06-30T07:34:43.101898825Z",
     "start_time": "2024-06-30T07:34:42.949612304Z"
    },
    "collapsed": false,
    "jupyter": {
     "outputs_hidden": false
    }
   },
   "outputs": [],
   "source": [
    "def read_csv_file(filename):\n",
    "    with open(filename, 'r') as file:\n",
    "        reader = csv.reader(file)\n",
    "        data = list(reader)\n",
    "        data = [(sha, corpusid, is_primary in ['True', 'true']) for sha, corpusid, is_primary in data]\n",
    "        data.sort(key=lambda x: x[0])\n",
    "        return data"
   ]
  },
  {
   "cell_type": "code",
   "execution_count": 15,
   "id": "103f19471fd972d9",
   "metadata": {
    "ExecuteTime": {
     "end_time": "2024-06-30T07:34:43.257308207Z",
     "start_time": "2024-06-30T07:34:43.103903842Z"
    },
    "collapsed": false,
    "jupyter": {
     "outputs_hidden": false
    }
   },
   "outputs": [],
   "source": [
    "expected = read_csv_file('/home/romilly/git/active/s2ag-corpus/data/diffs/expected-table-contents.csv')"
   ]
  },
  {
   "cell_type": "code",
   "execution_count": 16,
   "id": "e684f0cff1538d6c",
   "metadata": {
    "ExecuteTime": {
     "end_time": "2024-06-30T07:34:43.416242111Z",
     "start_time": "2024-06-30T07:34:43.258189138Z"
    },
    "collapsed": false,
    "jupyter": {
     "outputs_hidden": false
    }
   },
   "outputs": [
    {
     "data": {
      "text/plain": [
       "[('insert01', '2345678', True),\n",
       " ('insert02', '35791', False),\n",
       " ('unchanged01', '24680', False),\n",
       " ('unchanged02', '86429', True),\n",
       " ('update01', '1234567', True),\n",
       " ('update02', '27463', False)]"
      ]
     },
     "execution_count": 16,
     "metadata": {},
     "output_type": "execute_result"
    }
   ],
   "source": [
    "expected"
   ]
  },
  {
   "cell_type": "code",
   "execution_count": 17,
   "id": "a535ed4a2a635326",
   "metadata": {
    "ExecuteTime": {
     "end_time": "2024-06-30T07:34:43.568505885Z",
     "start_time": "2024-06-30T07:34:43.417962358Z"
    },
    "collapsed": false,
    "jupyter": {
     "outputs_hidden": false
    }
   },
   "outputs": [],
   "source": [
    "def fetch_data(cursor):\n",
    "    query = \"SELECT * FROM paperids ORDER BY sha\"\n",
    "    cursor.execute(query)\n",
    "    return cursor.fetchall()"
   ]
  },
  {
   "cell_type": "code",
   "execution_count": 18,
   "id": "2d01234bbedba014",
   "metadata": {
    "ExecuteTime": {
     "end_time": "2024-06-30T07:34:43.836670148Z",
     "start_time": "2024-06-30T07:34:43.570298373Z"
    },
    "collapsed": false,
    "jupyter": {
     "outputs_hidden": false
    }
   },
   "outputs": [],
   "source": [
    "actual = fetch_data(cursor)"
   ]
  },
  {
   "cell_type": "code",
   "execution_count": 19,
   "id": "50496c2dc0f5280",
   "metadata": {
    "ExecuteTime": {
     "end_time": "2024-06-30T07:34:44.067013668Z",
     "start_time": "2024-06-30T07:34:43.836830216Z"
    },
    "collapsed": false,
    "jupyter": {
     "outputs_hidden": false
    }
   },
   "outputs": [
    {
     "data": {
      "text/plain": [
       "[('insert01', '2345678', True),\n",
       " ('insert02', '35791', False),\n",
       " ('unchanged01', '24680', False),\n",
       " ('unchanged02', '86429', True),\n",
       " ('update01', '1234567', True),\n",
       " ('update02', '27463', False)]"
      ]
     },
     "execution_count": 19,
     "metadata": {},
     "output_type": "execute_result"
    }
   ],
   "source": [
    "actual"
   ]
  },
  {
   "cell_type": "code",
   "execution_count": 20,
   "id": "558f388f06da2cfd",
   "metadata": {
    "ExecuteTime": {
     "end_time": "2024-06-30T07:34:44.211216528Z",
     "start_time": "2024-06-30T07:34:44.069436056Z"
    },
    "collapsed": false,
    "jupyter": {
     "outputs_hidden": false
    }
   },
   "outputs": [],
   "source": [
    "for e,a in zip(expected, actual):\n",
    "    if e != a:\n",
    "        print(f\"{e} != {a}\")"
   ]
  },
  {
   "cell_type": "code",
   "execution_count": 20,
   "id": "12d1ff302263b2b7",
   "metadata": {
    "ExecuteTime": {
     "end_time": "2024-06-30T07:34:44.218242210Z",
     "start_time": "2024-06-30T07:34:44.211372002Z"
    },
    "collapsed": false,
    "jupyter": {
     "outputs_hidden": false
    }
   },
   "outputs": [],
   "source": []
  }
 ],
 "metadata": {
  "kernelspec": {
   "display_name": "Python 3 (ipykernel)",
   "language": "python",
   "name": "python3"
  },
  "language_info": {
   "codemirror_mode": {
    "name": "ipython",
    "version": 3
   },
   "file_extension": ".py",
   "mimetype": "text/x-python",
   "name": "python",
   "nbconvert_exporter": "python",
   "pygments_lexer": "ipython3",
   "version": "3.10.12"
  }
 },
 "nbformat": 4,
 "nbformat_minor": 5
}

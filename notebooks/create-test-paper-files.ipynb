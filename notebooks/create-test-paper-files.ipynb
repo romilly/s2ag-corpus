{
 "cells": [
  {
   "cell_type": "code",
   "execution_count": 1,
   "id": "cbf980087f800b52",
   "metadata": {
    "ExecuteTime": {
     "end_time": "2024-04-18T14:40:35.118047191Z",
     "start_time": "2024-04-18T14:40:35.011356955Z"
    },
    "collapsed": false,
    "jupyter": {
     "outputs_hidden": false
    }
   },
   "outputs": [],
   "source": [
    "import os\n",
    "import subprocess\n",
    "\n",
    "from dotenv import load_dotenv"
   ]
  },
  {
   "cell_type": "code",
   "execution_count": 2,
   "id": "initial_id",
   "metadata": {
    "ExecuteTime": {
     "end_time": "2024-04-18T14:40:35.212144644Z",
     "start_time": "2024-04-18T14:40:35.115571148Z"
    }
   },
   "outputs": [],
   "source": [
    "load_dotenv()\n",
    "base_dir = os.getenv(\"BASE_DIR\")\n",
    "release_id = \"2024-04-02\"\n",
    "dataset = \"papers\"\n",
    "target_size = 1000000\n",
    "corpus_dir = os.path.join(base_dir, release_id, dataset)\n",
    "test_dir = os.path.join(base_dir, \"test-data\")"
   ]
  },
  {
   "cell_type": "code",
   "execution_count": 3,
   "id": "f583c57bfd5da4e2",
   "metadata": {
    "ExecuteTime": {
     "end_time": "2024-04-18T14:40:35.257133921Z",
     "start_time": "2024-04-18T14:40:35.212039201Z"
    },
    "collapsed": false,
    "jupyter": {
     "outputs_hidden": false
    }
   },
   "outputs": [],
   "source": [
    "if not os.path.exists(test_dir):\n",
    "    os.mkdir(test_dir)"
   ]
  },
  {
   "cell_type": "code",
   "execution_count": 4,
   "id": "80f2dd55-270d-44c3-8984-409c5ae4be48",
   "metadata": {},
   "outputs": [
    {
     "name": "stdout",
     "output_type": "stream",
     "text": [
      "Files have been deleted.\n"
     ]
    }
   ],
   "source": [
    "import os\n",
    "\n",
    "\n",
    "def delete_files_from(directory_path):\n",
    "    # Loop through each entry in the directory\n",
    "    for filename in os.listdir(directory_path):\n",
    "        file_path = os.path.join(directory_path, filename)\n",
    "        try:\n",
    "            if os.path.isfile(file_path) or os.path.islink(file_path):\n",
    "                os.remove(file_path)  # Remove the file\n",
    "            elif os.path.isdir(file_path):\n",
    "                # Optionally, if you want to remove directories, you can use os.rmdir(file_path)\n",
    "                pass\n",
    "        except Exception as e:\n",
    "            print('Failed to delete %s. Reason: %s' % (file_path, e))\n",
    "    \n",
    "    print(\"Files have been deleted.\")\n",
    "\n",
    "delete_files_from(test_dir)\n"
   ]
  },
  {
   "cell_type": "code",
   "execution_count": 5,
   "id": "cc37811bb85b090",
   "metadata": {
    "ExecuteTime": {
     "end_time": "2024-04-18T14:40:35.345420038Z",
     "start_time": "2024-04-18T14:40:35.257685175Z"
    },
    "collapsed": false,
    "jupyter": {
     "outputs_hidden": false
    }
   },
   "outputs": [],
   "source": [
    "# read corpus files, creating test files using the first target_size records in each."
   ]
  },
  {
   "cell_type": "code",
   "execution_count": 6,
   "id": "39c829c7c88735dc",
   "metadata": {
    "ExecuteTime": {
     "end_time": "2024-04-18T14:56:15.528121346Z",
     "start_time": "2024-04-18T14:40:35.347738328Z"
    },
    "collapsed": false,
    "jupyter": {
     "outputs_hidden": false
    }
   },
   "outputs": [
    {
     "name": "stdout",
     "output_type": "stream",
     "text": [
      "/home/romilly/data/ss-corpus/2024-04-02/papers/file0 /home/romilly/data/ss-corpus/test-data/2024-04-02-papers000\n",
      "/home/romilly/data/ss-corpus/2024-04-02/papers/file1 /home/romilly/data/ss-corpus/test-data/2024-04-02-papers001\n",
      "/home/romilly/data/ss-corpus/2024-04-02/papers/file2 /home/romilly/data/ss-corpus/test-data/2024-04-02-papers002\n",
      "/home/romilly/data/ss-corpus/2024-04-02/papers/file3 /home/romilly/data/ss-corpus/test-data/2024-04-02-papers003\n",
      "/home/romilly/data/ss-corpus/2024-04-02/papers/file4 /home/romilly/data/ss-corpus/test-data/2024-04-02-papers004\n"
     ]
    }
   ],
   "source": [
    "for i in range(5):\n",
    "    source_file_name = os.path.join(corpus_dir, f\"file{i}\")\n",
    "    test_file_name = os.path.join(test_dir, f\"{release_id}-{dataset}{i:03d}\")\n",
    "    print(source_file_name, test_file_name)\n",
    "    with open(source_file_name) as sf:\n",
    "        with open(test_file_name, \"w\") as tf:\n",
    "            count = 0\n",
    "            for _ in range(target_size):\n",
    "                line = sf.readline()\n",
    "                if line = '':\n",
    "                    break\n",
    "                tf.write(line)\n",
    "                count += 1\n",
    "    print(f\"copied {count} records from {source_file_name} to {test_file_name})"
   ]
  },
  {
   "cell_type": "code",
   "execution_count": null,
   "id": "c10db507b7adbbb4",
   "metadata": {
    "ExecuteTime": {
     "end_time": "2024-04-18T14:56:15.528453672Z",
     "start_time": "2024-04-18T14:56:15.528015716Z"
    },
    "collapsed": false,
    "jupyter": {
     "outputs_hidden": false
    }
   },
   "outputs": [],
   "source": []
  }
 ],
 "metadata": {
  "kernelspec": {
   "display_name": "Python 3 (ipykernel)",
   "language": "python",
   "name": "python3"
  },
  "language_info": {
   "codemirror_mode": {
    "name": "ipython",
    "version": 3
   },
   "file_extension": ".py",
   "mimetype": "text/x-python",
   "name": "python",
   "nbconvert_exporter": "python",
   "pygments_lexer": "ipython3",
   "version": "3.11.2"
  }
 },
 "nbformat": 4,
 "nbformat_minor": 5
}

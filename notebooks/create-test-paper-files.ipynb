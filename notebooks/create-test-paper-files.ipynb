{
 "cells": [
  {
   "cell_type": "code",
   "execution_count": 11,
   "id": "cbf980087f800b52",
   "metadata": {
    "collapsed": false,
    "ExecuteTime": {
     "end_time": "2024-04-18T14:40:35.118047191Z",
     "start_time": "2024-04-18T14:40:35.011356955Z"
    }
   },
   "outputs": [],
   "source": [
    "import os\n",
    "import subprocess\n",
    "\n",
    "from dotenv import load_dotenv"
   ]
  },
  {
   "cell_type": "code",
   "outputs": [],
   "source": [
    "load_dotenv()\n",
    "base_dir = os.getenv(\"BASE_DIR\")\n",
    "release_id = \"2024-04-02\"\n",
    "dataset = \"papers\"\n",
    "target_size = 1000000 \n",
    "corpus_dir = os.path.join(base_dir, release_id, dataset)\n",
    "test_dir = os.path.join(base_dir, \"test-data\")"
   ],
   "metadata": {
    "collapsed": true,
    "ExecuteTime": {
     "end_time": "2024-04-18T14:40:35.212144644Z",
     "start_time": "2024-04-18T14:40:35.115571148Z"
    }
   },
   "id": "initial_id",
   "execution_count": 12
  },
  {
   "cell_type": "code",
   "outputs": [],
   "source": [
    "if not os.path.exists(test_dir):\n",
    "    os.mkdir(test_dir)"
   ],
   "metadata": {
    "collapsed": false,
    "ExecuteTime": {
     "end_time": "2024-04-18T14:40:35.257133921Z",
     "start_time": "2024-04-18T14:40:35.212039201Z"
    }
   },
   "id": "f583c57bfd5da4e2",
   "execution_count": 13
  },
  {
   "cell_type": "code",
   "outputs": [],
   "source": [
    "# read 10 corpus files, creating test files using the first 100 K records in each."
   ],
   "metadata": {
    "collapsed": false,
    "ExecuteTime": {
     "end_time": "2024-04-18T14:40:35.345420038Z",
     "start_time": "2024-04-18T14:40:35.257685175Z"
    }
   },
   "id": "cc37811bb85b090",
   "execution_count": 14
  },
  {
   "cell_type": "code",
   "outputs": [
    {
     "name": "stdout",
     "output_type": "stream",
     "text": [
      "/media/romilly/ss-corpus/2024-04-02/papers/file0 /media/romilly/ss-corpus/test-data/2024-04-02-papers0\n",
      "/media/romilly/ss-corpus/2024-04-02/papers/file1 /media/romilly/ss-corpus/test-data/2024-04-02-papers1\n",
      "/media/romilly/ss-corpus/2024-04-02/papers/file2 /media/romilly/ss-corpus/test-data/2024-04-02-papers2\n",
      "/media/romilly/ss-corpus/2024-04-02/papers/file3 /media/romilly/ss-corpus/test-data/2024-04-02-papers3\n",
      "/media/romilly/ss-corpus/2024-04-02/papers/file4 /media/romilly/ss-corpus/test-data/2024-04-02-papers4\n",
      "/media/romilly/ss-corpus/2024-04-02/papers/file5 /media/romilly/ss-corpus/test-data/2024-04-02-papers5\n",
      "/media/romilly/ss-corpus/2024-04-02/papers/file6 /media/romilly/ss-corpus/test-data/2024-04-02-papers6\n",
      "/media/romilly/ss-corpus/2024-04-02/papers/file7 /media/romilly/ss-corpus/test-data/2024-04-02-papers7\n",
      "/media/romilly/ss-corpus/2024-04-02/papers/file8 /media/romilly/ss-corpus/test-data/2024-04-02-papers8\n",
      "/media/romilly/ss-corpus/2024-04-02/papers/file9 /media/romilly/ss-corpus/test-data/2024-04-02-papers9\n",
      "/media/romilly/ss-corpus/2024-04-02/papers/file10 /media/romilly/ss-corpus/test-data/2024-04-02-papers10\n",
      "/media/romilly/ss-corpus/2024-04-02/papers/file11 /media/romilly/ss-corpus/test-data/2024-04-02-papers11\n",
      "/media/romilly/ss-corpus/2024-04-02/papers/file12 /media/romilly/ss-corpus/test-data/2024-04-02-papers12\n",
      "/media/romilly/ss-corpus/2024-04-02/papers/file13 /media/romilly/ss-corpus/test-data/2024-04-02-papers13\n",
      "/media/romilly/ss-corpus/2024-04-02/papers/file14 /media/romilly/ss-corpus/test-data/2024-04-02-papers14\n",
      "/media/romilly/ss-corpus/2024-04-02/papers/file15 /media/romilly/ss-corpus/test-data/2024-04-02-papers15\n",
      "/media/romilly/ss-corpus/2024-04-02/papers/file16 /media/romilly/ss-corpus/test-data/2024-04-02-papers16\n",
      "/media/romilly/ss-corpus/2024-04-02/papers/file17 /media/romilly/ss-corpus/test-data/2024-04-02-papers17\n",
      "/media/romilly/ss-corpus/2024-04-02/papers/file18 /media/romilly/ss-corpus/test-data/2024-04-02-papers18\n",
      "/media/romilly/ss-corpus/2024-04-02/papers/file19 /media/romilly/ss-corpus/test-data/2024-04-02-papers19\n",
      "/media/romilly/ss-corpus/2024-04-02/papers/file20 /media/romilly/ss-corpus/test-data/2024-04-02-papers20\n",
      "/media/romilly/ss-corpus/2024-04-02/papers/file21 /media/romilly/ss-corpus/test-data/2024-04-02-papers21\n",
      "/media/romilly/ss-corpus/2024-04-02/papers/file22 /media/romilly/ss-corpus/test-data/2024-04-02-papers22\n",
      "/media/romilly/ss-corpus/2024-04-02/papers/file23 /media/romilly/ss-corpus/test-data/2024-04-02-papers23\n",
      "/media/romilly/ss-corpus/2024-04-02/papers/file24 /media/romilly/ss-corpus/test-data/2024-04-02-papers24\n",
      "/media/romilly/ss-corpus/2024-04-02/papers/file25 /media/romilly/ss-corpus/test-data/2024-04-02-papers25\n",
      "/media/romilly/ss-corpus/2024-04-02/papers/file26 /media/romilly/ss-corpus/test-data/2024-04-02-papers26\n",
      "/media/romilly/ss-corpus/2024-04-02/papers/file27 /media/romilly/ss-corpus/test-data/2024-04-02-papers27\n",
      "/media/romilly/ss-corpus/2024-04-02/papers/file28 /media/romilly/ss-corpus/test-data/2024-04-02-papers28\n",
      "/media/romilly/ss-corpus/2024-04-02/papers/file29 /media/romilly/ss-corpus/test-data/2024-04-02-papers29\n"
     ]
    }
   ],
   "source": [
    "for i in range(30):\n",
    "    source_file_name = os.path.join(corpus_dir, f\"file{i}\")\n",
    "    test_file_name = os.path.join(test_dir, f\"{release_id}-{dataset}{i}\")\n",
    "    print(source_file_name, test_file_name)\n",
    "    with open(source_file_name) as sf:\n",
    "        with open(test_file_name, \"w\") as tf:\n",
    "            for _ in range(target_size):\n",
    "                line = sf.readline()\n",
    "                tf.write(line)"
   ],
   "metadata": {
    "collapsed": false,
    "ExecuteTime": {
     "end_time": "2024-04-18T14:56:15.528121346Z",
     "start_time": "2024-04-18T14:40:35.347738328Z"
    }
   },
   "id": "39c829c7c88735dc",
   "execution_count": 15
  },
  {
   "cell_type": "code",
   "outputs": [],
   "source": [],
   "metadata": {
    "collapsed": false,
    "ExecuteTime": {
     "end_time": "2024-04-18T14:56:15.528453672Z",
     "start_time": "2024-04-18T14:56:15.528015716Z"
    }
   },
   "id": "c10db507b7adbbb4",
   "execution_count": 15
  }
 ],
 "metadata": {
  "kernelspec": {
   "display_name": "Python 3",
   "language": "python",
   "name": "python3"
  },
  "language_info": {
   "codemirror_mode": {
    "name": "ipython",
    "version": 2
   },
   "file_extension": ".py",
   "mimetype": "text/x-python",
   "name": "python",
   "nbconvert_exporter": "python",
   "pygments_lexer": "ipython2",
   "version": "2.7.6"
  }
 },
 "nbformat": 4,
 "nbformat_minor": 5
}

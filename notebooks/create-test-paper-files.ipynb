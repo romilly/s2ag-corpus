{
 "cells": [
  {
   "cell_type": "code",
   "execution_count": 1,
   "id": "cbf980087f800b52",
   "metadata": {
    "collapsed": false,
    "ExecuteTime": {
     "end_time": "2024-04-18T09:56:07.468441153Z",
     "start_time": "2024-04-18T09:56:07.467952216Z"
    }
   },
   "outputs": [],
   "source": [
    "import os\n",
    "import subprocess\n",
    "\n",
    "from dotenv import load_dotenv"
   ]
  },
  {
   "cell_type": "code",
   "outputs": [],
   "source": [
    "load_dotenv()\n",
    "base_dir = os.getenv(\"BASE_DIR\")\n",
    "release_id = \"2024-04-02\"\n",
    "dataset = \"papers\"\n",
    "target_size = 100000 # one hundred thousand for now.\n",
    "corpus_dir = os.path.join(base_dir, release_id, dataset)\n",
    "test_dir = os.path.join(base_dir, \"test-data\")"
   ],
   "metadata": {
    "collapsed": true,
    "ExecuteTime": {
     "end_time": "2024-04-18T10:20:50.807544660Z",
     "start_time": "2024-04-18T10:20:50.803249341Z"
    }
   },
   "id": "initial_id",
   "execution_count": 7
  },
  {
   "cell_type": "code",
   "outputs": [],
   "source": [
    "if not os.path.exists(test_dir):\n",
    "    os.mkdir(test_dir)"
   ],
   "metadata": {
    "collapsed": false,
    "ExecuteTime": {
     "end_time": "2024-04-18T09:56:11.086204867Z",
     "start_time": "2024-04-18T09:56:11.084536308Z"
    }
   },
   "id": "f583c57bfd5da4e2",
   "execution_count": 3
  },
  {
   "cell_type": "code",
   "outputs": [],
   "source": [
    "# read 10 corpus files, creating test files using the first 100 K records in each."
   ],
   "metadata": {
    "collapsed": false,
    "ExecuteTime": {
     "end_time": "2024-04-18T09:56:14.362952056Z",
     "start_time": "2024-04-18T09:56:14.359928911Z"
    }
   },
   "id": "cc37811bb85b090",
   "execution_count": 4
  },
  {
   "cell_type": "code",
   "outputs": [
    {
     "name": "stdout",
     "output_type": "stream",
     "text": [
      "/media/romilly/ss-corpus/2024-04-02/papers/file0 /media/romilly/ss-corpus/test-data/2024-04-02-papers0\n",
      "/media/romilly/ss-corpus/2024-04-02/papers/file1 /media/romilly/ss-corpus/test-data/2024-04-02-papers1\n",
      "/media/romilly/ss-corpus/2024-04-02/papers/file2 /media/romilly/ss-corpus/test-data/2024-04-02-papers2\n",
      "/media/romilly/ss-corpus/2024-04-02/papers/file3 /media/romilly/ss-corpus/test-data/2024-04-02-papers3\n",
      "/media/romilly/ss-corpus/2024-04-02/papers/file4 /media/romilly/ss-corpus/test-data/2024-04-02-papers4\n",
      "/media/romilly/ss-corpus/2024-04-02/papers/file5 /media/romilly/ss-corpus/test-data/2024-04-02-papers5\n",
      "/media/romilly/ss-corpus/2024-04-02/papers/file6 /media/romilly/ss-corpus/test-data/2024-04-02-papers6\n",
      "/media/romilly/ss-corpus/2024-04-02/papers/file7 /media/romilly/ss-corpus/test-data/2024-04-02-papers7\n",
      "/media/romilly/ss-corpus/2024-04-02/papers/file8 /media/romilly/ss-corpus/test-data/2024-04-02-papers8\n",
      "/media/romilly/ss-corpus/2024-04-02/papers/file9 /media/romilly/ss-corpus/test-data/2024-04-02-papers9\n"
     ]
    }
   ],
   "source": [
    "for i in range(10):\n",
    "    source_file_name = os.path.join(corpus_dir, f\"file{i}\")\n",
    "    test_file_name = os.path.join(test_dir, f\"{release_id}-{dataset}{i}\")\n",
    "    print(source_file_name, test_file_name)\n",
    "    with open(source_file_name) as sf:\n",
    "        with open(test_file_name, \"w\") as tf:\n",
    "            for _ in range(target_size):\n",
    "                line = sf.readline()\n",
    "                tf.write(line)"
   ],
   "metadata": {
    "collapsed": false,
    "ExecuteTime": {
     "end_time": "2024-04-18T10:22:45.376536166Z",
     "start_time": "2024-04-18T10:22:21.515368578Z"
    }
   },
   "id": "39c829c7c88735dc",
   "execution_count": 9
  },
  {
   "cell_type": "code",
   "outputs": [],
   "source": [],
   "metadata": {
    "collapsed": false
   },
   "id": "c10db507b7adbbb4"
  }
 ],
 "metadata": {
  "kernelspec": {
   "display_name": "Python 3",
   "language": "python",
   "name": "python3"
  },
  "language_info": {
   "codemirror_mode": {
    "name": "ipython",
    "version": 2
   },
   "file_extension": ".py",
   "mimetype": "text/x-python",
   "name": "python",
   "nbconvert_exporter": "python",
   "pygments_lexer": "ipython2",
   "version": "2.7.6"
  }
 },
 "nbformat": 4,
 "nbformat_minor": 5
}
